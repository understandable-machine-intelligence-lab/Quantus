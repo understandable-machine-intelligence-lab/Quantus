{
 "cells": [
  {
   "cell_type": "code",
   "execution_count": null,
   "metadata": {
    "collapsed": true
   },
   "outputs": [],
   "source": [
    "## This notebook shows the functionality of the RobustnessTest.\n"
   ]
  },
  {
   "cell_type": "code",
   "execution_count": null,
   "outputs": [],
   "source": [
    "#import xaiquantificationtoolbox\n",
    "import torch\n",
    "import numpy as np\n",
    "import h5py\n",
    "from captum.attr import Saliency, IntegratedGradients\n",
    "from ...xai_quantification_toolbox.measures.robustness_test import *\n",
    "from ...xai_quantification_toolbox.loaders.model_interface import *\n",
    "from ...xai_quantification_toolbox.quantifier.base import *\n",
    "from ....NoiseGrad.src.models import ResNet18"
   ],
   "metadata": {
    "collapsed": false,
    "pycharm": {
     "name": "#%%\n"
    }
   }
  },
  {
   "cell_type": "code",
   "execution_count": null,
   "outputs": [],
   "source": [
    "### Load model, data and attributions."
   ],
   "metadata": {
    "collapsed": false,
    "pycharm": {
     "name": "#%%\n"
    }
   }
  },
  {
   "cell_type": "code",
   "execution_count": null,
   "outputs": [],
   "source": [
    "# Load trained pytorch model.\n",
    "model = ResNet18()\n",
    "model.load_state_dict(torch.load(\"PATH_TO_LEARNED_PARAMETERS\"))\n",
    "model.eval()\n",
    "model = ModelInterface()\n",
    "\n",
    "# Load data, targets and attributions.\n",
    "x_batch, y_batch = torch.load(\"PATH_TO_TEST_LOADER\")\n",
    "a_batch_saliency = Saliency(model).attribute(inputs=x_batch, targets=y_batch, abs=True)"
   ],
   "metadata": {
    "collapsed": false,
    "pycharm": {
     "name": "#%%\n"
    }
   }
  },
  {
   "cell_type": "code",
   "execution_count": null,
   "outputs": [],
   "source": [
    "### Option 1. Evaluate the robustness of attributions in one line of code."
   ],
   "metadata": {
    "collapsed": false,
    "pycharm": {
     "name": "#%%\n"
    }
   }
  },
  {
   "cell_type": "code",
   "execution_count": null,
   "outputs": [],
   "source": [
    "# One-liner to measure robustness of provided attributions.\n",
    "scores = RobustnessTest(**{\n",
    "    \"similarity_function\": lipschitz_constant,\n",
    "    \"perturbation_function\": gaussian_blur,\n",
    "})(model=model, x_batch=x_batch, y_batch=y_batch, a_batch=a_batch_saliency)"
   ],
   "metadata": {
    "collapsed": false,
    "pycharm": {
     "name": "#%%\n"
    }
   }
  },
  {
   "cell_type": "code",
   "execution_count": null,
   "outputs": [],
   "source": [
    "### Option 2. Evaluate the robustness of provided attributions while enjoying more functionality of Quantifier and Graph."
   ],
   "metadata": {
    "collapsed": false,
    "pycharm": {
     "name": "#%%\n"
    }
   }
  },
  {
   "cell_type": "code",
   "execution_count": null,
   "outputs": [],
   "source": [
    "# Specify the tests.\n",
    "tests = [RobustnessTest(**{\n",
    "    \"similarity_function\": similarity_fn,\n",
    "    \"perturbation_function\": gaussian_blur,\n",
    "}) for similarity_fn in [lipschitz_constant, distance_euclidean, cosine]]\n",
    "\n",
    "# Load attributions of another explanation method.\n",
    "a_batch_intgrad = IntegratedGradients(model).attribute(inputs=x_batch, targets=y_batch)\n",
    "\n",
    "# Init the quantifier object.\n",
    "quantifier = Quantifier(measures=tests, io_object=h5py.File(\"PATH_TO_H5PY_FILE\"), checkpoints=..)\n",
    "\n",
    "# Score the tests.\n",
    "results = [quantifier.score(model=model, x_batch=x_batch, y_batch=y_batch, a_batch=a_batch)\n",
    "           for a_batch in [a_batch_saliency, a_batch_intgrad]]\n",
    "\n",
    "# Plot Saliency vs Integrated Gradients.\n",
    "Plotting(results, show=False, path_to_save=\"PATH_TO_SAVE_FIGURE\")\n",
    "\n",
    "\n"
   ],
   "metadata": {
    "collapsed": false,
    "pycharm": {
     "name": "#%%\n"
    }
   }
  }
 ],
 "metadata": {
  "kernelspec": {
   "display_name": "Python 3",
   "language": "python",
   "name": "python3"
  },
  "language_info": {
   "codemirror_mode": {
    "name": "ipython",
    "version": 2
   },
   "file_extension": ".py",
   "mimetype": "text/x-python",
   "name": "python",
   "nbconvert_exporter": "python",
   "pygments_lexer": "ipython2",
   "version": "2.7.6"
  }
 },
 "nbformat": 4,
 "nbformat_minor": 0
}