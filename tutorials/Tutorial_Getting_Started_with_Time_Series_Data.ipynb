{
 "cells": [
  {
   "cell_type": "markdown",
   "metadata": {
    "id": "bukochgPFg7s"
   },
   "source": [
    "# Getting Started!\n",
    "[![Binder](https://mybinder.org/badge_logo.svg)](https://mybinder.org/v2/gh/understandable-machine-intelligence-lab/Quantus/main?labpath=tutorials%2FTutorial_Getting_Started_with_Time_Series_Data.ipynb)\n",
    "\n",
    "\n",
    "This notebook shows how to get started with Quantus using time series data.\n",
    "\n",
    "For this purpose, we use the 1D analogue of the [MNIST dataset](https://github.com/greydanus/mnist1d) (authored, Sam Greydanus) and a [CNN model](https://github.com/greydanus/mnist1d/blob/master/models.py#L36) taken from the same repository."
   ]
  },
  {
   "cell_type": "code",
   "execution_count": 1,
   "metadata": {
    "id": "4Y7_mNf9Bic0"
   },
   "outputs": [],
   "source": [
    "from IPython.display import clear_output\n",
    "\n",
    "!python -m pip install quantus torch captum\n",
    "clear_output()"
   ]
  },
  {
   "cell_type": "code",
   "execution_count": 3,
   "metadata": {
    "id": "RV7X-Ss9-16F"
   },
   "outputs": [],
   "source": [
    "import pickle\n",
    "import urllib.request\n",
    "import numpy as np\n",
    "\n",
    "import quantus\n",
    "from captum.attr import IntegratedGradients\n",
    "import torch\n",
    "import torch.nn as nn\n",
    "\n",
    "torch.manual_seed(27)\n",
    "\n",
    "# Set seeds.\n",
    "clear_output()\n",
    "np.random.seed(27)"
   ]
  },
  {
   "cell_type": "markdown",
   "metadata": {
    "id": "mGhP4bTuoWYF"
   },
   "source": [
    "## 1) Preliminaries"
   ]
  },
  {
   "cell_type": "markdown",
   "metadata": {
    "id": "XqKzag4VFjHT"
   },
   "source": [
    "### 1.1 Load datasets\n",
    "\n",
    "We load the dataset via urllib and pickle.\n",
    "Alternatively, it can be downloaded directly from the github repository: https://github.com/greydanus/mnist1d"
   ]
  },
  {
   "cell_type": "code",
   "execution_count": 4,
   "metadata": {},
   "outputs": [
    {
     "data": {
      "text/plain": "dict_keys(['x', 'x_test', 'y', 'y_test', 't', 'templates'])"
     },
     "execution_count": 4,
     "metadata": {},
     "output_type": "execute_result"
    }
   ],
   "source": [
    "mnist_url = \"https://github.com/greydanus/mnist1d/blob/master/mnist1d_data.pkl?raw=true\"\n",
    "mnist1d_data = pickle.load(urllib.request.urlopen(mnist_url))\n",
    "mnist1d_data.keys()"
   ]
  },
  {
   "cell_type": "code",
   "execution_count": 5,
   "metadata": {},
   "outputs": [
    {
     "name": "stdout",
     "output_type": "stream",
     "text": [
      "train_features.shape = (4000, 40)\n",
      "train_labels.shape = (4000,)\n",
      "test_features.shape = (1000, 40)\n",
      "test_labels.shape = (1000,)\n"
     ]
    }
   ],
   "source": [
    "train_features = mnist1d_data[\"x\"]\n",
    "train_labels = mnist1d_data[\"y\"]\n",
    "test_features = mnist1d_data[\"x_test\"]\n",
    "test_labels = mnist1d_data[\"y_test\"]\n",
    "\n",
    "print(f\"{train_features.shape = }\")\n",
    "print(f\"{train_labels.shape = }\")\n",
    "print(f\"{test_features.shape = }\")\n",
    "print(f\"{test_labels.shape = }\")"
   ]
  },
  {
   "cell_type": "markdown",
   "metadata": {
    "id": "vmccxpA0n6MY"
   },
   "source": [
    "### 1.2 Train a model"
   ]
  },
  {
   "cell_type": "markdown",
   "metadata": {},
   "source": [
    "The model is based on the model provided by the mnist1d repository:\n",
    "\n",
    "https://github.com/greydanus/mnist1d/blob/master/models.py#L36"
   ]
  },
  {
   "cell_type": "code",
   "execution_count": 6,
   "metadata": {},
   "outputs": [],
   "source": [
    "class ConvBase(nn.Module):\n",
    "    def __init__(self, output_size, channels=25, linear_in=125):\n",
    "        super(ConvBase, self).__init__()\n",
    "        self.conv1 = nn.Conv1d(1, channels, 5, stride=2, padding=1)\n",
    "        self.conv2 = nn.Conv1d(channels, channels, 3, stride=2, padding=1)\n",
    "        self.conv3 = nn.Conv1d(channels, channels, 3, stride=2, padding=1)\n",
    "        self.linear = nn.Linear(\n",
    "            linear_in, output_size\n",
    "        )  # flattened channels -> 10 (assumes input has dim 50)\n",
    "        print(\n",
    "            \"Initialized ConvBase model with {} parameters\".format(self.count_params())\n",
    "        )\n",
    "\n",
    "    def count_params(self):\n",
    "        return sum([p.view(-1).shape[0] for p in self.parameters()])\n",
    "\n",
    "    def forward(self, x, verbose=False):\n",
    "        x = x.view(-1, 1, x.shape[-1])\n",
    "        h1 = self.conv1(x).relu()\n",
    "        h2 = self.conv2(h1).relu()\n",
    "        h3 = self.conv3(h2).relu()\n",
    "        h3 = h3.view(h3.shape[0], -1)\n",
    "        return self.linear(h3)"
   ]
  },
  {
   "cell_type": "code",
   "execution_count": 7,
   "metadata": {},
   "outputs": [
    {
     "name": "stdout",
     "output_type": "stream",
     "text": [
      "Initialized ConvBase model with 8990 parameters\n",
      "Epoch 1/200 => Loss: 3.71\n",
      "Epoch 21/200 => Loss: 1.50\n",
      "Epoch 41/200 => Loss: 1.12\n",
      "Epoch 61/200 => Loss: 1.39\n",
      "Epoch 81/200 => Loss: 0.66\n",
      "Epoch 101/200 => Loss: 0.46\n",
      "Epoch 121/200 => Loss: 0.38\n",
      "Epoch 141/200 => Loss: 0.35\n",
      "Epoch 161/200 => Loss: 0.20\n",
      "Epoch 181/200 => Loss: 0.75\n"
     ]
    }
   ],
   "source": [
    "# Load the model.\n",
    "net = ConvBase(output_size=40)\n",
    "\n",
    "# Set training configs.\n",
    "criterion = nn.CrossEntropyLoss()\n",
    "num_epochs = 200\n",
    "optimizer = torch.optim.Adam(net.parameters(), lr=0.1)\n",
    "input_tensor = torch.from_numpy(train_features).type(torch.FloatTensor)\n",
    "label_tensor = torch.from_numpy(train_labels)\n",
    "\n",
    "# Train model!\n",
    "for epoch in range(num_epochs):\n",
    "    output = net(input_tensor)\n",
    "    loss = criterion(output, label_tensor)\n",
    "    optimizer.zero_grad()\n",
    "    loss.backward()\n",
    "    optimizer.step()\n",
    "    if epoch % 20 == 0:\n",
    "        print(\"Epoch {}/{} => Loss: {:.2f}\".format(epoch + 1, num_epochs, loss.item()))"
   ]
  },
  {
   "cell_type": "code",
   "execution_count": 8,
   "metadata": {},
   "outputs": [
    {
     "name": "stdout",
     "output_type": "stream",
     "text": [
      "Train Accuracy: 0.865\n"
     ]
    }
   ],
   "source": [
    "# Reformat the train set predictions.\n",
    "out_probs = net(input_tensor).detach().numpy()\n",
    "out_classes = np.argmax(out_probs, axis=1)\n",
    "print(\"Train Accuracy:\", sum(out_classes == train_labels) / len(train_labels))"
   ]
  },
  {
   "cell_type": "code",
   "execution_count": 9,
   "metadata": {},
   "outputs": [
    {
     "name": "stdout",
     "output_type": "stream",
     "text": [
      "Test Accuracy: 0.812\n"
     ]
    }
   ],
   "source": [
    "# Reformat the test set predictions.\n",
    "test_input_tensor = torch.from_numpy(test_features).type(torch.FloatTensor)\n",
    "out_probs = net(test_input_tensor).detach().numpy()\n",
    "out_classes = np.argmax(out_probs, axis=1)\n",
    "print(\"Test Accuracy:\", sum(out_classes == test_labels) / len(test_labels))"
   ]
  },
  {
   "cell_type": "markdown",
   "metadata": {
    "id": "4vY9mZQanaxr"
   },
   "source": [
    "### 1.3 Generate explanations\n",
    "\n",
    "In this example, we rely on the `captum` library. We use the Integrated Gradients method."
   ]
  },
  {
   "cell_type": "code",
   "execution_count": 10,
   "metadata": {},
   "outputs": [],
   "source": [
    "# Load Integrated Gradients.\n",
    "ig = IntegratedGradients(net)\n",
    "\n",
    "# Reformat attributions.\n",
    "test_input_tensor.requires_grad_()\n",
    "attr, delta = ig.attribute(test_input_tensor, target=1, return_convergence_delta=True)\n",
    "attr = attr.detach().numpy()"
   ]
  },
  {
   "cell_type": "markdown",
   "metadata": {
    "id": "tuBkEBv3mihR"
   },
   "source": [
    "## 2) Quantative evaluation using Quantus\n",
    "\n",
    "We can evaluate our explanations on a variety of quantuative criteria but as a motivating example we test the ModelParameterRandomisation scores by Adebayo et al., 2018 and Complexity Bhatt et al., 2020.\n",
    "\n",
    "The ModelParameterRandomisation metric measures the distance between the original attribution and a newly computed attribution throughout the process of cascadingly/independently randomizing the model parameters of one layer at a time.\n",
    "\n",
    "The Complexity of attributions is defined as the entropy of the fractional contribution of feature x_i to the total\n",
    "magnitude of the attribution."
   ]
  },
  {
   "cell_type": "code",
   "execution_count": 11,
   "metadata": {
    "id": "aLjrKsT6mS9X"
   },
   "outputs": [],
   "source": [
    "# For Quantus, make sure to reshape the data by adding a (1) channel\n",
    "test_features = test_features.reshape(1000, 1, 40)"
   ]
  },
  {
   "cell_type": "code",
   "execution_count": 12,
   "outputs": [
    {
     "data": {
      "text/plain": "  0%|          | 0/4 [00:00<?, ?it/s]",
      "application/vnd.jupyter.widget-view+json": {
       "version_major": 2,
       "version_minor": 0,
       "model_id": "6879a9d0494241acae1a14594a2ac500"
      }
     },
     "metadata": {},
     "output_type": "display_data"
    },
    {
     "name": "stdout",
     "output_type": "stream",
     "text": [
      "ModelParameterRandomisation scores by Adebayo et al., 2018\n",
      "\n",
      " • Integrated Gradient =  [0.7655924997956273]\n"
     ]
    }
   ],
   "source": [
    "# Return ModelParameterRandomisation scores for Integrated Gradients.\n",
    "scores_intgrad = quantus.ModelParameterRandomisation(\n",
    "    similarity_func=quantus.similarity_func.correlation_spearman,\n",
    "    return_sample_correlation=True,\n",
    "    return_aggregate=True,\n",
    "    aggregate_func=np.mean,\n",
    "    layer_order=\"independent\",\n",
    "    disable_warnings=True,\n",
    "    normalise=True,\n",
    "    abs=True,\n",
    "    display_progressbar=True,\n",
    ")(\n",
    "    model=net,\n",
    "    x_batch=test_features,\n",
    "    y_batch=test_labels,\n",
    "    a_batch=None,\n",
    "    explain_func=quantus.explain,\n",
    "    explain_func_kwargs={\n",
    "        \"method\": \"IntegratedGradients\",\n",
    "    },\n",
    ")\n",
    "print(\n",
    "    f\"ModelParameterRandomisation scores by Adebayo et al., 2018\\n\"\n",
    "    f\"\\n • Integrated Gradient = \",\n",
    "    scores_intgrad,\n",
    ")"
   ],
   "metadata": {
    "collapsed": false
   }
  },
  {
   "cell_type": "code",
   "execution_count": 13,
   "metadata": {
    "colab": {
     "base_uri": "https://localhost:8080/"
    },
    "executionInfo": {
     "elapsed": 4,
     "status": "ok",
     "timestamp": 1665171594087,
     "user": {
      "displayName": "Anna Hedström",
      "userId": "05540180366077551505"
     },
     "user_tz": -120
    },
    "id": "3kBrG51Lpuq9",
    "outputId": "5de8efa5-03ac-433d-ec7b-ead66740a545"
   },
   "outputs": [
    {
     "data": {
      "text/plain": "Evaluating Complexity:   0%|          | 0/1000 [00:00<?, ?it/s]",
      "application/vnd.jupyter.widget-view+json": {
       "version_major": 2,
       "version_minor": 0,
       "model_id": "0c213eb93317453487d16f7496e38ee1"
      }
     },
     "metadata": {},
     "output_type": "display_data"
    },
    {
     "name": "stdout",
     "output_type": "stream",
     "text": [
      "Complexity Bhatt et al., 2020.\n",
      "\n",
      " • Integrated Gradient =  [1.922484145167385]\n"
     ]
    }
   ],
   "source": [
    "complexity_intgrad = quantus.Complexity(\n",
    "    normalise=True,\n",
    "    abs=True,\n",
    "    disable_warnings=True,\n",
    "    display_progressbar=True,\n",
    "    return_aggregate=True,\n",
    ")(\n",
    "    model=net,\n",
    "    x_batch=test_features,\n",
    "    y_batch=test_labels,\n",
    "    a_batch=None,\n",
    "    explain_func=quantus.explain,\n",
    "    explain_func_kwargs={\"method\": \"IntegratedGradients\", \"reduce_axes\": ()},\n",
    ")\n",
    "\n",
    "print(\n",
    "    f\"Complexity Bhatt et al., 2020.\\n\" f\"\\n • Integrated Gradient = \",\n",
    "    complexity_intgrad,\n",
    ")"
   ]
  },
  {
   "cell_type": "code",
   "execution_count": null,
   "outputs": [],
   "source": [],
   "metadata": {
    "collapsed": false
   }
  }
 ],
 "metadata": {
  "accelerator": "GPU",
  "colab": {
   "collapsed_sections": [],
   "machine_shape": "hm",
   "provenance": []
  },
  "gpuClass": "standard",
  "kernelspec": {
   "display_name": "Python 3 (ipykernel)",
   "language": "python",
   "name": "python3"
  },
  "language_info": {
   "codemirror_mode": {
    "name": "ipython",
    "version": 3
   },
   "file_extension": ".py",
   "mimetype": "text/x-python",
   "name": "python",
   "nbconvert_exporter": "python",
   "pygments_lexer": "ipython3",
   "version": "3.10.7"
  }
 },
 "nbformat": 4,
 "nbformat_minor": 1
}
