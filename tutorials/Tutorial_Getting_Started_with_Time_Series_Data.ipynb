{
 "cells": [
  {
   "cell_type": "markdown",
   "metadata": {
    "id": "bukochgPFg7s"
   },
   "source": [
    "# Getting Started!\n",
    "\n",
    "This notebook shows how to get started with Quantus using time series data.\n",
    "For this purpose, we use the 1D analogou of the MNIST dataset (Sam Greydanus):\n",
    "\n",
    "https://github.com/greydanus/mnist1d\n",
    "\n",
    "The model in this notebook is a CNN taken from the same repository:\n",
    "\n",
    "https://github.com/greydanus/mnist1d/blob/master/models.py#L36"
   ]
  },
  {
   "cell_type": "code",
   "execution_count": 1,
   "metadata": {
    "pycharm": {
     "is_executing": true,
     "name": "#%%\n"
    }
   },
   "outputs": [],
   "source": [
    "from IPython.display import clear_output"
   ]
  },
  {
   "cell_type": "code",
   "execution_count": 2,
   "metadata": {
    "id": "4Y7_mNf9Bic0"
   },
   "outputs": [
    {
     "name": "stdout",
     "output_type": "stream",
     "text": [
      "Defaulting to user installation because normal site-packages is not writeable\n",
      "Requirement already satisfied: quantus in /home/krakowczyk/.local/lib/python3.10/site-packages (0.2.2)\n",
      "Requirement already satisfied: torch in /home/krakowczyk/.local/lib/python3.10/site-packages (1.12.0)\n",
      "Requirement already satisfied: captum in /home/krakowczyk/.local/lib/python3.10/site-packages (0.5.0)\n",
      "Requirement already satisfied: protobuf~=3.19.0 in /home/krakowczyk/.local/lib/python3.10/site-packages (from quantus) (3.19.6)\n",
      "Requirement already satisfied: scikit-image==0.19.1 in /home/krakowczyk/.local/lib/python3.10/site-packages (from quantus) (0.19.1)\n",
      "Requirement already satisfied: opencv-python==4.5.5.62 in /home/krakowczyk/.local/lib/python3.10/site-packages (from quantus) (4.5.5.62)\n",
      "Requirement already satisfied: tqdm==4.62.3 in /home/krakowczyk/.local/lib/python3.10/site-packages (from quantus) (4.62.3)\n",
      "Requirement already satisfied: numpy>=1.19.5 in /home/krakowczyk/.local/lib/python3.10/site-packages (from quantus) (1.22.4)\n",
      "Requirement already satisfied: matplotlib==3.3.4 in /home/krakowczyk/.local/lib/python3.10/site-packages (from quantus) (3.3.4)\n",
      "Requirement already satisfied: scikit-learn==0.24.2 in /home/krakowczyk/.local/lib/python3.10/site-packages (from quantus) (0.24.2)\n",
      "Requirement already satisfied: termcolor==1.1.0 in /home/krakowczyk/.local/lib/python3.10/site-packages (from quantus) (1.1.0)\n",
      "Requirement already satisfied: scipy==1.7.3 in /home/krakowczyk/.local/lib/python3.10/site-packages (from quantus) (1.7.3)\n",
      "Requirement already satisfied: pillow>=6.2.0 in /usr/lib/python3.10/site-packages (from matplotlib==3.3.4->quantus) (9.2.0)\n",
      "Requirement already satisfied: cycler>=0.10 in /home/krakowczyk/.local/lib/python3.10/site-packages (from matplotlib==3.3.4->quantus) (0.11.0)\n",
      "Requirement already satisfied: pyparsing!=2.0.4,!=2.1.2,!=2.1.6,>=2.0.3 in /usr/lib/python3.10/site-packages (from matplotlib==3.3.4->quantus) (3.0.9)\n",
      "Requirement already satisfied: python-dateutil>=2.1 in /usr/lib/python3.10/site-packages (from matplotlib==3.3.4->quantus) (2.8.2)\n",
      "Requirement already satisfied: kiwisolver>=1.0.1 in /home/krakowczyk/.local/lib/python3.10/site-packages (from matplotlib==3.3.4->quantus) (1.4.4)\n",
      "Requirement already satisfied: imageio>=2.4.1 in /home/krakowczyk/.local/lib/python3.10/site-packages (from scikit-image==0.19.1->quantus) (2.19.5)\n",
      "Requirement already satisfied: tifffile>=2019.7.26 in /home/krakowczyk/.local/lib/python3.10/site-packages (from scikit-image==0.19.1->quantus) (2022.5.4)\n",
      "Requirement already satisfied: PyWavelets>=1.1.1 in /home/krakowczyk/.local/lib/python3.10/site-packages (from scikit-image==0.19.1->quantus) (1.3.0)\n",
      "Requirement already satisfied: packaging>=20.0 in /usr/lib/python3.10/site-packages (from scikit-image==0.19.1->quantus) (21.3)\n",
      "Requirement already satisfied: networkx>=2.2 in /home/krakowczyk/.local/lib/python3.10/site-packages (from scikit-image==0.19.1->quantus) (2.8.5)\n",
      "Requirement already satisfied: joblib>=0.11 in /home/krakowczyk/.local/lib/python3.10/site-packages (from scikit-learn==0.24.2->quantus) (1.1.0)\n",
      "Requirement already satisfied: threadpoolctl>=2.0.0 in /home/krakowczyk/.local/lib/python3.10/site-packages (from scikit-learn==0.24.2->quantus) (3.1.0)\n",
      "Requirement already satisfied: typing-extensions in /usr/lib/python3.10/site-packages (from torch) (4.3.0)\n",
      "Requirement already satisfied: six>=1.5 in /usr/lib/python3.10/site-packages (from python-dateutil>=2.1->matplotlib==3.3.4->quantus) (1.16.0)\n"
     ]
    }
   ],
   "source": [
    "!python -m pip install quantus torch captum\n",
    " \n",
    "#clear_output()"
   ]
  },
  {
   "cell_type": "code",
   "execution_count": 15,
   "metadata": {
    "id": "RV7X-Ss9-16F"
   },
   "outputs": [],
   "source": [
    "import urllib.request\n",
    "import pathlib\n",
    "import pickle\n",
    "\n",
    "import numpy as np\n",
    "import pandas as pd\n",
    "\n",
    "#import quantus\n",
    "#from captum.attr import IntegratedGradients\n",
    "\n",
    "import torch\n",
    "import torch.nn as nn\n",
    "#from torch.utils.data import Dataset, Dataloader\n",
    "torch.manual_seed(27)\n",
    "\n",
    "clear_output()\n",
    "\n",
    "np.random.seed(27)"
   ]
  },
  {
   "cell_type": "markdown",
   "metadata": {
    "id": "mGhP4bTuoWYF"
   },
   "source": [
    "## 1) Preliminaries"
   ]
  },
  {
   "cell_type": "markdown",
   "metadata": {
    "id": "XqKzag4VFjHT"
   },
   "source": [
    "### 1.1 Load datasets\n",
    "\n",
    "We load the dataset using the tensorflow-datasets library. Alternatively, it can be downloaded directly from the OpenML website: https://www.openml.org/d/40945"
   ]
  },
  {
   "cell_type": "code",
   "execution_count": 16,
   "metadata": {},
   "outputs": [
    {
     "data": {
      "text/plain": [
       "dict_keys(['x', 'x_test', 'y', 'y_test', 't', 'templates'])"
      ]
     },
     "execution_count": 16,
     "metadata": {},
     "output_type": "execute_result"
    }
   ],
   "source": [
    "mnist1d_data = pickle.load(urllib.request.urlopen(\"https://github.com/greydanus/mnist1d/blob/master/mnist1d_data.pkl?raw=true\"))\n",
    "mnist1d_data.keys()"
   ]
  },
  {
   "cell_type": "code",
   "execution_count": 17,
   "metadata": {},
   "outputs": [
    {
     "name": "stdout",
     "output_type": "stream",
     "text": [
      "train_features.shape = (4000, 40)\n",
      "train_labels.shape = (4000,)\n",
      "test_features.shape = (1000, 40)\n",
      "test_labels.shape = (1000,)\n"
     ]
    }
   ],
   "source": [
    "train_features = mnist1d_data['x']\n",
    "train_labels = mnist1d_data['y']\n",
    "test_features = mnist1d_data['x_test']\n",
    "test_labels = mnist1d_data['y_test']\n",
    "\n",
    "print(f'{train_features.shape = }')\n",
    "print(f'{train_labels.shape = }')\n",
    "print(f'{test_features.shape = }')\n",
    "print(f'{test_labels.shape = }')\n"
   ]
  },
  {
   "cell_type": "code",
   "execution_count": null,
   "metadata": {
    "id": "TmsZxFhuc0mm"
   },
   "outputs": [],
   "source": [
    "# Create datasets\n"
   ]
  },
  {
   "cell_type": "markdown",
   "metadata": {
    "id": "vmccxpA0n6MY"
   },
   "source": [
    "### 1.2 Train a model"
   ]
  },
  {
   "cell_type": "markdown",
   "metadata": {},
   "source": [
    "The model is based on the model provided by the mnist1d repository:\n",
    "\n",
    "https://github.com/greydanus/mnist1d/blob/master/models.py#L36"
   ]
  },
  {
   "cell_type": "code",
   "execution_count": 18,
   "metadata": {},
   "outputs": [],
   "source": [
    "class ConvBase(nn.Module):\n",
    "    def __init__(self, output_size, channels=25, linear_in=125):\n",
    "        super(ConvBase, self).__init__()\n",
    "        self.conv1 = nn.Conv1d(1, channels, 5, stride=2, padding=1)\n",
    "        self.conv2 = nn.Conv1d(channels, channels, 3, stride=2, padding=1)\n",
    "        self.conv3 = nn.Conv1d(channels, channels, 3, stride=2, padding=1)\n",
    "        self.linear = nn.Linear(linear_in, output_size) # flattened channels -> 10 (assumes input has dim 50)\n",
    "        print(\"Initialized ConvBase model with {} parameters\".format(self.count_params()))\n",
    "\n",
    "    def count_params(self):\n",
    "        return sum([p.view(-1).shape[0] for p in self.parameters()])\n",
    "\n",
    "    def forward(self, x, verbose=False): # the print statements are for debugging\n",
    "        x = x.view(-1,1,x.shape[-1])\n",
    "        h1 = self.conv1(x).relu()\n",
    "        h2 = self.conv2(h1).relu()\n",
    "        h3 = self.conv3(h2).relu()\n",
    "        h3 = h3.view(h3.shape[0], -1) # flatten the conv features\n",
    "        return self.linear(h3) # a linear classifier goes on top"
   ]
  },
  {
   "cell_type": "code",
   "execution_count": 19,
   "metadata": {},
   "outputs": [
    {
     "name": "stdout",
     "output_type": "stream",
     "text": [
      "Initialized ConvBase model with 8990 parameters\n",
      "Epoch 1/200 => Loss: 3.71\n",
      "Epoch 21/200 => Loss: 1.50\n",
      "Epoch 41/200 => Loss: 1.10\n",
      "Epoch 61/200 => Loss: 0.94\n",
      "Epoch 81/200 => Loss: 0.75\n",
      "Epoch 101/200 => Loss: 0.66\n",
      "Epoch 121/200 => Loss: 0.57\n",
      "Epoch 141/200 => Loss: 0.59\n",
      "Epoch 161/200 => Loss: 0.45\n",
      "Epoch 181/200 => Loss: 0.38\n"
     ]
    }
   ],
   "source": [
    "net = ConvBase(output_size=40)\n",
    "\n",
    "criterion = nn.CrossEntropyLoss()\n",
    "num_epochs = 200\n",
    "\n",
    "optimizer = torch.optim.Adam(net.parameters(), lr=0.1)\n",
    "input_tensor = torch.from_numpy(train_features).type(torch.FloatTensor)\n",
    "label_tensor = torch.from_numpy(train_labels)\n",
    "for epoch in range(num_epochs):    \n",
    "    output = net(input_tensor)\n",
    "    loss = criterion(output, label_tensor)\n",
    "    optimizer.zero_grad()\n",
    "    loss.backward()\n",
    "    optimizer.step()\n",
    "    if epoch % 20 == 0:\n",
    "        print ('Epoch {}/{} => Loss: {:.2f}'.format(epoch+1, num_epochs, loss.item()))"
   ]
  },
  {
   "cell_type": "code",
   "execution_count": 20,
   "metadata": {},
   "outputs": [
    {
     "name": "stdout",
     "output_type": "stream",
     "text": [
      "Train Accuracy: 0.88575\n"
     ]
    }
   ],
   "source": [
    "out_probs = net(input_tensor).detach().numpy()\n",
    "out_classes = np.argmax(out_probs, axis=1)\n",
    "print(\"Train Accuracy:\", sum(out_classes == train_labels) / len(train_labels))"
   ]
  },
  {
   "cell_type": "code",
   "execution_count": 21,
   "metadata": {},
   "outputs": [
    {
     "name": "stdout",
     "output_type": "stream",
     "text": [
      "Test Accuracy: 0.793\n"
     ]
    }
   ],
   "source": [
    "test_input_tensor = torch.from_numpy(test_features).type(torch.FloatTensor)\n",
    "out_probs = net(test_input_tensor).detach().numpy()\n",
    "out_classes = np.argmax(out_probs, axis=1)\n",
    "print(\"Test Accuracy:\", sum(out_classes == test_labels) / len(test_labels))"
   ]
  },
  {
   "cell_type": "markdown",
   "metadata": {
    "id": "4vY9mZQanaxr"
   },
   "source": [
    "### 1.3 Generate explanations\n",
    "\n",
    "In this example, we rely on the `captum` library. We use the Integrated Gradients method."
   ]
  },
  {
   "cell_type": "code",
   "execution_count": 13,
   "metadata": {},
   "outputs": [
    {
     "ename": "NameError",
     "evalue": "name 'IntegratedGradients' is not defined",
     "output_type": "error",
     "traceback": [
      "\u001b[0;31m---------------------------------------------------------------------------\u001b[0m",
      "\u001b[0;31mNameError\u001b[0m                                 Traceback (most recent call last)",
      "Input \u001b[0;32mIn [13]\u001b[0m, in \u001b[0;36m<cell line: 1>\u001b[0;34m()\u001b[0m\n\u001b[0;32m----> 1\u001b[0m ig \u001b[38;5;241m=\u001b[39m \u001b[43mIntegratedGradients\u001b[49m(net)\n",
      "\u001b[0;31mNameError\u001b[0m: name 'IntegratedGradients' is not defined"
     ]
    }
   ],
   "source": [
    "ig = IntegratedGradients(net)"
   ]
  },
  {
   "cell_type": "code",
   "execution_count": null,
   "metadata": {},
   "outputs": [],
   "source": [
    "test_input_tensor.requires_grad_()\n",
    "attr, delta = ig.attribute(test_input_tensor,target=1, return_convergence_delta=True)\n",
    "attr = attr.detach().numpy()"
   ]
  },
  {
   "cell_type": "markdown",
   "metadata": {
    "id": "tuBkEBv3mihR"
   },
   "source": [
    "## 2) Quantative evaluation using Quantus\n",
    "\n",
    "We can evaluate our explanations on a variety of quantuative criteria but as a motivating example we test the ModelParameterRandomisation scores by Adebayo et al., 2018. This metric measures the distance between the original attribution and a newly computed attribution throughout the process of cascadingly/independently randomizing the model parameters of one layer at a time."
   ]
  },
  {
   "cell_type": "code",
   "execution_count": null,
   "metadata": {
    "id": "aLjrKsT6mS9X"
   },
   "outputs": [],
   "source": [
    "# Define metric for evaluation.\n",
    "metric_init = quantus.ModelParameterRandomisation(\n",
    "    similarity_func=quantus.similarity_func.correlation_spearman,\n",
    "    return_sample_correlation=True,\n",
    "    return_aggregate=True,\n",
    "    aggregate_func=np.mean,\n",
    "    layer_order=\"independent\",\n",
    "    disable_warnings=True,\n",
    "    normalise=True,\n",
    "    abs=True,)"
   ]
  },
  {
   "cell_type": "code",
   "execution_count": null,
   "metadata": {
    "id": "iq7qqDfSmIdj"
   },
   "outputs": [],
   "source": [
    "# Return ModelParameterRandomisation scores for Integrated Gradients.\n",
    "scores_intgrad = metric_init(\n",
    "    model=net, \n",
    "    x_batch=test_features,\n",
    "    y_batch=test_labels,\n",
    "    a_batch=None,\n",
    "    explain_func=quantus.explain,\n",
    "    explain_func_kwargs={\n",
    "        \"method\": \"IntegratedGradients\",\n",
    "        \"reduce_axes\": (),\n",
    "    },\n",
    ")"
   ]
  },
  {
   "cell_type": "code",
   "execution_count": null,
   "metadata": {
    "colab": {
     "base_uri": "https://localhost:8080/"
    },
    "executionInfo": {
     "elapsed": 4,
     "status": "ok",
     "timestamp": 1665171594087,
     "user": {
      "displayName": "Anna Hedström",
      "userId": "05540180366077551505"
     },
     "user_tz": -120
    },
    "id": "3kBrG51Lpuq9",
    "outputId": "5de8efa5-03ac-433d-ec7b-ead66740a545"
   },
   "outputs": [],
   "source": [
    "print(f\"ModelParameterRandomisation scores by Adebayo et al., 2018\\n\"       \n",
    "      f\"\\n • Integrated Gradient = \",scores_intgrad)"
   ]
  }
 ],
 "metadata": {
  "accelerator": "GPU",
  "colab": {
   "collapsed_sections": [],
   "machine_shape": "hm",
   "provenance": []
  },
  "gpuClass": "standard",
  "kernelspec": {
   "display_name": "Python 3 (ipykernel)",
   "language": "python",
   "name": "python3"
  },
  "language_info": {
   "codemirror_mode": {
    "name": "ipython",
    "version": 3
   },
   "file_extension": ".py",
   "mimetype": "text/x-python",
   "name": "python",
   "nbconvert_exporter": "python",
   "pygments_lexer": "ipython3",
   "version": "3.10.7"
  }
 },
 "nbformat": 4,
 "nbformat_minor": 1
}
