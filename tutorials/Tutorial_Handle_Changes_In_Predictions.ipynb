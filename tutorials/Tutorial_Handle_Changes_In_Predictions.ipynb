{
 "cells": [
  {
   "cell_type": "markdown",
   "metadata": {},
   "source": [
    "# Handle changes in prediction during robustness evaluation.\n",
    "[![Binder](https://mybinder.org/badge_logo.svg)](https://mybinder.org/v2/gh/understandable-machine-intelligence-lab/Quantus/main?labpath=tutorials%2FTutorial_Handle_Changes_In_Predictions.ipynb)\n",
    "\n",
    "\n",
    "Typically, during robustness evaluation, we want model prediction to stay the same.\n",
    "This behaviour is, however, very sensitive to perturbation function and its hyperparameter choices.\n",
    "In this notebook we demonstrate how this could be handled in `quantus` using a simple motivating example with Average Sensitivity Metric."
   ]
  },
  {
   "cell_type": "code",
   "execution_count": 1,
   "metadata": {},
   "outputs": [
    {
     "data": {
      "text/plain": [
       "[PhysicalDevice(name='/physical_device:CPU:0', device_type='CPU')]"
      ]
     },
     "execution_count": 1,
     "metadata": {},
     "output_type": "execute_result"
    }
   ],
   "source": [
    "# Import dependencies.\n",
    "import pandas as pd\n",
    "import tensorflow as tf\n",
    "import tensorflow_datasets as tfds\n",
    "import quantus\n",
    "\n",
    "tf.config.list_physical_devices()"
   ]
  },
  {
   "cell_type": "markdown",
   "metadata": {},
   "source": [
    "## 1) Preliminaries\n",
    "\n",
    "### 1.1 Load ImageNet subset."
   ]
  },
  {
   "cell_type": "code",
   "execution_count": null,
   "metadata": {},
   "outputs": [],
   "source": [
    "IMG_SIZE = 224\n",
    "\n",
    "ds = tfds.load(\n",
    "    \"imagenet_v2\",\n",
    "    split=[\"test\"],\n",
    "    as_supervised=True,\n",
    "    try_gcs=True,\n",
    "    batch_size=32,\n",
    "    data_dir=\"/tmp/tensorflow_datasets/\",\n",
    ")\n",
    "\n",
    "x_batch, y_batch = ds[0].take(1).as_numpy_iterator().next()\n",
    "x_batch = tf.image.resize(x_batch, (IMG_SIZE, IMG_SIZE)).numpy()\n",
    "x_batch.shape"
   ]
  },
  {
   "cell_type": "markdown",
   "metadata": {},
   "source": [
    "### 1.2. Load pre-trained model."
   ]
  },
  {
   "cell_type": "code",
   "execution_count": null,
   "metadata": {},
   "outputs": [],
   "source": [
    "model = tf.keras.applications.MobileNetV2()\n",
    "model.input"
   ]
  },
  {
   "cell_type": "markdown",
   "metadata": {},
   "source": [
    "### 1.3. Generate batch of predictions and explanations using baseline method \"IntegratedGradients\"."
   ]
  },
  {
   "cell_type": "code",
   "execution_count": null,
   "metadata": {},
   "outputs": [],
   "source": [
    "y_predicted = model.predict(x_batch).argmax(axis=1)\n",
    "a_batch_intgrad = quantus.explain(\n",
    "    model, x_batch, y_predicted, method=\"IntegratedGradients\"\n",
    ")\n",
    "a_batch_intgrad.shape"
   ]
  },
  {
   "cell_type": "markdown",
   "metadata": {},
   "source": [
    "## 2) Quantitative evaluation with Quantus\n",
    "\n",
    "We can evaluate the robustness of our explanations on a variety of quantitative criteria, but as a motivating example we test the Average Sensitivity (Yeh at el., 2019) of the explanations. This metric tests how the explanations change on average while subject to slight perturbations.\n",
    "\n",
    "All robustness metrics accept constructor keyword argument `return_nan_when_prediction_changes`, as the name suggests,\n",
    "when set to true, the metric will be evaluated to NaN if the prediction changes after the perturbation is applied."
   ]
  },
  {
   "cell_type": "code",
   "execution_count": null,
   "metadata": {},
   "outputs": [],
   "source": [
    "results = quantus.evaluate(\n",
    "    metrics={\n",
    "        \"DefaultAvgSensitivity\": quantus.AvgSensitivity(\n",
    "            nr_samples=20, disable_warnings=True, display_progressbar=True\n",
    "        ),\n",
    "        \"AvgSensitivityWithNan\": quantus.AvgSensitivity(\n",
    "            nr_samples=20,\n",
    "            disable_warnings=True,\n",
    "            return_nan_when_prediction_changes=True,\n",
    "            display_progressbar=True,\n",
    "        ),\n",
    "    },\n",
    "    xai_methods={\"IntegratedGradients\": a_batch_intgrad},\n",
    "    model=model,\n",
    "    x_batch=x_batch,\n",
    "    y_batch=y_batch,\n",
    "    explain_func_kwargs={\"method\": \"IntegratedGradients\"},\n",
    "    call_kwargs={\"0\": {\"explain_func\": quantus.explain, \"softmax\": True, \"channel_first\": True}},\n",
    ")"
   ]
  },
  {
   "cell_type": "markdown",
   "metadata": {},
   "source": [
    "### 2.2 Display results in tabular form."
   ]
  },
  {
   "cell_type": "code",
   "execution_count": null,
   "metadata": {},
   "outputs": [],
   "source": [
    "pd.DataFrame(\n",
    "    [\n",
    "        results[\"IntegratedGradients\"][\"DefaultAvgSensitivity\"],\n",
    "        results[\"IntegratedGradients\"][\"AvgSensitivityWithNan\"],\n",
    "    ],\n",
    "    index=[\"No Prediction Change Check\", \"Nan On Prediction Change\"],\n",
    ")"
   ]
  },
  {
   "cell_type": "code",
   "execution_count": null,
   "metadata": {},
   "outputs": [],
   "source": []
  }
 ],
 "metadata": {
  "kernelspec": {
   "display_name": "Python 3 (ipykernel)",
   "language": "python",
   "name": "python3"
  },
  "language_info": {
   "codemirror_mode": {
    "name": "ipython",
    "version": 3
   },
   "file_extension": ".py",
   "mimetype": "text/x-python",
   "name": "python",
   "nbconvert_exporter": "python",
   "pygments_lexer": "ipython3",
   "version": "3.8.12"
  }
 },
 "nbformat": 4,
 "nbformat_minor": 1
}
