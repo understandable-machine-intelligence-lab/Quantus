{
 "cells": [
  {
   "cell_type": "markdown",
   "metadata": {
    "id": "bukochgPFg7s",
    "pycharm": {
     "name": "#%% md\n"
    }
   },
   "source": [
    "# Getting started\n",
    "\n",
    "This notebook shows how to get started with Quantus on tensorflow, using a very simple example."
   ]
  },
  {
   "cell_type": "code",
   "execution_count": null,
   "metadata": {
    "id": "MuA8v9jLp-pf",
    "pycharm": {
     "name": "#%%\n"
    }
   },
   "outputs": [],
   "source": [
    "import numpy as np # noqa\n",
    "import pandas as pd\n",
    "import matplotlib.pyplot as plt # noqa\n",
    "import tensorflow as tf # noqa\n",
    "import tensorflow_datasets as tfds\n",
    "\n",
    "import quantus"
   ]
  },
  {
   "cell_type": "markdown",
   "metadata": {
    "id": "mGhP4bTuoWYF",
    "pycharm": {
     "name": "#%% md\n"
    }
   },
   "source": [
    "## 1. Preliminaries"
   ]
  },
  {
   "cell_type": "markdown",
   "metadata": {
    "id": "XqKzag4VFjHT",
    "pycharm": {
     "name": "#%% md\n"
    }
   },
   "source": [
    "### 1.1 Load datasets\n",
    "\n",
    "We will then load a batch of input, output pairs that we generate explanations for, then to evaluate."
   ]
  },
  {
   "cell_type": "code",
   "execution_count": null,
   "metadata": {
    "id": "TmsZxFhuc0mm",
    "pycharm": {
     "name": "#%%\n"
    }
   },
   "outputs": [],
   "source": [
    "# Load datasets\n",
    "(ds_train, ds_test), ds_info = tfds.load(\n",
    "    'mnist',\n",
    "    split=['train', 'test'],\n",
    "    shuffle_files=True,\n",
    "    as_supervised=True,\n",
    "    with_info=True,\n",
    ")\n",
    "ds_train.element_spec"
   ]
  },
  {
   "cell_type": "code",
   "execution_count": null,
   "metadata": {
    "colab": {
     "base_uri": "https://localhost:8080/",
     "height": 191
    },
    "executionInfo": {
     "elapsed": 501,
     "status": "ok",
     "timestamp": 1640102275943,
     "user": {
      "displayName": "Anna Hedström",
      "photoUrl": "https://lh3.googleusercontent.com/a-/AOh14GhbfsluHeZ1mzN6Bsf-1zU62lYHcz183jYjeS63=s64",
      "userId": "05540180366077551505"
     },
     "user_tz": -60
    },
    "id": "aAR67-cnOS67",
    "outputId": "694e08b4-89fd-4be9-d19a-161e9d41dcd5",
    "pycharm": {
     "name": "#%%\n"
    }
   },
   "outputs": [],
   "source": [
    "# Plot some inputs!\n",
    "i = 0\n",
    "nr_images = 5\n",
    "fig, axes = plt.subplots(nrows=1, ncols=nr_images, figsize=(nr_images*3, int(nr_images*2/3)))\n",
    "for x_batch, y_batch in ds_train.take(nr_images):\n",
    "    axes[i].imshow((np.reshape(x_batch.numpy(), (28, 28)) * 255).astype(np.uint8), vmin=0.0, vmax=1.0, cmap=\"gray\")\n",
    "    axes[i].title.set_text(f\"MNIST class - {y_batch}\")\n",
    "    axes[i].axis(\"off\")\n",
    "    i += 1\n",
    "\n",
    "plt.show()"
   ]
  },
  {
   "cell_type": "code",
   "execution_count": null,
   "metadata": {
    "pycharm": {
     "name": "#%%\n"
    }
   },
   "outputs": [],
   "source": [
    "# Build a training pipeline\n",
    "ds_train = ds_train.shuffle(128)\n",
    "ds_train = ds_train.batch(128)\n",
    "ds_train = ds_train.cache()\n",
    "ds_train = ds_train.prefetch(tf.data.AUTOTUNE)\n",
    "ds_train.element_spec"
   ]
  },
  {
   "cell_type": "code",
   "execution_count": null,
   "metadata": {
    "pycharm": {
     "name": "#%%\n"
    }
   },
   "outputs": [],
   "source": [
    "# Build an evaluation pipeline\n",
    "ds_test = ds_test.shuffle(128)\n",
    "ds_test = ds_test.batch(128)\n",
    "ds_test = ds_test.cache()\n",
    "ds_test = ds_test.prefetch(tf.data.AUTOTUNE)\n",
    "ds_test.element_spec"
   ]
  },
  {
   "cell_type": "code",
   "execution_count": null,
   "metadata": {
    "pycharm": {
     "name": "#%%\n"
    }
   },
   "outputs": [],
   "source": [
    "x_batch, y_batch = next(iter(ds_test))\n",
    "x_batch = x_batch.numpy()\n",
    "y_batch = y_batch.numpy() "
   ]
  },
  {
   "cell_type": "markdown",
   "metadata": {
    "id": "vmccxpA0n6MY",
    "pycharm": {
     "name": "#%% md\n"
    }
   },
   "source": [
    "### 1.2 Train a model"
   ]
  },
  {
   "cell_type": "code",
   "execution_count": null,
   "metadata": {
    "colab": {
     "base_uri": "https://localhost:8080/"
    },
    "executionInfo": {
     "elapsed": 8,
     "status": "ok",
     "timestamp": 1640102275944,
     "user": {
      "displayName": "Anna Hedström",
      "photoUrl": "https://lh3.googleusercontent.com/a-/AOh14GhbfsluHeZ1mzN6Bsf-1zU62lYHcz183jYjeS63=s64",
      "userId": "05540180366077551505"
     },
     "user_tz": -60
    },
    "id": "CUghaOhXddLU",
    "outputId": "cb625cea-1bc4-477e-a549-4bd1e1a8e158",
    "pycharm": {
     "name": "#%%\n"
    }
   },
   "outputs": [],
   "source": [
    "model = quantus.cnn_2d_3channels_tf(28, 28, num_channels=1, num_classes=10)\n",
    "\n",
    "model.fit(\n",
    "    ds_train,\n",
    "    epochs=5,\n",
    "    validation_data=ds_test,\n",
    ")"
   ]
  },
  {
   "cell_type": "markdown",
   "metadata": {
    "id": "4vY9mZQanaxr",
    "pycharm": {
     "name": "#%% md\n"
    }
   },
   "source": [
    "### 1.3 Generate explanations\n",
    "\n",
    "There exist multiple ways to generate explanations for neural network models e.g., using `captum` or `innvestigate` libraries. In this example, we rely on the `quantus.explain` functionality (a simple wrapper around `captum`) however use whatever approach or library you'd like to create your explanations.\n",
    "\n",
    "**Requirements.**\n",
    "\n",
    "* **Data type.** Similar to the x-y pairs, the attributions should also be of type `np.ndarray`\n",
    "* **Shape.** Sharing all the same dimensions as the input (expect for nr_channels which for explanations is equal to 1). For example, if x_batch is of size (128, 3, 224, 224) then the attributions should be of size (128, 1, 224, 224)."
   ]
  },
  {
   "cell_type": "code",
   "execution_count": null,
   "metadata": {
    "id": "gNxAtc2Co1pL",
    "pycharm": {
     "name": "#%%\n"
    }
   },
   "outputs": [],
   "source": [
    "# Generate Integrated Gradients attributions of the first batch of the test set.\n",
    "a_batch_intgrad = quantus.explain(model, x_batch, y_batch, **{'method': 'IntegratedGradients'})"
   ]
  },
  {
   "cell_type": "markdown",
   "metadata": {
    "id": "iRDwzUUp8bR2",
    "pycharm": {
     "name": "#%% md\n"
    }
   },
   "source": [
    "Visualise attributions given model and pairs of input-output."
   ]
  },
  {
   "cell_type": "code",
   "execution_count": null,
   "metadata": {
    "colab": {
     "base_uri": "https://localhost:8080/",
     "height": 628
    },
    "executionInfo": {
     "elapsed": 3146,
     "status": "ok",
     "timestamp": 1640102281314,
     "user": {
      "displayName": "Anna Hedström",
      "photoUrl": "https://lh3.googleusercontent.com/a-/AOh14GhbfsluHeZ1mzN6Bsf-1zU62lYHcz183jYjeS63=s64",
      "userId": "05540180366077551505"
     },
     "user_tz": -60
    },
    "id": "82WWNmyoilXo",
    "outputId": "46910bcf-1acd-46a0-f479-8512f967143c",
    "pycharm": {
     "name": "#%%\n"
    }
   },
   "outputs": [],
   "source": [
    "# Plot explanations!\n",
    "nr_images = 3\n",
    "fig, axes = plt.subplots(nrows=nr_images, ncols=2, figsize=(nr_images*2.5, int(nr_images*3)))\n",
    "for i in range(nr_images):\n",
    "    axes[i, 0].imshow((np.reshape(x_batch[i], (28, 28)) * 255).astype(np.uint8), vmin=0.0, vmax=1.0, cmap=\"gray\")\n",
    "    axes[i, 0].title.set_text(f\"MNIST digit {y_batch[i].item()}\")\n",
    "    axes[i, 0].axis(\"off\")\n",
    "    a = axes[i, 1].imshow(a_batch_intgrad[i], cmap=\"seismic\")\n",
    "    axes[i, 1].title.set_text(f\"Integrated Gradients\")\n",
    "    axes[i, 1].axis(\"off\")\n",
    "plt.tight_layout()\n",
    "plt.show()"
   ]
  },
  {
   "cell_type": "markdown",
   "metadata": {
    "id": "tuBkEBv3mihR",
    "pycharm": {
     "name": "#%% md\n"
    }
   },
   "source": [
    "## 2. Quantative evaluation using Quantus\n",
    "\n",
    "We can evaluate our explanations on a variety of quantuative criteria but as a motivating example we test the Max-Sensitivity (Yeh at el., 2019) of the explanations. This metric tests how the explanations maximally change while subject to slight perturbations."
   ]
  },
  {
   "cell_type": "code",
   "execution_count": null,
   "outputs": [],
   "source": [
    "params_eval_maxs = {\n",
    "    \"nr_samples\": 10,\n",
    "    \"perturb_radius\": 0.1,\n",
    "    \"norm_numerator\": quantus.fro_norm,\n",
    "    \"norm_denominator\": quantus.fro_norm,\n",
    "    \"perturb_func\": quantus.uniform_noise,\n",
    "    \"similarity_func\": quantus.difference,\n",
    "    \"disable_warnings\": True,\n",
    "    \"normalise\": True,\n",
    "    \"abs\": True,\n",
    "    \"show_progressbar\": True\n",
    "}\n",
    "\n",
    "\n",
    "metrics = {\"max-Sensitivity\": quantus.MaxSensitivity(**params_eval_maxs)}\n",
    "xai_methods = {\"IntegratedGradients\": a_batch_intgrad}\n",
    "\n",
    "results = quantus.evaluate(evaluation_metrics=metrics,\n",
    "                           explanation_methods=xai_methods,\n",
    "                           model=model,\n",
    "                           x_batch=x_batch,\n",
    "                           y_batch=y_batch,\n",
    "                           agg_func=np.mean,\n",
    "                           metrics = metrics,\n",
    "                           xai_methods = xai_methods,\n",
    "                           **{\"explain_func\": quantus.explain, \"img_size\": 28, \"normalise\": False, \"abs\": False})\n",
    "\n",
    "df = pd.DataFrame(results)\n",
    "df"
   ],
   "metadata": {
    "collapsed": false,
    "pycharm": {
     "name": "#%%\n"
    }
   }
  },
  {
   "cell_type": "code",
   "execution_count": null,
   "outputs": [],
   "source": [
    "# FIXME\n",
    "# Calculate Selectivity (Ancona et al., 2019)\n",
    "params_eval_slct = {\n",
    "    \"disable_warnings\": True,\n",
    "    \"normalise\": True,\n",
    "    \"abs\": True,\n",
    "    \"perturb_baseline\": \"uniform\",\n",
    "    \"patch_size\": 4,\n",
    "    \"nr_channels\": 1,\n",
    "    \"show_progressbar\": True\n",
    "}\n",
    "\n",
    "scores_intgrad_slct = quantus.Selectivity(**params_eval_slct)(model=model,\n",
    "   x_batch=x_batch,\n",
    "   y_batch=y_batch,\n",
    "   a_batch=a_batch_intgrad,\n",
    "   **{\"explain_func\": quantus.explain, \"method\": \"IntegratedGradients\", \"img_size\": 28, \"normalise\": True, \"abs\": True})\n",
    "\n",
    "\n",
    "scores_intgrad_slct"
   ],
   "metadata": {
    "collapsed": false,
    "pycharm": {
     "name": "#%%\n"
    }
   }
  },
  {
   "cell_type": "markdown",
   "source": [
    "## [Relative Stability](https://arxiv.org/pdf/2203.06877.pdf)"
   ],
   "metadata": {
    "collapsed": false,
    "pycharm": {
     "name": "#%% md\n"
    }
   }
  },
  {
   "cell_type": "code",
   "execution_count": null,
   "outputs": [],
   "source": [
    "relative_stability_params = {\n",
    "    'display_progressbar': True,\n",
    "    'return_aggregate': True\n",
    "}\n",
    "\n",
    "ris = quantus.RelativeInputStability(**relative_stability_params)\n",
    "\n",
    "ris_result = ris(model=model, x_batch=x_batch, y_batch=y_batch, explain_func=quantus.explain, method='IntegratedGradients')\n",
    "ris_result"
   ],
   "metadata": {
    "collapsed": false,
    "pycharm": {
     "name": "#%%\n"
    }
   }
  },
  {
   "cell_type": "code",
   "execution_count": null,
   "outputs": [],
   "source": [
    "rrs = quantus.RelativeRepresentationStability(**relative_stability_params)\n",
    "\n",
    "rrs_result = rrs(model=model, x_batch=x_batch, y_batch=y_batch, explain_func=quantus.explain, method='IntegratedGradients')\n",
    "rrs_result"
   ],
   "metadata": {
    "collapsed": false,
    "pycharm": {
     "name": "#%%\n"
    }
   }
  },
  {
   "cell_type": "code",
   "execution_count": null,
   "outputs": [],
   "source": [
    "ros = quantus.RelativeOutputStability(**relative_stability_params)\n",
    "\n",
    "ros_result = ros(model=model, x_batch=x_batch, y_batch=y_batch, explain_func=quantus.explain, method='IntegratedGradients')\n",
    "ros_result"
   ],
   "metadata": {
    "collapsed": false,
    "pycharm": {
     "name": "#%%\n"
    }
   }
  }
 ],
 "metadata": {
  "accelerator": "GPU",
  "colab": {
   "collapsed_sections": [],
   "name": "tutorial_getting_started.ipynb",
   "provenance": [],
   "toc_visible": true
  },
  "kernelspec": {
   "display_name": "Python 3 (ipykernel)",
   "language": "python",
   "name": "python3"
  },
  "language_info": {
   "codemirror_mode": {
    "name": "ipython",
    "version": 3
   },
   "file_extension": ".py",
   "mimetype": "text/x-python",
   "name": "python",
   "nbconvert_exporter": "python",
   "pygments_lexer": "ipython3",
   "version": "3.8.12"
  }
 },
 "nbformat": 4,
 "nbformat_minor": 1
}