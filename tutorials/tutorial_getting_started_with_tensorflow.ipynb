{
 "cells": [
  {
   "cell_type": "code",
   "execution_count": 1,
   "metadata": {
    "id": "MuA8v9jLp-pf",
    "pycharm": {
     "name": "#%%\n"
    }
   },
   "outputs": [],
   "source": [
    "import numpy as np # noqa\n",
    "import pandas as pd\n",
    "import matplotlib.pyplot as plt # noqa\n",
    "import tensorflow as tf # noqa\n",
    "import tensorflow_datasets as tfds\n",
    "\n",
    "import quantus"
   ]
  },
  {
   "cell_type": "markdown",
   "metadata": {
    "id": "mGhP4bTuoWYF",
    "pycharm": {
     "name": "#%% md\n"
    }
   },
   "source": [
    "## 1. Preliminaries"
   ]
  },
  {
   "cell_type": "markdown",
   "metadata": {
    "id": "XqKzag4VFjHT",
    "pycharm": {
     "name": "#%% md\n"
    }
   },
   "source": [
    "### 1.1 Load datasets\n",
    "\n",
    "We will then load a batch of input, output pairs that we generate explanations for, then to evaluate."
   ]
  },
  {
   "cell_type": "code",
   "execution_count": 2,
   "metadata": {
    "id": "TmsZxFhuc0mm",
    "pycharm": {
     "name": "#%%\n"
    }
   },
   "outputs": [
    {
     "data": {
      "text/plain": [
       "(TensorSpec(shape=(28, 28, 1), dtype=tf.uint8, name=None),\n",
       " TensorSpec(shape=(), dtype=tf.int64, name=None))"
      ]
     },
     "execution_count": 2,
     "metadata": {},
     "output_type": "execute_result"
    }
   ],
   "source": [
    "# Load datasets\n",
    "(ds_train, ds_test), ds_info = tfds.load(\n",
    "    'mnist',\n",
    "    split=['train', 'test'],\n",
    "    shuffle_files=True,\n",
    "    as_supervised=True,\n",
    "    with_info=True,\n",
    ")\n",
    "ds_train.element_spec"
   ]
  },
  {
   "cell_type": "code",
   "execution_count": 3,
   "metadata": {
    "pycharm": {
     "name": "#%%\n"
    }
   },
   "outputs": [
    {
     "data": {
      "text/plain": [
       "(TensorSpec(shape=(128, 28, 28, 3), dtype=tf.uint8, name=None),\n",
       " TensorSpec(shape=(128,), dtype=tf.int64, name=None))"
      ]
     },
     "execution_count": 3,
     "metadata": {},
     "output_type": "execute_result"
    }
   ],
   "source": [
    "# Build a training pipeline\n",
    "ds_train = ds_train.shuffle(128)\n",
    "ds_train = ds_train.batch(128, drop_remainder=True)\n",
    "ds_train = ds_train.map(lambda x, y: (tf.image.grayscale_to_rgb(x), y))\n",
    "ds_train = ds_train.cache()\n",
    "ds_train = ds_train.prefetch(tf.data.AUTOTUNE)\n",
    "ds_train.element_spec"
   ]
  },
  {
   "cell_type": "code",
   "execution_count": 4,
   "metadata": {
    "pycharm": {
     "name": "#%%\n"
    }
   },
   "outputs": [
    {
     "data": {
      "text/plain": [
       "(TensorSpec(shape=(128, 28, 28, 3), dtype=tf.uint8, name=None),\n",
       " TensorSpec(shape=(128,), dtype=tf.int64, name=None))"
      ]
     },
     "execution_count": 4,
     "metadata": {},
     "output_type": "execute_result"
    }
   ],
   "source": [
    "# Build an evaluation pipeline\n",
    "ds_test = ds_test.shuffle(128)\n",
    "ds_test = ds_test.batch(128, drop_remainder=True)\n",
    "ds_test = ds_test.map(lambda x, y: (tf.image.grayscale_to_rgb(x), y))\n",
    "ds_test = ds_test.cache()\n",
    "ds_test = ds_test.prefetch(tf.data.AUTOTUNE)\n",
    "ds_test.element_spec"
   ]
  },
  {
   "cell_type": "code",
   "execution_count": null,
   "metadata": {
    "pycharm": {
     "is_executing": true,
     "name": "#%%\n"
    }
   },
   "outputs": [],
   "source": [
    "x_batch, y_batch = ds_train.take(1).as_numpy_iterator().next()"
   ]
  },
  {
   "cell_type": "code",
   "execution_count": 6,
   "metadata": {
    "pycharm": {
     "name": "#%%\n"
    }
   },
   "outputs": [
    {
     "data": {
      "image/png": "[encoded data removed]",
      "text/plain": [
       "<Figure size 1080x216 with 5 Axes>"
      ]
     },
     "metadata": {
      "needs_background": "light"
     },
     "output_type": "display_data"
    }
   ],
   "source": [
    "# Plot some inputs!\n",
    "nr_images = 5\n",
    "\n",
    "fig, axes = plt.subplots(nrows=1, ncols=nr_images, figsize=(nr_images*3, int(nr_images*2/3)))\n",
    "\n",
    "for i, (x, y) in enumerate(zip(x_batch[:nr_images], y_batch[:nr_images])):\n",
    "    axes[i].imshow(x.astype(np.uint8), vmin=0.0, vmax=1.0, cmap=\"gray\")\n",
    "    axes[i].title.set_text(f\"MNIST class - {y}\")\n",
    "    axes[i].axis(\"off\")"
   ]
  },
  {
   "cell_type": "markdown",
   "metadata": {
    "id": "vmccxpA0n6MY",
    "pycharm": {
     "name": "#%% md\n"
    }
   },
   "source": [
    "### 1.2 Train a model"
   ]
  },
  {
   "cell_type": "code",
   "execution_count": 7,
   "metadata": {
    "colab": {
     "base_uri": "https://localhost:8080/"
    },
    "executionInfo": {
     "elapsed": 8,
     "status": "ok",
     "timestamp": 1640102275944,
     "user": {
      "displayName": "Anna Hedström",
      "photoUrl": "https://lh3.googleusercontent.com/a-/AOh14GhbfsluHeZ1mzN6Bsf-1zU62lYHcz183jYjeS63=s64",
      "userId": "05540180366077551505"
     },
     "user_tz": -60
    },
    "id": "CUghaOhXddLU",
    "outputId": "cb625cea-1bc4-477e-a549-4bd1e1a8e158",
    "pycharm": {
     "name": "#%%\n"
    }
   },
   "outputs": [
    {
     "name": "stdout",
     "output_type": "stream",
     "text": [
      "Epoch 1/5\n",
      "468/468 [==============================] - 36s 73ms/step - loss: 0.2346 - accuracy: 0.9284 - val_loss: 0.0748 - val_accuracy: 0.9759\n",
      "Epoch 2/5\n",
      "468/468 [==============================] - 33s 71ms/step - loss: 0.0552 - accuracy: 0.9832 - val_loss: 0.0501 - val_accuracy: 0.9833\n",
      "Epoch 3/5\n",
      "468/468 [==============================] - 35s 74ms/step - loss: 0.0398 - accuracy: 0.9876 - val_loss: 0.0406 - val_accuracy: 0.9873\n",
      "Epoch 4/5\n",
      "468/468 [==============================] - 48s 102ms/step - loss: 0.0313 - accuracy: 0.9902 - val_loss: 0.0373 - val_accuracy: 0.9888\n",
      "Epoch 5/5\n",
      "468/468 [==============================] - 34s 74ms/step - loss: 0.0250 - accuracy: 0.9923 - val_loss: 0.0341 - val_accuracy: 0.9896\n"
     ]
    },
    {
     "data": {
      "text/plain": [
       "<keras.callbacks.History at 0x7f9be30f9520>"
      ]
     },
     "execution_count": 7,
     "metadata": {},
     "output_type": "execute_result"
    }
   ],
   "source": [
    "model = quantus.cnn_2d_tf(28, 28, 10)\n",
    "model.fit(ds_train, epochs=5, validation_data=ds_test)"
   ]
  },
  {
   "cell_type": "markdown",
   "metadata": {
    "id": "4vY9mZQanaxr",
    "pycharm": {
     "name": "#%% md\n"
    }
   },
   "source": [
    "### 1.3 Generate explanations\n",
    "\n",
    "There exist multiple ways to generate explanations for neural network models. In this example, we rely on the `quantus.explain` functionality (a simple wrapper around `tf-explain`) however use whatever approach or library you'd like to create your explanations.\n",
    "\n",
    "**Requirements.**\n",
    "\n",
    "* **Data type.** Similar to the x-y pairs, the attributions should also be of type `np.ndarray`\n",
    "* **Shape.** Sharing all the same dimensions as the input (expect for nr_channels which for explanations is equal to 1). For example, if x_batch is of size (128, 3, 224, 224) then the attributions should be of size (128, 1, 224, 224)."
   ]
  },
  {
   "cell_type": "code",
   "execution_count": 9,
   "metadata": {
    "id": "gNxAtc2Co1pL",
    "pycharm": {
     "name": "#%%\n"
    }
   },
   "outputs": [
    {
     "data": {
      "text/plain": [
       "(128, 28, 28, 3)"
      ]
     },
     "execution_count": 9,
     "metadata": {},
     "output_type": "execute_result"
    }
   ],
   "source": [
    "# Generate Integrated Gradients attributions of the first batch of the test set.\n",
    "explain_kwargs = {\n",
    "    'method': 'GradCam',\n",
    "    'gc_layer': 'test_conv'\n",
    "}\n",
    "a_batch = quantus.explain(model, x_batch, y_batch, **explain_kwargs)\n",
    "a_batch.shape"
   ]
  },
  {
   "cell_type": "markdown",
   "metadata": {
    "id": "iRDwzUUp8bR2",
    "pycharm": {
     "name": "#%% md\n"
    }
   },
   "source": [
    "Visualise attributions given model and pairs of input-output."
   ]
  },
  {
   "cell_type": "code",
   "execution_count": 12,
   "metadata": {
    "colab": {
     "base_uri": "https://localhost:8080/",
     "height": 628
    },
    "executionInfo": {
     "elapsed": 3146,
     "status": "ok",
     "timestamp": 1640102281314,
     "user": {
      "displayName": "Anna Hedström",
      "photoUrl": "https://lh3.googleusercontent.com/a-/AOh14GhbfsluHeZ1mzN6Bsf-1zU62lYHcz183jYjeS63=s64",
      "userId": "05540180366077551505"
     },
     "user_tz": -60
    },
    "id": "82WWNmyoilXo",
    "outputId": "46910bcf-1acd-46a0-f479-8512f967143c",
    "pycharm": {
     "name": "#%%\n"
    }
   },
   "outputs": [
    {
     "data": {
      "image/png": "[encoded data removed]",
      "text/plain": [
       "<Figure size 540x648 with 6 Axes>"
      ]
     },
     "metadata": {
      "needs_background": "light"
     },
     "output_type": "display_data"
    }
   ],
   "source": [
    "# Plot explanations!\n",
    "nr_images = 3\n",
    "fig, axes = plt.subplots(nrows=nr_images, ncols=2, figsize=(nr_images*2.5, int(nr_images*3)))\n",
    "for i in range(nr_images):\n",
    "    axes[i, 0].imshow(x_batch[i].astype(np.uint8))\n",
    "    axes[i, 0].title.set_text(f\"MNIST digit {y_batch[i].item()}\")\n",
    "    axes[i, 0].axis(\"off\")\n",
    "    a = axes[i, 1].imshow(a_batch[i], cmap='seismic')\n",
    "    axes[i, 1].title.set_text(f\"Grad Cam\")\n",
    "    axes[i, 1].axis(\"off\")\n",
    "plt.tight_layout()"
   ]
  },
  {
   "cell_type": "markdown",
   "metadata": {
    "id": "tuBkEBv3mihR",
    "pycharm": {
     "name": "#%% md\n"
    }
   },
   "source": [
    "## 2. Quantative evaluation using Quantus\n",
    "\n",
    "We can evaluate our explanations on a variety of quantuative criteria but as a motivating example we test the Max-Sensitivity (Yeh at el., 2019) of the explanations. This metric tests how the explanations maximally change while subject to slight perturbations."
   ]
  },
  {
   "cell_type": "code",
   "execution_count": 35,
   "metadata": {
    "pycharm": {
     "name": "#%%\n"
    }
   },
   "outputs": [
    {
     "name": "stderr",
     "output_type": "stream",
     "text": [
      "Evaluation of MaxSensitivity:   0%|          | 0/128 [00:00<?, ?it/s]/Users/artemsereda/Documents/PycharmProjects/Quantus/quantus/helpers/explanation_func.py:52: UserWarning: Using quantus 'explain' function as an explainer without specifying 'attributor'in kwargs will produce a vanilla 'Gradient' explanation.\n",
      "\n",
      "  warnings.warn(\n",
      "Evaluation of MaxSensitivity: 100%|██████████| 128/128 [00:20<00:00,  6.11it/s]\n"
     ]
    },
    {
     "data": {
      "text/html": [
       "<div>\n",
       "<style scoped>\n",
       "    .dataframe tbody tr th:only-of-type {\n",
       "        vertical-align: middle;\n",
       "    }\n",
       "\n",
       "    .dataframe tbody tr th {\n",
       "        vertical-align: top;\n",
       "    }\n",
       "\n",
       "    .dataframe thead th {\n",
       "        text-align: right;\n",
       "    }\n",
       "</style>\n",
       "<table border=\"1\" class=\"dataframe\">\n",
       "  <thead>\n",
       "    <tr style=\"text-align: right;\">\n",
       "      <th></th>\n",
       "      <th>GradCam</th>\n",
       "    </tr>\n",
       "  </thead>\n",
       "  <tbody>\n",
       "    <tr>\n",
       "      <th>max-Sensitivity</th>\n",
       "      <td>0.000024</td>\n",
       "    </tr>\n",
       "  </tbody>\n",
       "</table>\n",
       "</div>"
      ],
      "text/plain": [
       "                  GradCam\n",
       "max-Sensitivity  0.000024"
      ]
     },
     "execution_count": 35,
     "metadata": {},
     "output_type": "execute_result"
    }
   ],
   "source": [
    "params_eval_maxs = {\n",
    "    \"nr_samples\": 10,\n",
    "    \"perturb_radius\": 0.1,\n",
    "    \"norm_numerator\": quantus.fro_norm,\n",
    "    \"norm_denominator\": quantus.fro_norm,\n",
    "    \"perturb_func\": quantus.uniform_noise,\n",
    "    \"similarity_func\": quantus.difference,\n",
    "    \"disable_warnings\": True,\n",
    "    \"normalise\": True,\n",
    "    \"abs\": True,\n",
    "    \"display_progressbar\": True,\n",
    "}\n",
    "\n",
    "\n",
    "metrics = {\"max-Sensitivity\": quantus.MaxSensitivity(**params_eval_maxs)}\n",
    "xai_methods = {\"GradCam\": a_batch.reshape((128, 3, 28, 28))}\n",
    "\n",
    "results = quantus.evaluate(\n",
    "    evaluation_metrics=metrics,\n",
    "    explanation_methods=xai_methods,\n",
    "    model=model,\n",
    "    x_batch=x_batch,\n",
    "    y_batch=y_batch,\n",
    "    agg_func=np.mean,\n",
    "    metrics=metrics,\n",
    "    xai_methods=xai_methods,\n",
    "    explain_func=quantus.explain,\n",
    "    **explain_kwargs\n",
    ")\n",
    "\n",
    "pd.DataFrame(results)"
   ]
  },
  {
   "cell_type": "markdown",
   "metadata": {
    "pycharm": {
     "name": "#%% md\n"
    }
   },
   "source": [
    "## [Selectivity](https://arxiv.org/pdf/1706.07979.pdf)"
   ]
  },
  {
   "cell_type": "code",
   "execution_count": null,
   "metadata": {
    "pycharm": {
     "name": "#%%\n"
    }
   },
   "outputs": [],
   "source": [
    "params_eval_slct = {\n",
    "    \"display_progressbar\": True,\n",
    "    \"disable_warnings\": True,\n",
    "    \"perturb_func\": quantus.random_noise,\n",
    "\n",
    "}\n",
    "\n",
    "slct = quantus.Selectivity(**params_eval_slct)\n",
    "scores_slct = slct(\n",
    "    model=model,\n",
    "    x_batch=x_batch,\n",
    "    y_batch=y_batch,\n",
    "    a_batch=a_batch.reshape((128, 3, 28, 28)),\n",
    ")\n",
    "\n",
    "scores_slct"
   ]
  },
  {
   "cell_type": "markdown",
   "metadata": {
    "pycharm": {
     "name": "#%% md\n"
    }
   },
   "source": [
    "## [Relative Stability](https://arxiv.org/pdf/2203.06877.pdf)"
   ]
  },
  {
   "cell_type": "code",
   "execution_count": 11,
   "metadata": {
    "pycharm": {
     "name": "#%%\n"
    }
   },
   "outputs": [
    {
     "name": "stdout",
     "output_type": "stream",
     "text": [
      "No \"perturb_func\" provided, using random noise as default\n"
     ]
    },
    {
     "name": "stderr",
     "output_type": "stream",
     "text": [
      "Collecting perturbation for Relative Input Stability: 100%|██████████| 100/100 [00:04<00:00, 21.31it/s]\n",
      "Collecting explanations for Relative Input Stability: 100%|██████████| 98/98 [03:47<00:00,  2.32s/it]\n"
     ]
    },
    {
     "data": {
      "text/plain": [
       "0.33172944"
      ]
     },
     "execution_count": 11,
     "metadata": {},
     "output_type": "execute_result"
    }
   ],
   "source": [
    "relative_stability_params = {\n",
    "    'display_progressbar': True,\n",
    "    'return_aggregate': True,\n",
    "}\n",
    "\n",
    "ris = quantus.RelativeInputStability(**relative_stability_params)\n",
    "\n",
    "ris_result = ris(model=model, x_batch=x_batch, y_batch=y_batch, explain_func=quantus.explain, **explain_kwargs)\n",
    "ris_result"
   ]
  },
  {
   "cell_type": "code",
   "execution_count": 12,
   "metadata": {
    "pycharm": {
     "name": "#%%\n"
    }
   },
   "outputs": [
    {
     "name": "stdout",
     "output_type": "stream",
     "text": [
      "No \"perturb_func\" provided, using random noise as default\n"
     ]
    },
    {
     "name": "stderr",
     "output_type": "stream",
     "text": [
      "Collecting perturbation for Relative Output Stability: 100%|██████████| 100/100 [00:03<00:00, 25.47it/s]\n",
      "Collecting explanations for Relative Output Stability: 100%|██████████| 98/98 [03:11<00:00,  1.95s/it]\n"
     ]
    },
    {
     "data": {
      "text/plain": [
       "4443268.0"
      ]
     },
     "execution_count": 12,
     "metadata": {},
     "output_type": "execute_result"
    }
   ],
   "source": [
    "ros = quantus.RelativeOutputStability(**relative_stability_params)\n",
    "ros_result = ros(model=model, x_batch=x_batch, y_batch=y_batch, explain_func=quantus.explain, **explain_kwargs)\n",
    "ros_result"
   ]
  },
  {
   "cell_type": "markdown",
   "metadata": {
    "pycharm": {
     "name": "#%% md\n"
    }
   },
   "source": [
    "As relative representation stability leverages explanation change as subject to change in internal representations,\n",
    "it could be sensitive to choice of them (internal representations). So let's try different options out!"
   ]
  },
  {
   "cell_type": "code",
   "execution_count": 13,
   "metadata": {
    "pycharm": {
     "name": "#%%\n"
    }
   },
   "outputs": [
    {
     "name": "stdout",
     "output_type": "stream",
     "text": [
      "No \"perturb_func\" provided, using random noise as default\n"
     ]
    },
    {
     "name": "stderr",
     "output_type": "stream",
     "text": [
      "Collecting perturbation for Relative Representation Stability: 100%|██████████| 100/100 [00:03<00:00, 26.68it/s]\n",
      "Collecting explanations for Relative Representation Stability: 100%|██████████| 98/98 [03:25<00:00,  2.09s/it]\n"
     ]
    },
    {
     "name": "stdout",
     "output_type": "stream",
     "text": [
      "No \"perturb_func\" provided, using random noise as default\n"
     ]
    },
    {
     "name": "stderr",
     "output_type": "stream",
     "text": [
      "Collecting perturbation for Relative Representation Stability: 100%|██████████| 100/100 [00:03<00:00, 25.45it/s]\n",
      "Collecting explanations for Relative Representation Stability: 100%|██████████| 98/98 [02:59<00:00,  1.83s/it]\n"
     ]
    },
    {
     "name": "stdout",
     "output_type": "stream",
     "text": [
      "No \"perturb_func\" provided, using random noise as default\n"
     ]
    },
    {
     "name": "stderr",
     "output_type": "stream",
     "text": [
      "Collecting perturbation for Relative Representation Stability: 100%|██████████| 100/100 [00:02<00:00, 34.23it/s]\n",
      "Collecting explanations for Relative Representation Stability: 100%|██████████| 98/98 [03:08<00:00,  1.93s/it]\n"
     ]
    },
    {
     "data": {
      "text/html": [
       "<div>\n",
       "<style scoped>\n",
       "    .dataframe tbody tr th:only-of-type {\n",
       "        vertical-align: middle;\n",
       "    }\n",
       "\n",
       "    .dataframe tbody tr th {\n",
       "        vertical-align: top;\n",
       "    }\n",
       "\n",
       "    .dataframe thead th {\n",
       "        text-align: right;\n",
       "    }\n",
       "</style>\n",
       "<table border=\"1\" class=\"dataframe\">\n",
       "  <thead>\n",
       "    <tr style=\"text-align: right;\">\n",
       "      <th></th>\n",
       "      <th>description</th>\n",
       "      <th>rrs</th>\n",
       "    </tr>\n",
       "  </thead>\n",
       "  <tbody>\n",
       "    <tr>\n",
       "      <th>0</th>\n",
       "      <td>all layers</td>\n",
       "      <td>7.351668e+05</td>\n",
       "    </tr>\n",
       "    <tr>\n",
       "      <th>1</th>\n",
       "      <td>last conv layers</td>\n",
       "      <td>2.741306e+05</td>\n",
       "    </tr>\n",
       "    <tr>\n",
       "      <th>2</th>\n",
       "      <td>2 last hidden layers</td>\n",
       "      <td>4.080848e+06</td>\n",
       "    </tr>\n",
       "  </tbody>\n",
       "</table>\n",
       "</div>"
      ],
      "text/plain": [
       "            description           rrs\n",
       "0            all layers  7.351668e+05\n",
       "1      last conv layers  2.741306e+05\n",
       "2  2 last hidden layers  4.080848e+06"
      ]
     },
     "execution_count": 13,
     "metadata": {},
     "output_type": "execute_result"
    }
   ],
   "source": [
    "rrs = quantus.RelativeRepresentationStability(**relative_stability_params)\n",
    "\n",
    "rrs_result_1 = rrs(model=model, x_batch=x_batch, y_batch=y_batch, explain_func=quantus.explain, **explain_kwargs)\n",
    "rrs_result_2 = rrs(model=model, x_batch=x_batch, y_batch=y_batch, explain_func=quantus.explain,\n",
    "                   layer_names=['test_conv'], **explain_kwargs)\n",
    "rrs_result_3 = rrs(model=model, x_batch=x_batch, y_batch=y_batch, explain_func=quantus.explain,\n",
    "                   layer_indices=[7, 8], **explain_kwargs)\n",
    "\n",
    "df = pd.DataFrame()\n",
    "df['description'] = ['all layers', 'last conv layers', '2 last hidden layers']\n",
    "df['rrs'] = [rrs_result_1, rrs_result_2, rrs_result_3]\n",
    "df"
   ]
  }
 ],
 "metadata": {
  "accelerator": "GPU",
  "colab": {
   "collapsed_sections": [],
   "name": "tutorial_getting_started.ipynb",
   "provenance": [],
   "toc_visible": true
  },
  "kernelspec": {
   "display_name": "Python 3 (ipykernel)",
   "language": "python",
   "name": "python3"
  },
  "language_info": {
   "codemirror_mode": {
    "name": "ipython",
    "version": 3
   },
   "file_extension": ".py",
   "mimetype": "text/x-python",
   "name": "python",
   "nbconvert_exporter": "python",
   "pygments_lexer": "ipython3",
   "version": "3.9.12"
  }
 },
 "nbformat": 4,
 "nbformat_minor": 1
}
