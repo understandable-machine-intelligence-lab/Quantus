{
 "cells": [
  {
   "cell_type": "markdown",
   "metadata": {
    "id": "bukochgPFg7s",
    "pycharm": {
     "name": "#%% md\n"
    }
   },
   "source": [
    "# Getting started\n",
    "\n",
    "This notebook shows how to get started with Quantus on tensorflow, using a very simple example."
   ]
  },
  {
   "cell_type": "code",
   "execution_count": 1,
   "metadata": {
    "id": "MuA8v9jLp-pf",
    "pycharm": {
     "name": "#%%\n"
    }
   },
   "outputs": [],
   "source": [
    "import numpy as np # noqa\n",
    "import pandas as pd\n",
    "import matplotlib.pyplot as plt # noqa\n",
    "import tensorflow as tf # noqa\n",
    "import tensorflow_datasets as tfds\n",
    "\n",
    "import quantus"
   ]
  },
  {
   "cell_type": "markdown",
   "metadata": {
    "id": "mGhP4bTuoWYF",
    "pycharm": {
     "name": "#%% md\n"
    }
   },
   "source": [
    "## 1. Preliminaries"
   ]
  },
  {
   "cell_type": "markdown",
   "metadata": {
    "id": "XqKzag4VFjHT",
    "pycharm": {
     "name": "#%% md\n"
    }
   },
   "source": [
    "### 1.1 Load datasets\n",
    "\n",
    "We will then load a batch of input, output pairs that we generate explanations for, then to evaluate."
   ]
  },
  {
   "cell_type": "code",
   "execution_count": 2,
   "metadata": {
    "id": "TmsZxFhuc0mm",
    "pycharm": {
     "name": "#%%\n"
    }
   },
   "outputs": [
    {
     "data": {
      "text/plain": "(TensorSpec(shape=(28, 28, 1), dtype=tf.uint8, name=None),\n TensorSpec(shape=(), dtype=tf.int64, name=None))"
     },
     "execution_count": 2,
     "metadata": {},
     "output_type": "execute_result"
    }
   ],
   "source": [
    "# Load datasets\n",
    "(ds_train, ds_test), ds_info = tfds.load(\n",
    "    'mnist',\n",
    "    split=['train', 'test'],\n",
    "    shuffle_files=True,\n",
    "    as_supervised=True,\n",
    "    with_info=True,\n",
    ")\n",
    "ds_train.element_spec"
   ]
  },
  {
   "cell_type": "code",
   "execution_count": 3,
   "metadata": {
    "pycharm": {
     "name": "#%%\n"
    }
   },
   "outputs": [
    {
     "data": {
      "text/plain": "(TensorSpec(shape=(None, 28, 28, 1), dtype=tf.uint8, name=None),\n TensorSpec(shape=(None,), dtype=tf.int64, name=None))"
     },
     "execution_count": 3,
     "metadata": {},
     "output_type": "execute_result"
    }
   ],
   "source": [
    "# Build a training pipeline\n",
    "ds_train = ds_train.shuffle(128)\n",
    "ds_train = ds_train.batch(128)\n",
    "ds_train = ds_train.cache()\n",
    "ds_train = ds_train.prefetch(tf.data.AUTOTUNE)\n",
    "ds_train.element_spec"
   ]
  },
  {
   "cell_type": "code",
   "execution_count": 4,
   "metadata": {
    "pycharm": {
     "name": "#%%\n"
    }
   },
   "outputs": [
    {
     "data": {
      "text/plain": "(TensorSpec(shape=(None, 28, 28, 1), dtype=tf.uint8, name=None),\n TensorSpec(shape=(None,), dtype=tf.int64, name=None))"
     },
     "execution_count": 4,
     "metadata": {},
     "output_type": "execute_result"
    }
   ],
   "source": [
    "# Build an evaluation pipeline\n",
    "ds_test = ds_test.shuffle(128)\n",
    "ds_test = ds_test.batch(128)\n",
    "ds_test = ds_test.cache()\n",
    "ds_test = ds_test.prefetch(tf.data.AUTOTUNE)\n",
    "ds_test.element_spec"
   ]
  },
  {
   "cell_type": "code",
   "execution_count": 5,
   "metadata": {
    "pycharm": {
     "name": "#%%\n"
    }
   },
   "outputs": [
    {
     "name": "stderr",
     "output_type": "stream",
     "text": [
      "2022-08-13 12:58:52.624940: W tensorflow/core/kernels/data/cache_dataset_ops.cc:856] The calling iterator did not fully read the dataset being cached. In order to avoid unexpected truncation of the dataset, the partially cached contents of the dataset  will be discarded. This can happen if you have an input pipeline similar to `dataset.cache().take(k).repeat()`. You should use `dataset.take(k).cache().repeat()` instead.\n",
      "2022-08-13 12:58:52.624960: W tensorflow/core/kernels/data/cache_dataset_ops.cc:856] The calling iterator did not fully read the dataset being cached. In order to avoid unexpected truncation of the dataset, the partially cached contents of the dataset  will be discarded. This can happen if you have an input pipeline similar to `dataset.cache().take(k).repeat()`. You should use `dataset.take(k).cache().repeat()` instead.\n"
     ]
    },
    {
     "data": {
      "text/plain": "(128, 28, 28, 1)"
     },
     "execution_count": 5,
     "metadata": {},
     "output_type": "execute_result"
    }
   ],
   "source": [
    "x_batch, y_batch = ds_train.take(1).as_numpy_iterator().next()\n",
    "x_batch.shape"
   ]
  },
  {
   "cell_type": "code",
   "execution_count": 6,
   "outputs": [
    {
     "data": {
      "text/plain": "<Figure size 1080x216 with 5 Axes>",
      "image/png": "[encoded data removed]"
     },
     "metadata": {
      "needs_background": "light"
     },
     "output_type": "display_data"
    }
   ],
   "source": [
    "# Plot some inputs!\n",
    "nr_images = 5\n",
    "\n",
    "fig, axes = plt.subplots(nrows=1, ncols=nr_images, figsize=(nr_images*3, int(nr_images*2/3)))\n",
    "\n",
    "for i, (x, y) in enumerate(zip(x_batch[:nr_images], y_batch[:nr_images])):\n",
    "    axes[i].imshow((np.reshape(x, (28, 28)) * 255).astype(np.uint8), vmin=0.0, vmax=1.0, cmap=\"gray\")\n",
    "    axes[i].title.set_text(f\"MNIST class - {y}\")\n",
    "    axes[i].axis(\"off\")\n",
    "\n",
    "plt.show()"
   ],
   "metadata": {
    "collapsed": false,
    "pycharm": {
     "name": "#%%\n"
    }
   }
  },
  {
   "cell_type": "markdown",
   "metadata": {
    "id": "vmccxpA0n6MY",
    "pycharm": {
     "name": "#%% md\n"
    }
   },
   "source": [
    "### 1.2 Train a model"
   ]
  },
  {
   "cell_type": "code",
   "execution_count": 7,
   "metadata": {
    "colab": {
     "base_uri": "https://localhost:8080/"
    },
    "executionInfo": {
     "elapsed": 8,
     "status": "ok",
     "timestamp": 1640102275944,
     "user": {
      "displayName": "Anna Hedström",
      "photoUrl": "https://lh3.googleusercontent.com/a-/AOh14GhbfsluHeZ1mzN6Bsf-1zU62lYHcz183jYjeS63=s64",
      "userId": "05540180366077551505"
     },
     "user_tz": -60
    },
    "id": "CUghaOhXddLU",
    "outputId": "cb625cea-1bc4-477e-a549-4bd1e1a8e158",
    "pycharm": {
     "name": "#%%\n"
    }
   },
   "outputs": [
    {
     "name": "stdout",
     "output_type": "stream",
     "text": [
      "Epoch 1/5\n",
      "469/469 [==============================] - 41s 83ms/step - loss: 0.2594 - accuracy: 0.9223 - val_loss: 0.0662 - val_accuracy: 0.9788\n",
      "Epoch 2/5\n",
      "469/469 [==============================] - 66s 141ms/step - loss: 0.0592 - accuracy: 0.9818 - val_loss: 0.0424 - val_accuracy: 0.9858\n",
      "Epoch 3/5\n",
      "469/469 [==============================] - 67s 142ms/step - loss: 0.0411 - accuracy: 0.9872 - val_loss: 0.0422 - val_accuracy: 0.9860\n",
      "Epoch 4/5\n",
      "469/469 [==============================] - 47s 100ms/step - loss: 0.0326 - accuracy: 0.9895 - val_loss: 0.0417 - val_accuracy: 0.9867\n",
      "Epoch 5/5\n",
      "469/469 [==============================] - 43s 91ms/step - loss: 0.0272 - accuracy: 0.9916 - val_loss: 0.0399 - val_accuracy: 0.9879\n"
     ]
    },
    {
     "data": {
      "text/plain": "<keras.callbacks.History at 0x170606730>"
     },
     "execution_count": 7,
     "metadata": {},
     "output_type": "execute_result"
    }
   ],
   "source": [
    "model = quantus.cnn_2d_3channels_tf(28, 28, num_channels=1, num_classes=10)\n",
    "\n",
    "model.fit(\n",
    "    ds_train,\n",
    "    epochs=5,\n",
    "    validation_data=ds_test,\n",
    ")"
   ]
  },
  {
   "cell_type": "markdown",
   "metadata": {
    "id": "4vY9mZQanaxr",
    "pycharm": {
     "name": "#%% md\n"
    }
   },
   "source": [
    "### 1.3 Generate explanations\n",
    "\n",
    "There exist multiple ways to generate explanations for neural network models e.g., using `captum` or `innvestigate` libraries. In this example, we rely on the `quantus.explain` functionality (a simple wrapper around `captum`) however use whatever approach or library you'd like to create your explanations.\n",
    "\n",
    "**Requirements.**\n",
    "\n",
    "* **Data type.** Similar to the x-y pairs, the attributions should also be of type `np.ndarray`\n",
    "* **Shape.** Sharing all the same dimensions as the input (expect for nr_channels which for explanations is equal to 1). For example, if x_batch is of size (128, 3, 224, 224) then the attributions should be of size (128, 1, 224, 224)."
   ]
  },
  {
   "cell_type": "code",
   "execution_count": 8,
   "metadata": {
    "id": "gNxAtc2Co1pL",
    "pycharm": {
     "name": "#%%\n"
    }
   },
   "outputs": [],
   "source": [
    "# Generate Integrated Gradients attributions of the first batch of the test set.\n",
    "a_batch_intgrad = quantus.explain(model, x_batch, y_batch, **{'method': 'IntegratedGradients'})"
   ]
  },
  {
   "cell_type": "markdown",
   "metadata": {
    "id": "iRDwzUUp8bR2",
    "pycharm": {
     "name": "#%% md\n"
    }
   },
   "source": [
    "Visualise attributions given model and pairs of input-output."
   ]
  },
  {
   "cell_type": "code",
   "execution_count": 9,
   "metadata": {
    "colab": {
     "base_uri": "https://localhost:8080/",
     "height": 628
    },
    "executionInfo": {
     "elapsed": 3146,
     "status": "ok",
     "timestamp": 1640102281314,
     "user": {
      "displayName": "Anna Hedström",
      "photoUrl": "https://lh3.googleusercontent.com/a-/AOh14GhbfsluHeZ1mzN6Bsf-1zU62lYHcz183jYjeS63=s64",
      "userId": "05540180366077551505"
     },
     "user_tz": -60
    },
    "id": "82WWNmyoilXo",
    "outputId": "46910bcf-1acd-46a0-f479-8512f967143c",
    "pycharm": {
     "name": "#%%\n"
    }
   },
   "outputs": [
    {
     "data": {
      "text/plain": "<Figure size 540x648 with 6 Axes>",
      "image/png": "[encoded data removed]"
     },
     "metadata": {
      "needs_background": "light"
     },
     "output_type": "display_data"
    }
   ],
   "source": [
    "# Plot explanations!\n",
    "nr_images = 3\n",
    "fig, axes = plt.subplots(nrows=nr_images, ncols=2, figsize=(nr_images*2.5, int(nr_images*3)))\n",
    "for i in range(nr_images):\n",
    "    axes[i, 0].imshow((np.reshape(x_batch[i], (28, 28)) * 255).astype(np.uint8), vmin=0.0, vmax=1.0, cmap=\"gray\")\n",
    "    axes[i, 0].title.set_text(f\"MNIST digit {y_batch[i].item()}\")\n",
    "    axes[i, 0].axis(\"off\")\n",
    "    a = axes[i, 1].imshow(a_batch_intgrad[i], cmap=\"seismic\")\n",
    "    axes[i, 1].title.set_text(f\"Integrated Gradients\")\n",
    "    axes[i, 1].axis(\"off\")\n",
    "plt.tight_layout()\n",
    "plt.show()"
   ]
  },
  {
   "cell_type": "markdown",
   "metadata": {
    "id": "tuBkEBv3mihR",
    "pycharm": {
     "name": "#%% md\n"
    }
   },
   "source": [
    "## 2. Quantative evaluation using Quantus\n",
    "\n",
    "We can evaluate our explanations on a variety of quantuative criteria but as a motivating example we test the Max-Sensitivity (Yeh at el., 2019) of the explanations. This metric tests how the explanations maximally change while subject to slight perturbations."
   ]
  },
  {
   "cell_type": "code",
   "execution_count": 10,
   "outputs": [
    {
     "name": "stdout",
     "output_type": "stream",
     "text": [
      "\n",
      "argument 'img_size' is deprecated and will be removed in future versions.\n",
      "\n"
     ]
    },
    {
     "data": {
      "text/plain": "                 IntegratedGradients\nmax-Sensitivity             0.000055",
      "text/html": "<div>\n<style scoped>\n    .dataframe tbody tr th:only-of-type {\n        vertical-align: middle;\n    }\n\n    .dataframe tbody tr th {\n        vertical-align: top;\n    }\n\n    .dataframe thead th {\n        text-align: right;\n    }\n</style>\n<table border=\"1\" class=\"dataframe\">\n  <thead>\n    <tr style=\"text-align: right;\">\n      <th></th>\n      <th>IntegratedGradients</th>\n    </tr>\n  </thead>\n  <tbody>\n    <tr>\n      <th>max-Sensitivity</th>\n      <td>0.000055</td>\n    </tr>\n  </tbody>\n</table>\n</div>"
     },
     "execution_count": 10,
     "metadata": {},
     "output_type": "execute_result"
    }
   ],
   "source": [
    "params_eval_maxs = {\n",
    "    \"nr_samples\": 10,\n",
    "    \"perturb_radius\": 0.1,\n",
    "    \"norm_numerator\": quantus.fro_norm,\n",
    "    \"norm_denominator\": quantus.fro_norm,\n",
    "    \"perturb_func\": quantus.uniform_noise,\n",
    "    \"similarity_func\": quantus.difference,\n",
    "    \"disable_warnings\": True,\n",
    "    \"normalise\": True,\n",
    "    \"abs\": True,\n",
    "    \"show_progressbar\": True\n",
    "}\n",
    "\n",
    "\n",
    "metrics = {\"max-Sensitivity\": quantus.MaxSensitivity(**params_eval_maxs)}\n",
    "xai_methods = {\"IntegratedGradients\": a_batch_intgrad}\n",
    "\n",
    "results = quantus.evaluate(evaluation_metrics=metrics,\n",
    "                           explanation_methods=xai_methods,\n",
    "                           model=model,\n",
    "                           x_batch=x_batch,\n",
    "                           y_batch=y_batch,\n",
    "                           agg_func=np.mean,\n",
    "                           metrics = metrics,\n",
    "                           xai_methods = xai_methods,\n",
    "                           **{\"explain_func\": quantus.explain, \"img_size\": 28, \"normalise\": False, \"abs\": False})\n",
    "\n",
    "df = pd.DataFrame(results)\n",
    "df"
   ],
   "metadata": {
    "collapsed": false,
    "pycharm": {
     "name": "#%%\n"
    }
   }
  },
  {
   "cell_type": "code",
   "execution_count": 11,
   "outputs": [
    {
     "name": "stdout",
     "output_type": "stream",
     "text": [
      "\n",
      "argument 'img_size' is deprecated and will be removed in future versions.\n",
      "\n"
     ]
    },
    {
     "ename": "AssertionError",
     "evalue": "The settings for perturbing input e.g., 'perturb_func' didn't cause change in input. Reconsider the parameter settings.",
     "output_type": "error",
     "traceback": [
      "\u001B[0;31m---------------------------------------------------------------------------\u001B[0m",
      "\u001B[0;31mAssertionError\u001B[0m                            Traceback (most recent call last)",
      "Input \u001B[0;32mIn [11]\u001B[0m, in \u001B[0;36m<cell line: 13>\u001B[0;34m()\u001B[0m\n\u001B[1;32m      1\u001B[0m \u001B[38;5;66;03m# FIXME\u001B[39;00m\n\u001B[1;32m      2\u001B[0m \u001B[38;5;66;03m# Calculate Selectivity (Ancona et al., 2019)\u001B[39;00m\n\u001B[1;32m      3\u001B[0m params_eval_slct \u001B[38;5;241m=\u001B[39m {\n\u001B[1;32m      4\u001B[0m     \u001B[38;5;124m\"\u001B[39m\u001B[38;5;124mdisable_warnings\u001B[39m\u001B[38;5;124m\"\u001B[39m: \u001B[38;5;28;01mTrue\u001B[39;00m,\n\u001B[1;32m      5\u001B[0m     \u001B[38;5;124m\"\u001B[39m\u001B[38;5;124mnormalise\u001B[39m\u001B[38;5;124m\"\u001B[39m: \u001B[38;5;28;01mTrue\u001B[39;00m,\n\u001B[0;32m   (...)\u001B[0m\n\u001B[1;32m     10\u001B[0m     \u001B[38;5;124m\"\u001B[39m\u001B[38;5;124mshow_progressbar\u001B[39m\u001B[38;5;124m\"\u001B[39m: \u001B[38;5;28;01mTrue\u001B[39;00m\n\u001B[1;32m     11\u001B[0m }\n\u001B[0;32m---> 13\u001B[0m scores_intgrad_slct \u001B[38;5;241m=\u001B[39m \u001B[43mquantus\u001B[49m\u001B[38;5;241;43m.\u001B[39;49m\u001B[43mSelectivity\u001B[49m\u001B[43m(\u001B[49m\u001B[38;5;241;43m*\u001B[39;49m\u001B[38;5;241;43m*\u001B[39;49m\u001B[43mparams_eval_slct\u001B[49m\u001B[43m)\u001B[49m\u001B[43m(\u001B[49m\u001B[43mmodel\u001B[49m\u001B[38;5;241;43m=\u001B[39;49m\u001B[43mmodel\u001B[49m\u001B[43m,\u001B[49m\n\u001B[1;32m     14\u001B[0m \u001B[43m   \u001B[49m\u001B[43mx_batch\u001B[49m\u001B[38;5;241;43m=\u001B[39;49m\u001B[43mx_batch\u001B[49m\u001B[43m,\u001B[49m\n\u001B[1;32m     15\u001B[0m \u001B[43m   \u001B[49m\u001B[43my_batch\u001B[49m\u001B[38;5;241;43m=\u001B[39;49m\u001B[43my_batch\u001B[49m\u001B[43m,\u001B[49m\n\u001B[1;32m     16\u001B[0m \u001B[43m   \u001B[49m\u001B[43ma_batch\u001B[49m\u001B[38;5;241;43m=\u001B[39;49m\u001B[43ma_batch_intgrad\u001B[49m\u001B[43m,\u001B[49m\n\u001B[1;32m     17\u001B[0m \u001B[43m   \u001B[49m\u001B[38;5;241;43m*\u001B[39;49m\u001B[38;5;241;43m*\u001B[39;49m\u001B[43m{\u001B[49m\u001B[38;5;124;43m\"\u001B[39;49m\u001B[38;5;124;43mexplain_func\u001B[39;49m\u001B[38;5;124;43m\"\u001B[39;49m\u001B[43m:\u001B[49m\u001B[43m \u001B[49m\u001B[43mquantus\u001B[49m\u001B[38;5;241;43m.\u001B[39;49m\u001B[43mexplain\u001B[49m\u001B[43m,\u001B[49m\u001B[43m \u001B[49m\u001B[38;5;124;43m\"\u001B[39;49m\u001B[38;5;124;43mmethod\u001B[39;49m\u001B[38;5;124;43m\"\u001B[39;49m\u001B[43m:\u001B[49m\u001B[43m \u001B[49m\u001B[38;5;124;43m\"\u001B[39;49m\u001B[38;5;124;43mIntegratedGradients\u001B[39;49m\u001B[38;5;124;43m\"\u001B[39;49m\u001B[43m,\u001B[49m\u001B[43m \u001B[49m\u001B[38;5;124;43m\"\u001B[39;49m\u001B[38;5;124;43mimg_size\u001B[39;49m\u001B[38;5;124;43m\"\u001B[39;49m\u001B[43m:\u001B[49m\u001B[43m \u001B[49m\u001B[38;5;241;43m28\u001B[39;49m\u001B[43m,\u001B[49m\u001B[43m \u001B[49m\u001B[38;5;124;43m\"\u001B[39;49m\u001B[38;5;124;43mnormalise\u001B[39;49m\u001B[38;5;124;43m\"\u001B[39;49m\u001B[43m:\u001B[49m\u001B[43m \u001B[49m\u001B[38;5;28;43;01mTrue\u001B[39;49;00m\u001B[43m,\u001B[49m\u001B[43m \u001B[49m\u001B[38;5;124;43m\"\u001B[39;49m\u001B[38;5;124;43mabs\u001B[39;49m\u001B[38;5;124;43m\"\u001B[39;49m\u001B[43m:\u001B[49m\u001B[43m \u001B[49m\u001B[38;5;28;43;01mTrue\u001B[39;49;00m\u001B[43m}\u001B[49m\u001B[43m)\u001B[49m\n\u001B[1;32m     20\u001B[0m scores_intgrad_slct\n",
      "File \u001B[0;32m~/Documents/PycharmProjects/Quantus/quantus/metrics/faithfulness_metrics.py:2053\u001B[0m, in \u001B[0;36mSelectivity.__call__\u001B[0;34m(self, model, x_batch, y_batch, a_batch, s_batch, *args, **kwargs)\u001B[0m\n\u001B[1;32m   2048\u001B[0m \u001B[38;5;66;03m# Remove padding.\u001B[39;00m\n\u001B[1;32m   2049\u001B[0m x_perturbed \u001B[38;5;241m=\u001B[39m utils\u001B[38;5;241m.\u001B[39m_unpad_array(\n\u001B[1;32m   2050\u001B[0m     x_perturbed_pad, pad_width, padded_axes\u001B[38;5;241m=\u001B[39ma_axes\n\u001B[1;32m   2051\u001B[0m )\n\u001B[0;32m-> 2053\u001B[0m \u001B[43masserts\u001B[49m\u001B[38;5;241;43m.\u001B[39;49m\u001B[43massert_perturbation_caused_change\u001B[49m\u001B[43m(\u001B[49m\u001B[43mx\u001B[49m\u001B[38;5;241;43m=\u001B[39;49m\u001B[43mx\u001B[49m\u001B[43m,\u001B[49m\u001B[43m \u001B[49m\u001B[43mx_perturbed\u001B[49m\u001B[38;5;241;43m=\u001B[39;49m\u001B[43mx_perturbed\u001B[49m\u001B[43m)\u001B[49m\n\u001B[1;32m   2055\u001B[0m \u001B[38;5;66;03m# Predict on perturbed input x and store the difference from predicting on unperturbed input.\u001B[39;00m\n\u001B[1;32m   2056\u001B[0m x_input \u001B[38;5;241m=\u001B[39m model\u001B[38;5;241m.\u001B[39mshape_input(x_perturbed, x\u001B[38;5;241m.\u001B[39mshape, channel_first\u001B[38;5;241m=\u001B[39m\u001B[38;5;28;01mTrue\u001B[39;00m)\n",
      "File \u001B[0;32m~/Documents/PycharmProjects/Quantus/quantus/helpers/asserts.py:102\u001B[0m, in \u001B[0;36massert_perturbation_caused_change\u001B[0;34m(x, x_perturbed)\u001B[0m\n\u001B[1;32m    100\u001B[0m \u001B[38;5;28;01mdef\u001B[39;00m \u001B[38;5;21massert_perturbation_caused_change\u001B[39m(x: np\u001B[38;5;241m.\u001B[39mndarray, x_perturbed: np\u001B[38;5;241m.\u001B[39mndarray) \u001B[38;5;241m-\u001B[39m\u001B[38;5;241m>\u001B[39m \u001B[38;5;28;01mNone\u001B[39;00m:\n\u001B[1;32m    101\u001B[0m     \u001B[38;5;124;03m\"\"\"Assert that perturbation applied to input caused change so that input and perturbed input is not the same.\"\"\"\u001B[39;00m\n\u001B[0;32m--> 102\u001B[0m     \u001B[38;5;28;01massert\u001B[39;00m (x\u001B[38;5;241m.\u001B[39mflatten() \u001B[38;5;241m!=\u001B[39m x_perturbed\u001B[38;5;241m.\u001B[39mflatten())\u001B[38;5;241m.\u001B[39many(), (\n\u001B[1;32m    103\u001B[0m         \u001B[38;5;124m\"\u001B[39m\u001B[38;5;124mThe settings for perturbing input e.g., \u001B[39m\u001B[38;5;124m'\u001B[39m\u001B[38;5;124mperturb_func\u001B[39m\u001B[38;5;124m'\u001B[39m\u001B[38;5;124m \u001B[39m\u001B[38;5;124m\"\u001B[39m\n\u001B[1;32m    104\u001B[0m         \u001B[38;5;124m\"\u001B[39m\u001B[38;5;124mdidn\u001B[39m\u001B[38;5;124m'\u001B[39m\u001B[38;5;124mt cause change in input. \u001B[39m\u001B[38;5;124m\"\u001B[39m\n\u001B[1;32m    105\u001B[0m         \u001B[38;5;124m\"\u001B[39m\u001B[38;5;124mReconsider the parameter settings.\u001B[39m\u001B[38;5;124m\"\u001B[39m\n\u001B[1;32m    106\u001B[0m     )\n",
      "\u001B[0;31mAssertionError\u001B[0m: The settings for perturbing input e.g., 'perturb_func' didn't cause change in input. Reconsider the parameter settings."
     ]
    }
   ],
   "source": [
    "# FIXME\n",
    "# Calculate Selectivity (Ancona et al., 2019)\n",
    "params_eval_slct = {\n",
    "    \"disable_warnings\": True,\n",
    "    \"normalise\": True,\n",
    "    \"abs\": True,\n",
    "    \"perturb_baseline\": \"uniform\",\n",
    "    \"patch_size\": 4,\n",
    "    \"nr_channels\": 1,\n",
    "    \"show_progressbar\": True\n",
    "}\n",
    "\n",
    "scores_intgrad_slct = quantus.Selectivity(**params_eval_slct)(model=model,\n",
    "   x_batch=x_batch,\n",
    "   y_batch=y_batch,\n",
    "   a_batch=a_batch_intgrad,\n",
    "   **{\"explain_func\": quantus.explain, \"method\": \"IntegratedGradients\", \"img_size\": 28, \"normalise\": True, \"abs\": True})\n",
    "\n",
    "\n",
    "scores_intgrad_slct"
   ],
   "metadata": {
    "collapsed": false,
    "pycharm": {
     "name": "#%%\n"
    }
   }
  },
  {
   "cell_type": "markdown",
   "source": [
    "## [Relative Stability](https://arxiv.org/pdf/2203.06877.pdf)"
   ],
   "metadata": {
    "collapsed": false,
    "pycharm": {
     "name": "#%% md\n"
    }
   }
  },
  {
   "cell_type": "code",
   "execution_count": 12,
   "outputs": [
    {
     "name": "stderr",
     "output_type": "stream",
     "text": [
      "/Users/artemsereda/Documents/PycharmProjects/Quantus/quantus/metrics/robustness_metrics/relative_stability.py:150: UserWarning: No \"perturb_func\" provided, using random noise as default\n",
      "  warnings.warn(\n",
      "Collecting perturbation for Relative Input Stability: 100%|██████████| 100/100 [00:02<00:00, 48.71it/s]\n",
      "Collecting explanations for Relative Input Stability: 100%|██████████| 100/100 [00:47<00:00,  2.11it/s]\n"
     ]
    },
    {
     "data": {
      "text/plain": "DeviceArray(44965.613, dtype=float32)"
     },
     "execution_count": 12,
     "metadata": {},
     "output_type": "execute_result"
    }
   ],
   "source": [
    "relative_stability_params = {\n",
    "    'display_progressbar': True,\n",
    "    'return_aggregate': True\n",
    "}\n",
    "\n",
    "ris = quantus.RelativeInputStability(**relative_stability_params)\n",
    "\n",
    "ris_result = ris(model=model, x_batch=x_batch, y_batch=y_batch, explain_func=quantus.explain, method='IntegratedGradients')\n",
    "ris_result"
   ],
   "metadata": {
    "collapsed": false,
    "pycharm": {
     "name": "#%%\n"
    }
   }
  },
  {
   "cell_type": "code",
   "execution_count": 13,
   "outputs": [
    {
     "name": "stderr",
     "output_type": "stream",
     "text": [
      "Collecting perturbation for Relative Representation Stability: 100%|██████████| 100/100 [00:01<00:00, 51.80it/s]\n",
      "Collecting explanations for Relative Representation Stability: 100%|██████████| 100/100 [01:02<00:00,  1.59it/s]\n"
     ]
    },
    {
     "data": {
      "text/plain": "DeviceArray(469.63586, dtype=float32)"
     },
     "execution_count": 13,
     "metadata": {},
     "output_type": "execute_result"
    }
   ],
   "source": [
    "rrs = quantus.RelativeRepresentationStability(**relative_stability_params)\n",
    "\n",
    "rrs_result = rrs(model=model, x_batch=x_batch, y_batch=y_batch, explain_func=quantus.explain, method='IntegratedGradients')\n",
    "rrs_result"
   ],
   "metadata": {
    "collapsed": false,
    "pycharm": {
     "name": "#%%\n"
    }
   }
  },
  {
   "cell_type": "code",
   "execution_count": 14,
   "outputs": [
    {
     "name": "stderr",
     "output_type": "stream",
     "text": [
      "Collecting perturbation for Relative Output Stability: 100%|██████████| 100/100 [00:02<00:00, 39.27it/s]\n",
      "Collecting explanations for Relative Output Stability: 100%|██████████| 100/100 [01:35<00:00,  1.04it/s]\n"
     ]
    },
    {
     "data": {
      "text/plain": "DeviceArray(2.1797215e+11, dtype=float32)"
     },
     "execution_count": 14,
     "metadata": {},
     "output_type": "execute_result"
    }
   ],
   "source": [
    "ros = quantus.RelativeOutputStability(**relative_stability_params)\n",
    "\n",
    "ros_result = ros(model=model, x_batch=x_batch, y_batch=y_batch, explain_func=quantus.explain, method='IntegratedGradients')\n",
    "ros_result"
   ],
   "metadata": {
    "collapsed": false,
    "pycharm": {
     "name": "#%%\n"
    }
   }
  }
 ],
 "metadata": {
  "accelerator": "GPU",
  "colab": {
   "collapsed_sections": [],
   "name": "tutorial_getting_started.ipynb",
   "provenance": [],
   "toc_visible": true
  },
  "kernelspec": {
   "display_name": "Python 3 (ipykernel)",
   "language": "python",
   "name": "python3"
  },
  "language_info": {
   "codemirror_mode": {
    "name": "ipython",
    "version": 3
   },
   "file_extension": ".py",
   "mimetype": "text/x-python",
   "name": "python",
   "nbconvert_exporter": "python",
   "pygments_lexer": "ipython3",
   "version": "3.8.12"
  }
 },
 "nbformat": 4,
 "nbformat_minor": 1
}