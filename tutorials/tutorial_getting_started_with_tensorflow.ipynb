{
 "cells": [
  {
   "cell_type": "markdown",
   "metadata": {
    "id": "bukochgPFg7s"
   },
   "source": [
    "# Getting started\n",
    "\n",
    "This notebook shows how to get started with Quantus on tensorflow, using a very simple example."
   ]
  },
  {
   "cell_type": "code",
   "execution_count": 1,
   "metadata": {
    "id": "MuA8v9jLp-pf"
   },
   "outputs": [],
   "source": [
    "# Imports general.\n",
    "import numpy as np\n",
    "import pandas as pd\n",
    "import matplotlib.pyplot as plt\n",
    "import tensorflow as tf\n",
    "import tensorflow_datasets as tfds\n",
    "from tensorflow.image import grayscale_to_rgb\n",
    "import tf_explain\n",
    "\n",
    "import quantus\n",
    "from quantus.metrics import *"
   ]
  },
  {
   "cell_type": "markdown",
   "metadata": {
    "id": "mGhP4bTuoWYF"
   },
   "source": [
    "## 1. Preliminaries"
   ]
  },
  {
   "cell_type": "markdown",
   "metadata": {
    "id": "XqKzag4VFjHT"
   },
   "source": [
    "### 1.1 Load datasets\n",
    "\n",
    "We will then load a batch of input, output pairs that we generate explanations for, then to evaluate."
   ]
  },
  {
   "cell_type": "code",
   "execution_count": 9,
   "metadata": {
    "id": "TmsZxFhuc0mm"
   },
   "outputs": [],
   "source": [
    "# Load datasets\n",
    "(ds_train, ds_test), ds_info = tfds.load(\n",
    "    'mnist',\n",
    "    split=['train', 'test'],\n",
    "    shuffle_files=True,\n",
    "    as_supervised=True,\n",
    "    with_info=True,\n",
    ")"
   ]
  },
  {
   "cell_type": "code",
   "execution_count": 10,
   "metadata": {
    "colab": {
     "base_uri": "https://localhost:8080/",
     "height": 191
    },
    "executionInfo": {
     "elapsed": 501,
     "status": "ok",
     "timestamp": 1640102275943,
     "user": {
      "displayName": "Anna Hedström",
      "photoUrl": "https://lh3.googleusercontent.com/a-/AOh14GhbfsluHeZ1mzN6Bsf-1zU62lYHcz183jYjeS63=s64",
      "userId": "05540180366077551505"
     },
     "user_tz": -60
    },
    "id": "aAR67-cnOS67",
    "outputId": "694e08b4-89fd-4be9-d19a-161e9d41dcd5"
   },
   "outputs": [
    {
     "name": "stderr",
     "output_type": "stream",
     "text": [
      "2022-03-16 20:19:22.272810: W tensorflow/core/kernels/data/cache_dataset_ops.cc:768] The calling iterator did not fully read the dataset being cached. In order to avoid unexpected truncation of the dataset, the partially cached contents of the dataset  will be discarded. This can happen if you have an input pipeline similar to `dataset.cache().take(k).repeat()`. You should use `dataset.take(k).cache().repeat()` instead.\n"
     ]
    },
    {
     "data": {
      "image/png": "[encoded data removed]",
      "text/plain": [
       "<Figure size 1080x216 with 5 Axes>"
      ]
     },
     "metadata": {
      "needs_background": "light"
     },
     "output_type": "display_data"
    }
   ],
   "source": [
    "# Plot some inputs!\n",
    "i = 0\n",
    "nr_images = 5\n",
    "fig, axes = plt.subplots(nrows=1, ncols=nr_images, figsize=(nr_images*3, int(nr_images*2/3)))\n",
    "for x_batch, y_batch in ds_train.take(nr_images):\n",
    "    axes[i].imshow((np.reshape(x_batch.numpy(), (28, 28)) * 255).astype(np.uint8), vmin=0.0, vmax=1.0, cmap=\"gray\")\n",
    "    axes[i].title.set_text(f\"MNIST class - {y_batch}\")\n",
    "    axes[i].axis(\"off\")\n",
    "    i += 1\n",
    "\n",
    "plt.show()"
   ]
  },
  {
   "cell_type": "code",
   "execution_count": 11,
   "metadata": {
    "pycharm": {
     "name": "#%%\n"
    }
   },
   "outputs": [],
   "source": [
    "# Build a training pipeline\n",
    "\n",
    "def normalize_img(image, label):\n",
    "  \"\"\"Normalizes images: `uint8` -> `float32`.\"\"\"\n",
    "  return tf.expand_dims(tf.cast(image, tf.float32), axis = 3) / 255., label\n",
    "\n",
    "def to_rgb(image, label):\n",
    "    return grayscale_to_rgb(image), label\n",
    "\n",
    "ds_train = ds_train.map(\n",
    "    normalize_img, num_parallel_calls=tf.data.AUTOTUNE)\n",
    "ds_train = ds_train.cache()\n",
    "ds_train = ds_train.shuffle(ds_info.splits['train'].num_examples)\n",
    "ds_train = ds_train.batch(128)\n",
    "ds_train = ds_train.prefetch(tf.data.AUTOTUNE)"
   ]
  },
  {
   "cell_type": "code",
   "execution_count": 12,
   "metadata": {
    "pycharm": {
     "name": "#%%\n"
    }
   },
   "outputs": [],
   "source": [
    "# Build an evaluation pipeline\n",
    "ds_test = ds_test.map(\n",
    "    normalize_img, num_parallel_calls=tf.data.AUTOTUNE)\n",
    "ds_test = ds_test.batch(128)\n",
    "ds_test = ds_test.cache()\n",
    "ds_test = ds_test.prefetch(tf.data.AUTOTUNE)"
   ]
  },
  {
   "cell_type": "code",
   "execution_count": 13,
   "metadata": {},
   "outputs": [
    {
     "name": "stderr",
     "output_type": "stream",
     "text": [
      "2022-03-16 20:19:24.112291: W tensorflow/core/kernels/data/cache_dataset_ops.cc:768] The calling iterator did not fully read the dataset being cached. In order to avoid unexpected truncation of the dataset, the partially cached contents of the dataset  will be discarded. This can happen if you have an input pipeline similar to `dataset.cache().take(k).repeat()`. You should use `dataset.take(k).cache().repeat()` instead.\n",
      "2022-03-16 20:19:24.112320: W tensorflow/core/kernels/data/cache_dataset_ops.cc:768] The calling iterator did not fully read the dataset being cached. In order to avoid unexpected truncation of the dataset, the partially cached contents of the dataset  will be discarded. This can happen if you have an input pipeline similar to `dataset.cache().take(k).repeat()`. You should use `dataset.take(k).cache().repeat()` instead.\n"
     ]
    }
   ],
   "source": [
    "x_batch, y_batch = next(iter(ds_test))\n",
    "x_batch = x_batch.numpy() [:,:,:,0]\n",
    "y_batch = y_batch.numpy() "
   ]
  },
  {
   "cell_type": "markdown",
   "metadata": {
    "id": "vmccxpA0n6MY"
   },
   "source": [
    "### 1.2 Train a model"
   ]
  },
  {
   "cell_type": "code",
   "execution_count": 14,
   "metadata": {
    "colab": {
     "base_uri": "https://localhost:8080/"
    },
    "executionInfo": {
     "elapsed": 8,
     "status": "ok",
     "timestamp": 1640102275944,
     "user": {
      "displayName": "Anna Hedström",
      "photoUrl": "https://lh3.googleusercontent.com/a-/AOh14GhbfsluHeZ1mzN6Bsf-1zU62lYHcz183jYjeS63=s64",
      "userId": "05540180366077551505"
     },
     "user_tz": -60
    },
    "id": "CUghaOhXddLU",
    "outputId": "cb625cea-1bc4-477e-a549-4bd1e1a8e158"
   },
   "outputs": [
    {
     "name": "stdout",
     "output_type": "stream",
     "text": [
      "Epoch 1/6\n",
      "469/469 [==============================] - 1s 1ms/step - loss: 0.3657 - sparse_categorical_accuracy: 0.8990 - val_loss: 0.1961 - val_sparse_categorical_accuracy: 0.9434\n",
      "Epoch 2/6\n",
      "469/469 [==============================] - 0s 943us/step - loss: 0.1643 - sparse_categorical_accuracy: 0.9526 - val_loss: 0.1385 - val_sparse_categorical_accuracy: 0.9590\n",
      "Epoch 3/6\n",
      "469/469 [==============================] - 0s 945us/step - loss: 0.1180 - sparse_categorical_accuracy: 0.9653 - val_loss: 0.1101 - val_sparse_categorical_accuracy: 0.9680\n",
      "Epoch 4/6\n",
      "469/469 [==============================] - 0s 942us/step - loss: 0.0913 - sparse_categorical_accuracy: 0.9735 - val_loss: 0.0975 - val_sparse_categorical_accuracy: 0.9707\n",
      "Epoch 5/6\n",
      "469/469 [==============================] - 0s 950us/step - loss: 0.0734 - sparse_categorical_accuracy: 0.9789 - val_loss: 0.0920 - val_sparse_categorical_accuracy: 0.9722\n",
      "Epoch 6/6\n",
      "469/469 [==============================] - 0s 945us/step - loss: 0.0608 - sparse_categorical_accuracy: 0.9827 - val_loss: 0.0779 - val_sparse_categorical_accuracy: 0.9761\n",
      "Model: \"sequential\"\n",
      "_________________________________________________________________\n",
      " Layer (type)                Output Shape              Param #   \n",
      "=================================================================\n",
      " flatten_1 (Flatten)         (None, 784)               0         \n",
      "                                                                 \n",
      " dense_2 (Dense)             (None, 128)               100480    \n",
      "                                                                 \n",
      " dense_3 (Dense)             (None, 10)                1290      \n",
      "                                                                 \n",
      "=================================================================\n",
      "Total params: 101,770\n",
      "Trainable params: 101,770\n",
      "Non-trainable params: 0\n",
      "_________________________________________________________________\n",
      "\n",
      " Model architecture: None\n",
      "\n"
     ]
    }
   ],
   "source": [
    "model = tf.keras.models.Sequential([\n",
    "  tf.keras.layers.Flatten(input_shape=(28, 28, 1)),\n",
    "  tf.keras.layers.Dense(128, activation='relu'),\n",
    "  tf.keras.layers.Dense(10)\n",
    "])\n",
    "model.compile(\n",
    "    optimizer=tf.keras.optimizers.Adam(0.001),\n",
    "    loss=tf.keras.losses.SparseCategoricalCrossentropy(from_logits=True),\n",
    "    metrics=[tf.keras.metrics.SparseCategoricalAccuracy()],\n",
    ")\n",
    "\n",
    "model.fit(\n",
    "    ds_train,\n",
    "    epochs=6,\n",
    "    validation_data=ds_test,\n",
    ")\n",
    "\n",
    "print(f\"\\n Model architecture: {model.summary()}\\n\")"
   ]
  },
  {
   "cell_type": "markdown",
   "metadata": {
    "id": "4vY9mZQanaxr"
   },
   "source": [
    "### 1.3 Generate explanations\n",
    "\n",
    "There exist multiple ways to generate explanations for neural network models e.g., using `captum` or `innvestigate` libraries. In this example, we rely on the `quantus.explain` functionality (a simple wrapper around `captum`) however use whatever approach or library you'd like to create your explanations.\n",
    "\n",
    "**Requirements.**\n",
    "\n",
    "* **Data type.** Similar to the x-y pairs, the attributions should also be of type `np.ndarray`\n",
    "* **Shape.** Sharing all the same dimensions as the input (expect for nr_channels which for explanations is equal to 1). For example, if x_batch is of size (128, 3, 224, 224) then the attributions should be of size (128, 1, 224, 224)."
   ]
  },
  {
   "cell_type": "code",
   "execution_count": 16,
   "metadata": {
    "id": "gNxAtc2Co1pL"
   },
   "outputs": [],
   "source": [
    "# Generate Integrated Gradients attributions of the first batch of the test set.\n",
    "a_batch_intgrad = (\n",
    "            np.array(\n",
    "                list(\n",
    "                    map(\n",
    "                        lambda x, y: tf_explain.core.integrated_gradients.IntegratedGradients().explain(\n",
    "                            ([x], None), model, y, n_steps=10\n",
    "                        ),\n",
    "                        x_batch,\n",
    "                        y_batch,\n",
    "                    )\n",
    "                ),\n",
    "                dtype=float,\n",
    "            )\n",
    "            / 255\n",
    "        )"
   ]
  },
  {
   "cell_type": "markdown",
   "metadata": {
    "id": "iRDwzUUp8bR2"
   },
   "source": [
    "Visualise attributions given model and pairs of input-output."
   ]
  },
  {
   "cell_type": "code",
   "execution_count": 17,
   "metadata": {
    "colab": {
     "base_uri": "https://localhost:8080/",
     "height": 628
    },
    "executionInfo": {
     "elapsed": 3146,
     "status": "ok",
     "timestamp": 1640102281314,
     "user": {
      "displayName": "Anna Hedström",
      "photoUrl": "https://lh3.googleusercontent.com/a-/AOh14GhbfsluHeZ1mzN6Bsf-1zU62lYHcz183jYjeS63=s64",
      "userId": "05540180366077551505"
     },
     "user_tz": -60
    },
    "id": "82WWNmyoilXo",
    "outputId": "46910bcf-1acd-46a0-f479-8512f967143c"
   },
   "outputs": [
    {
     "data": {
      "image/png": "[encoded data removed]",
      "text/plain": [
       "<Figure size 540x648 with 6 Axes>"
      ]
     },
     "metadata": {
      "needs_background": "light"
     },
     "output_type": "display_data"
    }
   ],
   "source": [
    "# Plot explanations!\n",
    "nr_images = 3\n",
    "fig, axes = plt.subplots(nrows=nr_images, ncols=2, figsize=(nr_images*2.5, int(nr_images*3)))\n",
    "for i in range(nr_images):\n",
    "    axes[i, 0].imshow((np.reshape(x_batch[i], (28, 28)) * 255).astype(np.uint8), vmin=0.0, vmax=1.0, cmap=\"gray\")\n",
    "    axes[i, 0].title.set_text(f\"MNIST digit {y_batch[i].item()}\")\n",
    "    axes[i, 0].axis(\"off\")\n",
    "    a = axes[i, 1].imshow(a_batch_intgrad[i], cmap=\"seismic\")\n",
    "    axes[i, 1].title.set_text(f\"Integrated Gradients\")\n",
    "    axes[i, 1].axis(\"off\")\n",
    "plt.tight_layout()\n",
    "plt.show()"
   ]
  },
  {
   "cell_type": "markdown",
   "metadata": {
    "id": "tuBkEBv3mihR"
   },
   "source": [
    "## 2. Quantative evaluation using Quantus\n",
    "\n",
    "We can evaluate our explanations on a variety of quantuative criteria but as a motivating example we test the Max-Sensitivity (Yeh at el., 2019) of the explanations. This metric tests how the explanations maximally change while subject to slight perturbations."
   ]
  },
  {
   "cell_type": "code",
   "execution_count": 28,
   "metadata": {
    "id": "aLjrKsT6mS9X"
   },
   "outputs": [],
   "source": [
    "# Define params for evaluation.\n",
    "params_eval_maxs = {\n",
    "    \"nr_samples\": 10,\n",
    "    \"perturb_radius\": 0.1,\n",
    "    \"norm_numerator\": quantus.fro_norm,\n",
    "    \"norm_denominator\": quantus.fro_norm,\n",
    "    \"perturb_func\": quantus.uniform_noise,\n",
    "    \"similarity_func\": quantus.difference,\n",
    "    \"disable_warnings\": True,\n",
    "    \"normalise\": True,\n",
    "    \"abs\": True,\n",
    "}"
   ]
  },
  {
   "cell_type": "code",
   "execution_count": 29,
   "metadata": {
    "id": "iq7qqDfSmIdj"
   },
   "outputs": [],
   "source": [
    "# Return max sensitivity scores in an one-liner - by calling the metric instance.\n",
    "scores_intgrad_maxs = quantus.MaxSensitivity(**params_eval_maxs)(model=model, \n",
    "   x_batch=x_batch,\n",
    "   y_batch=y_batch,\n",
    "   a_batch=a_batch_intgrad,\n",
    "   **{\"explain_func\": quantus.explain, \"method\": \"IntegratedGradients\", \"img_size\": 28, \"normalise\": True, \"abs\": True})"
   ]
  },
  {
   "cell_type": "code",
   "execution_count": 38,
   "metadata": {
    "id": "uGYHGu1Esya7"
   },
   "outputs": [
    {
     "data": {
      "text/html": [
       "<div>\n",
       "<style scoped>\n",
       "    .dataframe tbody tr th:only-of-type {\n",
       "        vertical-align: middle;\n",
       "    }\n",
       "\n",
       "    .dataframe tbody tr th {\n",
       "        vertical-align: top;\n",
       "    }\n",
       "\n",
       "    .dataframe thead th {\n",
       "        text-align: right;\n",
       "    }\n",
       "</style>\n",
       "<table border=\"1\" class=\"dataframe\">\n",
       "  <thead>\n",
       "    <tr style=\"text-align: right;\">\n",
       "      <th></th>\n",
       "      <th>IntegratedGradients</th>\n",
       "    </tr>\n",
       "  </thead>\n",
       "  <tbody>\n",
       "    <tr>\n",
       "      <th>max-Sensitivity</th>\n",
       "      <td>0.659003</td>\n",
       "    </tr>\n",
       "  </tbody>\n",
       "</table>\n",
       "</div>"
      ],
      "text/plain": [
       "                 IntegratedGradients\n",
       "max-Sensitivity             0.659003"
      ]
     },
     "execution_count": 38,
     "metadata": {},
     "output_type": "execute_result"
    }
   ],
   "source": [
    "metrics = {\"max-Sensitivity\": quantus.MaxSensitivity(**params_eval_maxs)}\n",
    "\n",
    "xai_methods = {\"IntegratedGradients\": a_batch_intgrad}\n",
    "\n",
    "results = quantus.evaluate(evaluation_metrics=metrics,\n",
    "                           explanation_methods=xai_methods,\n",
    "                           model=model,\n",
    "                           x_batch=x_batch,\n",
    "                           y_batch=y_batch,\n",
    "                           agg_func=np.mean,\n",
    "                           metrics = metrics,\n",
    "                           xai_methods = xai_methods,\n",
    "                           **{\"explain_func\": quantus.explain, \"img_size\": 28, \"normalise\": False, \"abs\": False})\n",
    "\n",
    "df = pd.DataFrame(results)\n",
    "df"
   ]
  },
  {
   "cell_type": "code",
   "execution_count": 39,
   "metadata": {},
   "outputs": [],
   "source": [
    "# Calculate Selectivity (Ancona et al., 2019)\n",
    "params_eval_slct = {\n",
    "    \"perturb_func\": quantus.baseline_replacement_by_patch,\n",
    "    \"disable_warnings\": True,\n",
    "    \"normalise\": True,\n",
    "    \"abs\": True,\n",
    "    \"perturb_baseline\": \"random\",\n",
    "    \"patch_size\": 4,\n",
    "    \"nr_channels\": 1\n",
    "}\n",
    "\n",
    "scores_intgrad_slct = quantus.Selectivity(**params_eval_slct)(model=model, \n",
    "   x_batch=x_batch,\n",
    "   y_batch=y_batch,\n",
    "   a_batch=a_batch_intgrad,\n",
    "   **{\"explain_func\": quantus.explain, \"method\": \"IntegratedGradients\", \"img_size\": 28, \"normalise\": True, \"abs\": True})"
   ]
  },
  {
   "cell_type": "code",
   "execution_count": null,
   "metadata": {
    "id": "X9DkYz4BuySK"
   },
   "outputs": [],
   "source": []
  }
 ],
 "metadata": {
  "accelerator": "GPU",
  "colab": {
   "collapsed_sections": [],
   "name": "tutorial_getting_started.ipynb",
   "provenance": [],
   "toc_visible": true
  },
  "kernelspec": {
   "display_name": "Python 3 (ipykernel)",
   "language": "python",
   "name": "python3"
  },
  "language_info": {
   "codemirror_mode": {
    "name": "ipython",
    "version": 3
   },
   "file_extension": ".py",
   "mimetype": "text/x-python",
   "name": "python",
   "nbconvert_exporter": "python",
   "pygments_lexer": "ipython3",
   "version": "3.8.12"
  }
 },
 "nbformat": 4,
 "nbformat_minor": 1
}
