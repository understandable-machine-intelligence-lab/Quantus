{
 "cells": [
  {
   "cell_type": "markdown",
   "source": [
    "## Quantus: built-in XAI methods overview.\n",
    "There are no XAI libraries focusing on NLP models, so we provide a range of popular XAI methods built-in in Quantus.\n",
    "Some of them are just wrappers around 3-rd party libraries (e.g., LIME, SHAP, NoiseGrad).\n",
    "They-re compatible with Torch and tensorflow models from Huggingface Hub out of the box.\n",
    "In order to use them with your own model, you have to implement `TensorflowTextClassifier` or `TorchTextClassifier` respectively."
   ],
   "metadata": {
    "collapsed": false
   }
  },
  {
   "cell_type": "code",
   "execution_count": null,
   "outputs": [],
   "source": [
    "%load_ext autoreload\n",
    "%autoreload 2"
   ],
   "metadata": {
    "collapsed": false
   }
  },
  {
   "cell_type": "code",
   "execution_count": null,
   "outputs": [],
   "source": [
    "import quantus.nlp as qn\n",
    "from tqdm.auto import tqdm\n",
    "from quantus.nlp.helpers.utils import map_explanations"
   ],
   "metadata": {
    "collapsed": false
   }
  },
  {
   "cell_type": "markdown",
   "source": [
    "#### 1. Create model, generate predictions."
   ],
   "metadata": {
    "collapsed": false
   }
  },
  {
   "cell_type": "code",
   "execution_count": null,
   "outputs": [],
   "source": [
    "model = qn.TensorFlowHuggingFaceTextClassifier.from_pretrained(\"gchhablani/bert-base-cased-finetuned-sst2\", from_pt=True)"
   ],
   "metadata": {
    "collapsed": false
   }
  },
  {
   "cell_type": "code",
   "execution_count": null,
   "outputs": [],
   "source": [
    "x_batch = [\"director rob marshall went out gunning to make a great one .\"]\n",
    "y_batch = model.predict(x_batch).argmax(axis=-1)\n",
    "model.unwrap().config.id2label[y_batch[0]]"
   ],
   "metadata": {
    "collapsed": false
   }
  },
  {
   "cell_type": "markdown",
   "source": [
    "#### 2. Generate explanations\n",
    "All available XAI methods can be listed with `quantus.nlp.available_xai_methods()`"
   ],
   "metadata": {
    "collapsed": false
   }
  },
  {
   "cell_type": "code",
   "execution_count": null,
   "outputs": [],
   "source": [
    "xai_methods = qn.available_xai_methods()\n",
    "xai_methods.sort()\n",
    "xai_methods"
   ],
   "metadata": {
    "collapsed": false
   }
  },
  {
   "cell_type": "markdown",
   "source": [
    "The main \"entrypoint\" for using built-in XAI methods is `quantus.nlp.explain`"
   ],
   "metadata": {
    "collapsed": false
   }
  },
  {
   "cell_type": "code",
   "execution_count": null,
   "outputs": [],
   "source": [
    "a_batch = []\n",
    "pbar = tqdm(xai_methods)\n",
    "for i in pbar:\n",
    "    pbar.desc = i\n",
    "    a = qn.explain(model, x_batch, y_batch, method=i)\n",
    "    a_batch.append(a[0])"
   ],
   "metadata": {
    "collapsed": false
   }
  },
  {
   "cell_type": "code",
   "execution_count": null,
   "outputs": [],
   "source": [
    "a_batch = map_explanations(a_batch, qn.normalize_sum_to_1)"
   ],
   "metadata": {
    "collapsed": false
   }
  },
  {
   "cell_type": "code",
   "execution_count": null,
   "outputs": [],
   "source": [
    "qn.visualise_explanations_as_pyplot(a_batch, xai_methods)"
   ],
   "metadata": {
    "collapsed": false
   }
  },
  {
   "cell_type": "markdown",
   "source": [
    "Gradient-based XAI methods can be called as well with plain-text inputs, as well as directly with token embeddings.\n",
    "In practise this means, that for robustness metrics they can be used in combination with plain-text perturbation functions (e.g., typo_replacement)\n",
    "and numerical ones (e.g., gaussian_noise). To verify which XAI methods support passing token embeddings we can see output of `quantus.nlp.available_numerical_xai_methods()`"
   ],
   "metadata": {
    "collapsed": false
   }
  },
  {
   "cell_type": "code",
   "execution_count": null,
   "outputs": [],
   "source": [
    "qn.available_numerical_xai_methods()"
   ],
   "metadata": {
    "collapsed": false
   }
  },
  {
   "cell_type": "code",
   "execution_count": null,
   "outputs": [],
   "source": [],
   "metadata": {
    "collapsed": false
   }
  }
 ],
 "metadata": {
  "kernelspec": {
   "display_name": "Python 3",
   "language": "python",
   "name": "python3"
  },
  "language_info": {
   "codemirror_mode": {
    "name": "ipython",
    "version": 2
   },
   "file_extension": ".py",
   "mimetype": "text/x-python",
   "name": "python",
   "nbconvert_exporter": "python",
   "pygments_lexer": "ipython2",
   "version": "2.7.6"
  }
 },
 "nbformat": 4,
 "nbformat_minor": 0
}
