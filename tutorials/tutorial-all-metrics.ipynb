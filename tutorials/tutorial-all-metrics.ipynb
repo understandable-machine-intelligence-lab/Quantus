{
 "cells": [
  {
   "cell_type": "markdown",
   "metadata": {
    "id": "bukochgPFg7s"
   },
   "source": [
    "# Tutorial - examples of all metrics\n",
    "\n",
    "This notebook shows the functionality of the different metrics included in the library. \n",
    "\n",
    "For this purpose, we use a pre-trained ResNet-18 model and X dataset."
   ]
  },
  {
   "cell_type": "code",
   "execution_count": 1,
   "metadata": {
    "colab": {
     "base_uri": "https://localhost:8080/"
    },
    "executionInfo": {
     "elapsed": 281315,
     "status": "ok",
     "timestamp": 1630933721833,
     "user": {
      "displayName": "Anna Hedström",
      "photoUrl": "https://lh3.googleusercontent.com/a-/AOh14GhbfsluHeZ1mzN6Bsf-1zU62lYHcz183jYjeS63=s64",
      "userId": "05540180366077551505"
     },
     "user_tz": -120
    },
    "id": "MuA8v9jLp-pf",
    "outputId": "b002e621-bc3e-4d11-920e-edeb7caaa2d8"
   },
   "outputs": [
    {
     "name": "stdout",
     "output_type": "stream",
     "text": [
      "Looking in links: https://download.pytorch.org/whl/torch_stable.html\n",
      "Requirement already satisfied: opencv-python in /home/motzkus/anaconda3/lib/python3.7/site-packages (4.5.3.56)\n",
      "Requirement already satisfied: torch==1.8.0+cu111 in /home/motzkus/anaconda3/lib/python3.7/site-packages (1.8.0+cu111)\n",
      "Requirement already satisfied: torchvision==0.9.0+cu111 in /home/motzkus/anaconda3/lib/python3.7/site-packages (0.9.0+cu111)\n",
      "Requirement already satisfied: captum in /home/motzkus/anaconda3/lib/python3.7/site-packages (0.4.0)\n",
      "Requirement already satisfied: numpy>=1.14.5 in /home/motzkus/anaconda3/lib/python3.7/site-packages (from opencv-python) (1.18.1)\n",
      "Requirement already satisfied: typing-extensions in /home/motzkus/anaconda3/lib/python3.7/site-packages (from torch==1.8.0+cu111) (3.10.0.2)\n",
      "Requirement already satisfied: pillow>=4.1.1 in /home/motzkus/anaconda3/lib/python3.7/site-packages (from torchvision==0.9.0+cu111) (7.0.0)\n",
      "Requirement already satisfied: matplotlib in /home/motzkus/anaconda3/lib/python3.7/site-packages (from captum) (3.1.3)\n",
      "Requirement already satisfied: pyparsing!=2.0.4,!=2.1.2,!=2.1.6,>=2.0.1 in /home/motzkus/anaconda3/lib/python3.7/site-packages (from matplotlib->captum) (2.4.6)\n",
      "Requirement already satisfied: python-dateutil>=2.1 in /home/motzkus/anaconda3/lib/python3.7/site-packages (from matplotlib->captum) (2.8.1)\n",
      "Requirement already satisfied: kiwisolver>=1.0.1 in /home/motzkus/anaconda3/lib/python3.7/site-packages (from matplotlib->captum) (1.1.0)\n",
      "Requirement already satisfied: cycler>=0.10 in /home/motzkus/anaconda3/lib/python3.7/site-packages (from matplotlib->captum) (0.10.0)\n",
      "Requirement already satisfied: six>=1.5 in /home/motzkus/anaconda3/lib/python3.7/site-packages (from python-dateutil>=2.1->matplotlib->captum) (1.14.0)\n",
      "Requirement already satisfied: setuptools in /home/motzkus/anaconda3/lib/python3.7/site-packages (from kiwisolver>=1.0.1->matplotlib->captum) (45.2.0.post20200210)\n"
     ]
    }
   ],
   "source": [
    "# Mount Google Drive. #remove\n",
    "# from google.colab import drive \n",
    "# drive.mount('/content/drive', force_remount=True)\n",
    "\n",
    "# Install packages. #remove\n",
    "!pip install opencv-python torch==1.8.0+cu111 torchvision==0.9.0+cu111 captum -f https://download.pytorch.org/whl/torch_stable.html\n",
    "\n",
    "# Imports general.\n",
    "import sys\n",
    "import warnings\n",
    "import gc\n",
    "import pathlib\n",
    "import numpy as np\n",
    "import pandas as pd\n",
    "import matplotlib.pyplot as plt\n",
    "import torch\n",
    "import torchvision\n",
    "import captum\n",
    "from torchvision import transforms\n",
    "from tqdm import tqdm\n",
    "from captum.attr import *\n",
    "import random\n",
    "\n",
    "# Import package.\n",
    "# sys.path.append('/content/drive/MyDrive/Projects/xai_quantification_toolbox')\n",
    "sys.path.append(\"../\")\n",
    "import quantus\n",
    "\n",
    "# Notebook settings.\n",
    "device = torch.device(\"cuda:0\" if torch.cuda.is_available() else \"cpu\") \n",
    "warnings.filterwarnings(\"ignore\", category=UserWarning)\n",
    "%load_ext autoreload\n",
    "%autoreload 2\n",
    "\n",
    "# Collect garbage.\n",
    "gc.collect()\n",
    "torch.cuda.empty_cache()"
   ]
  },
  {
   "cell_type": "markdown",
   "metadata": {
    "id": "mGhP4bTuoWYF"
   },
   "source": [
    "## Preliminaries"
   ]
  },
  {
   "cell_type": "markdown",
   "metadata": {
    "id": "XqKzag4VFjHT"
   },
   "source": [
    "### Load datasets\n",
    "\n",
    "We will then load a batch of input, output pairs that we generate explanations for, then to evaluate."
   ]
  },
  {
   "cell_type": "code",
   "execution_count": 2,
   "metadata": {
    "executionInfo": {
     "elapsed": 88319,
     "status": "ok",
     "timestamp": 1630933869597,
     "user": {
      "displayName": "Anna Hedström",
      "photoUrl": "https://lh3.googleusercontent.com/a-/AOh14GhbfsluHeZ1mzN6Bsf-1zU62lYHcz183jYjeS63=s64",
      "userId": "05540180366077551505"
     },
     "user_tz": -120
    },
    "id": "uSUkm-d6-p20"
   },
   "outputs": [],
   "source": [
    "# Load test data and make loaders.\n",
    "data_path = \"../../data/imagenet/imagenet/bboxes_images/\"\n",
    "test_set = torchvision.datasets.ImageFolder(root=data_path,\n",
    "                                            transform=transforms.Compose([transforms.Resize(256),\n",
    "                                                                          transforms.CenterCrop((224, 224)),\n",
    "                                                                          transforms.ToTensor(),\n",
    "                                                                          transforms.Normalize(mean=[0.485, 0.456, 0.406], std=[0.229, 0.224, 0.225])]))\n",
    "test_loader = torch.utils.data.DataLoader(test_set, shuffle=True, batch_size=24)\n",
    "\n",
    "# Load a batch of inputs and outputs to use for evaluation.\n",
    "x_batch, y_batch = iter(test_loader).next()\n",
    "x_batch, y_batch = x_batch.to(device), y_batch.to(device)"
   ]
  },
  {
   "cell_type": "markdown",
   "metadata": {
    "id": "vmccxpA0n6MY"
   },
   "source": [
    "### Load a torch model\n",
    "\n",
    "In this example we load a pre-trained ResNet-18 model but it goes without saying that any model works."
   ]
  },
  {
   "cell_type": "code",
   "execution_count": 3,
   "metadata": {
    "executionInfo": {
     "elapsed": 351,
     "status": "ok",
     "timestamp": 1630933870937,
     "user": {
      "displayName": "Anna Hedström",
      "photoUrl": "https://lh3.googleusercontent.com/a-/AOh14GhbfsluHeZ1mzN6Bsf-1zU62lYHcz183jYjeS63=s64",
      "userId": "05540180366077551505"
     },
     "user_tz": -120
    },
    "id": "CUghaOhXddLU"
   },
   "outputs": [],
   "source": [
    "def evaluate_model(model, data, device):\n",
    "    \"\"\"Evaluate accuracy of torch model.\"\"\"\n",
    "    model.eval()\n",
    "    logits = torch.Tensor().to(device)\n",
    "    targets = torch.LongTensor().to(device)\n",
    "\n",
    "    with torch.no_grad():\n",
    "        for images, labels in data:\n",
    "            images, labels = images.to(device), labels.to(device)\n",
    "            logits = torch.cat([logits, model(images)])\n",
    "            targets = torch.cat([targets, labels])\n",
    "            \n",
    "    return np.mean(np.argmax(logits.cpu().numpy(), axis=1) == targets.cpu().numpy())\n",
    "    \n",
    "# Load pre-trained ResNet18 model.\n",
    "model = torchvision.models.resnet18(pretrained=True)\n",
    "model = model.to(device)\n",
    "\n",
    "# Evaluate model performance.\n",
    "#print(f\"\\nModel test accuracy: {(100 * evaluate_model(model.to(device), test_loader, device)):.2f}%\")"
   ]
  },
  {
   "cell_type": "markdown",
   "metadata": {
    "id": "4vY9mZQanaxr"
   },
   "source": [
    "### Generate attribution-based explanations\n",
    "\n",
    "There exist multiple ways to generate explanations for neural network models e.g., using `captum` or `innvestigate` libraries. In this example, we rely on the `quantus.explain` functionality (a simple wrapper around `captum`) however use whatever approach or library you'd like to create your explanations.\n",
    "\n",
    "**Requirements.**\n",
    "\n",
    "* **Data type.** Similar to the x-y pairs, the attributions should also be of type `np.ndarray`\n",
    "* **Shape.** Sharing all the same dimensions as the input (expect for nr_channels which for explanations is equal to 1). For example, if x_batch is of size (128, 3, 224, 224) then the attributions should be of size (128, 1, 224, 224)."
   ]
  },
  {
   "cell_type": "code",
   "execution_count": 4,
   "metadata": {
    "colab": {
     "base_uri": "https://localhost:8080/"
    },
    "executionInfo": {
     "elapsed": 846,
     "status": "ok",
     "timestamp": 1630933871781,
     "user": {
      "displayName": "Anna Hedström",
      "photoUrl": "https://lh3.googleusercontent.com/a-/AOh14GhbfsluHeZ1mzN6Bsf-1zU62lYHcz183jYjeS63=s64",
      "userId": "05540180366077551505"
     },
     "user_tz": -120
    },
    "id": "V6Evswk_IIdE",
    "outputId": "5e3ddbb4-8553-47bb-94f6-60427f966ed2"
   },
   "outputs": [
    {
     "name": "stderr",
     "output_type": "stream",
     "text": [
      "../quantus/helpers/explanation_func.py:30: Warning: Using quantus 'explain' function as an explainer without specifying 'method' (str)in kwargs will produce a vanilla 'Gradient' explanation.\n",
      "\n",
      "  f\"in kwargs will produce a vanilla 'Gradient' explanation.\\n\", category=Warning)\n"
     ]
    }
   ],
   "source": [
    "# Generate Integrated Gradients attributions of the first batch of the test set.\n",
    "a_batch = quantus.explain(model, x_batch, y_batch, explanation_func=\"Saliency\")"
   ]
  },
  {
   "cell_type": "code",
   "execution_count": 5,
   "metadata": {
    "executionInfo": {
     "elapsed": 3,
     "status": "ok",
     "timestamp": 1630933872281,
     "user": {
      "displayName": "Anna Hedström",
      "photoUrl": "https://lh3.googleusercontent.com/a-/AOh14GhbfsluHeZ1mzN6Bsf-1zU62lYHcz183jYjeS63=s64",
      "userId": "05540180366077551505"
     },
     "user_tz": -120
    },
    "id": "gNxAtc2Co1pL"
   },
   "outputs": [],
   "source": [
    "# Save x_batch and y_batch as numpy arrays that will be used to call metric instances.\n",
    "x_batch, y_batch = x_batch.cpu().numpy(), y_batch.cpu().numpy()\n",
    "\n",
    "# Quick assert.\n",
    "assert [isinstance(obj, np.ndarray) for obj in [x_batch, y_batch, a_batch]]"
   ]
  },
  {
   "cell_type": "markdown",
   "metadata": {
    "id": "tuBkEBv3mihR"
   },
   "source": [
    "## Evaluation using `quantus`\n",
    "\n",
    "As a preliminary step to evaluating the explanations using all the available metrics in the library, we will first view what categories and metrics we have available."
   ]
  },
  {
   "cell_type": "code",
   "execution_count": 21,
   "metadata": {
    "executionInfo": {
     "elapsed": 9,
     "status": "aborted",
     "timestamp": 1630933726721,
     "user": {
      "displayName": "Anna Hedström",
      "photoUrl": "https://lh3.googleusercontent.com/a-/AOh14GhbfsluHeZ1mzN6Bsf-1zU62lYHcz183jYjeS63=s64",
      "userId": "05540180366077551505"
     },
     "user_tz": -120
    },
    "id": "m2ERMGxymqn8"
   },
   "outputs": [
    {
     "data": {
      "text/plain": [
       "['Faithfulness',\n",
       " 'Robustness',\n",
       " 'Localisation',\n",
       " 'Complexity',\n",
       " 'Randomisation',\n",
       " 'Axiomatic']"
      ]
     },
     "execution_count": 21,
     "metadata": {},
     "output_type": "execute_result"
    }
   ],
   "source": [
    "# Let's view what metrics categories are available.\n",
    "quantus.available_categories()"
   ]
  },
  {
   "cell_type": "code",
   "execution_count": 22,
   "metadata": {
    "executionInfo": {
     "elapsed": 9,
     "status": "aborted",
     "timestamp": 1630933726722,
     "user": {
      "displayName": "Anna Hedström",
      "photoUrl": "https://lh3.googleusercontent.com/a-/AOh14GhbfsluHeZ1mzN6Bsf-1zU62lYHcz183jYjeS63=s64",
      "userId": "05540180366077551505"
     },
     "user_tz": -120
    },
    "id": "ZScHT03wl00s"
   },
   "outputs": [
    {
     "data": {
      "text/plain": [
       "{'Faithfulness': ['Faithfulness Correlation',\n",
       "  'Faithfulness Estimate',\n",
       "  'Pixel-Flipping',\n",
       "  'Region Segmentation',\n",
       "  'Monotonicity Arya',\n",
       "  'Monotonicity Nguyen',\n",
       "  'Infidelity',\n",
       "  'Selectivity',\n",
       "  'SensitivityN',\n",
       "  'IROF'],\n",
       " 'Robustness': ['Continuity Test',\n",
       "  'Input Independence Rate',\n",
       "  'Local Lipschitz Estimate',\n",
       "  'Max-Sensitivity',\n",
       "  'Avg-Sensitivity'],\n",
       " 'Localisation': ['Pointing Game',\n",
       "  'TKI',\n",
       "  'Relevance Mass Accuracy',\n",
       "  'Relevance Mass Ranking',\n",
       "  'Attribution Localization '],\n",
       " 'Complexity': ['Sparseness Test', 'Complexity Test', 'Effective Complexity'],\n",
       " 'Randomisation': ['Model Parameter Randomisation Test', 'Random Logit Test'],\n",
       " 'Axiomatic': ['Completeness Test',\n",
       "  'Symmetry',\n",
       "  'InputInvariance',\n",
       "  'NonSensitivity',\n",
       "  'Dummy']}"
      ]
     },
     "execution_count": 22,
     "metadata": {},
     "output_type": "execute_result"
    }
   ],
   "source": [
    "# In each category, let's view the available metrics.\n",
    "metrics = quantus.available_metrics()\n",
    "metrics"
   ]
  },
  {
   "cell_type": "markdown",
   "metadata": {
    "id": "aBJnm6Uf47Ng"
   },
   "source": [
    "#### Faithfulness metrics \n",
    "\n",
    "Score explanations using the following faithfulness metrics:\n",
    "\n",
    "* Faithfulness Correlation (Bhatt et al., 2020)\n",
    "* Faithfulness Estimate (Alvarez-Melis et al., 2018, 2019)\n",
    "* Pixel-Flipping (Bach et al., 2015)\n",
    "* Region Segmentation (Samek et al., 2015)\n",
    "* Monotonicity-Arya (Arya et al., 2019)\n",
    "* Monotonicity-Nguyen (Nguyen et al., 2019)\n",
    "* Infidelity (Yeh et al., 2010)\n",
    "* Selectivity (Montavan et al., 2018)\n",
    "* SensitivityN (Ancona et al., 2018)\n",
    "* IROF (Rieger et al., 2020)"
   ]
  },
  {
   "cell_type": "code",
   "execution_count": 9,
   "metadata": {
    "executionInfo": {
     "elapsed": 9,
     "status": "aborted",
     "timestamp": 1630933726722,
     "user": {
      "displayName": "Anna Hedström",
      "photoUrl": "https://lh3.googleusercontent.com/a-/AOh14GhbfsluHeZ1mzN6Bsf-1zU62lYHcz183jYjeS63=s64",
      "userId": "05540180366077551505"
     },
     "user_tz": -120
    },
    "id": "4mEx1Ogbtjpk"
   },
   "outputs": [
    {
     "data": {
      "text/plain": [
       "[0.003654576425917891]"
      ]
     },
     "execution_count": 9,
     "metadata": {},
     "output_type": "execute_result"
    }
   ],
   "source": [
    "# Return faithfulness correlation scores in an one-liner - by calling the metric instance.\n",
    "quantus.FaithfulnessCorrelation(**{\n",
    "    \"nr_runs\": 100,  \n",
    "    \"subset_size\": 224,  \n",
    "    \"perturb_baseline\": \"black\",\n",
    "    \"perturb_func\": quantus.baseline_replacement_by_indices,\n",
    "    \"similarity_func\": quantus.correlation_pearson,    \n",
    "})(model=model, \n",
    "   x_batch=x_batch, \n",
    "   y_batch=y_batch,\n",
    "   a_batch=a_batch,\n",
    "   **{\"device\": device})"
   ]
  },
  {
   "cell_type": "code",
   "execution_count": 10,
   "metadata": {
    "executionInfo": {
     "elapsed": 10,
     "status": "aborted",
     "timestamp": 1630933726723,
     "user": {
      "displayName": "Anna Hedström",
      "photoUrl": "https://lh3.googleusercontent.com/a-/AOh14GhbfsluHeZ1mzN6Bsf-1zU62lYHcz183jYjeS63=s64",
      "userId": "05540180366077551505"
     },
     "user_tz": -120
    },
    "id": "vqNSdIRndI3i"
   },
   "outputs": [
    {
     "data": {
      "text/plain": [
       "[0.5334162290691334,\n",
       " 0.4577095276998041,\n",
       " 0.04839912029139247,\n",
       " 0.6541374660573284,\n",
       " -0.21870232522596827,\n",
       " -0.0953440312178733,\n",
       " 0.48638221187365677,\n",
       " 0.37048781898147654,\n",
       " 0.36713468105665725,\n",
       " 0.16607231006097126,\n",
       " -0.0743457234135028,\n",
       " -0.5516383653651101,\n",
       " 0.30093702858647997,\n",
       " 0.19297733278908288,\n",
       " -0.15239167839096307,\n",
       " 0.34747207953033415,\n",
       " -0.4365920722337685,\n",
       " 0.4887104426610205,\n",
       " 0.6248802203767071,\n",
       " 0.3971723928932323,\n",
       " 0.2420483251349218,\n",
       " -0.133391571018306,\n",
       " -0.21966653906404737,\n",
       " -0.4600634159278445]"
      ]
     },
     "execution_count": 10,
     "metadata": {},
     "output_type": "execute_result"
    }
   ],
   "source": [
    "# Return faithfulness estimate scores in an one-liner - by calling the metric instance.\n",
    "quantus.FaithfulnessEstimate(**{\n",
    "    \"perturb_func\": quantus.baseline_replacement_by_indices,\n",
    "    \"similarity_func\": quantus.correlation_pearson,\n",
    "    \"img_size\": 224,  \n",
    "    \"features_in_step\": 224,  \n",
    "    \"perturb_baseline\": \"black\",  \n",
    "    \"pixels_in_step\": 28,\n",
    "})(model=model, \n",
    "   x_batch=x_batch, \n",
    "   y_batch=y_batch,\n",
    "   a_batch=a_batch,\n",
    "   **{\"device\": device})"
   ]
  },
  {
   "cell_type": "code",
   "execution_count": 11,
   "metadata": {
    "executionInfo": {
     "elapsed": 10,
     "status": "aborted",
     "timestamp": 1630933726723,
     "user": {
      "displayName": "Anna Hedström",
      "photoUrl": "https://lh3.googleusercontent.com/a-/AOh14GhbfsluHeZ1mzN6Bsf-1zU62lYHcz183jYjeS63=s64",
      "userId": "05540180366077551505"
     },
     "user_tz": -120
    },
    "id": "g_6bztd0NOc9"
   },
   "outputs": [
    {
     "data": {
      "text/plain": [
       "[False,\n",
       " False,\n",
       " False,\n",
       " False,\n",
       " False,\n",
       " False,\n",
       " False,\n",
       " False,\n",
       " False,\n",
       " False,\n",
       " False,\n",
       " False,\n",
       " False,\n",
       " False,\n",
       " False,\n",
       " False,\n",
       " False,\n",
       " False,\n",
       " False,\n",
       " False,\n",
       " False,\n",
       " False,\n",
       " False,\n",
       " False]"
      ]
     },
     "execution_count": 11,
     "metadata": {},
     "output_type": "execute_result"
    }
   ],
   "source": [
    "# Return monotonicity scores in an one-liner - by calling the metric instance.\n",
    "quantus.MonotonicityArya(**{\n",
    "    \"features_in_step\": 224,\n",
    "    \"perturb_baseline\": \"black\",\n",
    "    \"perturb_func\": quantus.baseline_replacement_by_indices,\n",
    "    \"similarity_func\": quantus.correlation_spearman,\n",
    "})(model=model, \n",
    "   x_batch=x_batch, \n",
    "   y_batch=y_batch,\n",
    "   a_batch=a_batch,\n",
    "   **{\"device\": device})"
   ]
  },
  {
   "cell_type": "code",
   "execution_count": 12,
   "metadata": {
    "executionInfo": {
     "elapsed": 10,
     "status": "aborted",
     "timestamp": 1630933726724,
     "user": {
      "displayName": "Anna Hedström",
      "photoUrl": "https://lh3.googleusercontent.com/a-/AOh14GhbfsluHeZ1mzN6Bsf-1zU62lYHcz183jYjeS63=s64",
      "userId": "05540180366077551505"
     },
     "user_tz": -120
    },
    "id": "qs6Rufw6wahw"
   },
   "outputs": [
    {
     "ename": "KeyboardInterrupt",
     "evalue": "",
     "output_type": "error",
     "traceback": [
      "\u001b[0;31m---------------------------------------------------------------------------\u001b[0m",
      "\u001b[0;31mKeyboardInterrupt\u001b[0m                         Traceback (most recent call last)",
      "\u001b[0;32m<ipython-input-12-8e07ca769b0c>\u001b[0m in \u001b[0;36m<module>\u001b[0;34m\u001b[0m\n\u001b[1;32m     10\u001b[0m    \u001b[0my_batch\u001b[0m\u001b[0;34m=\u001b[0m\u001b[0my_batch\u001b[0m\u001b[0;34m,\u001b[0m\u001b[0;34m\u001b[0m\u001b[0;34m\u001b[0m\u001b[0m\n\u001b[1;32m     11\u001b[0m    \u001b[0ma_batch\u001b[0m\u001b[0;34m=\u001b[0m\u001b[0ma_batch\u001b[0m\u001b[0;34m,\u001b[0m\u001b[0;34m\u001b[0m\u001b[0;34m\u001b[0m\u001b[0m\n\u001b[0;32m---> 12\u001b[0;31m    **{\"device\": device})\n\u001b[0m",
      "\u001b[0;32m~/work/xai-quantification-toolbox/quantus/metrics/faithfulness_metrics.py\u001b[0m in \u001b[0;36m__call__\u001b[0;34m(self, model, x_batch, y_batch, a_batch, **kwargs)\u001b[0m\n\u001b[1;32m    733\u001b[0m                                         \u001b[0;36m1\u001b[0m\u001b[0;34m,\u001b[0m \u001b[0mself\u001b[0m\u001b[0;34m.\u001b[0m\u001b[0mnr_channels\u001b[0m\u001b[0;34m,\u001b[0m \u001b[0mself\u001b[0m\u001b[0;34m.\u001b[0m\u001b[0mimg_size\u001b[0m\u001b[0;34m,\u001b[0m \u001b[0mself\u001b[0m\u001b[0;34m.\u001b[0m\u001b[0mimg_size\u001b[0m\u001b[0;34m\u001b[0m\u001b[0;34m\u001b[0m\u001b[0m\n\u001b[1;32m    734\u001b[0m                                     )\n\u001b[0;32m--> 735\u001b[0;31m                                     \u001b[0;34m.\u001b[0m\u001b[0mto\u001b[0m\u001b[0;34m(\u001b[0m\u001b[0mself\u001b[0m\u001b[0;34m.\u001b[0m\u001b[0mkwargs\u001b[0m\u001b[0;34m.\u001b[0m\u001b[0mget\u001b[0m\u001b[0;34m(\u001b[0m\u001b[0;34m\"device\"\u001b[0m\u001b[0;34m,\u001b[0m \u001b[0;32mNone\u001b[0m\u001b[0;34m)\u001b[0m\u001b[0;34m)\u001b[0m\u001b[0;34m\u001b[0m\u001b[0;34m\u001b[0m\u001b[0m\n\u001b[0m\u001b[1;32m    736\u001b[0m                                 )\n\u001b[1;32m    737\u001b[0m                             )[:, y]\n",
      "\u001b[0;32m~/anaconda3/lib/python3.7/site-packages/torch/nn/modules/module.py\u001b[0m in \u001b[0;36m_call_impl\u001b[0;34m(self, *input, **kwargs)\u001b[0m\n\u001b[1;32m    887\u001b[0m             \u001b[0mresult\u001b[0m \u001b[0;34m=\u001b[0m \u001b[0mself\u001b[0m\u001b[0;34m.\u001b[0m\u001b[0m_slow_forward\u001b[0m\u001b[0;34m(\u001b[0m\u001b[0;34m*\u001b[0m\u001b[0minput\u001b[0m\u001b[0;34m,\u001b[0m \u001b[0;34m**\u001b[0m\u001b[0mkwargs\u001b[0m\u001b[0;34m)\u001b[0m\u001b[0;34m\u001b[0m\u001b[0;34m\u001b[0m\u001b[0m\n\u001b[1;32m    888\u001b[0m         \u001b[0;32melse\u001b[0m\u001b[0;34m:\u001b[0m\u001b[0;34m\u001b[0m\u001b[0;34m\u001b[0m\u001b[0m\n\u001b[0;32m--> 889\u001b[0;31m             \u001b[0mresult\u001b[0m \u001b[0;34m=\u001b[0m \u001b[0mself\u001b[0m\u001b[0;34m.\u001b[0m\u001b[0mforward\u001b[0m\u001b[0;34m(\u001b[0m\u001b[0;34m*\u001b[0m\u001b[0minput\u001b[0m\u001b[0;34m,\u001b[0m \u001b[0;34m**\u001b[0m\u001b[0mkwargs\u001b[0m\u001b[0;34m)\u001b[0m\u001b[0;34m\u001b[0m\u001b[0;34m\u001b[0m\u001b[0m\n\u001b[0m\u001b[1;32m    890\u001b[0m         for hook in itertools.chain(\n\u001b[1;32m    891\u001b[0m                 \u001b[0m_global_forward_hooks\u001b[0m\u001b[0;34m.\u001b[0m\u001b[0mvalues\u001b[0m\u001b[0;34m(\u001b[0m\u001b[0;34m)\u001b[0m\u001b[0;34m,\u001b[0m\u001b[0;34m\u001b[0m\u001b[0;34m\u001b[0m\u001b[0m\n",
      "\u001b[0;32m~/anaconda3/lib/python3.7/site-packages/torchvision/models/resnet.py\u001b[0m in \u001b[0;36mforward\u001b[0;34m(self, x)\u001b[0m\n\u001b[1;32m    247\u001b[0m \u001b[0;34m\u001b[0m\u001b[0m\n\u001b[1;32m    248\u001b[0m     \u001b[0;32mdef\u001b[0m \u001b[0mforward\u001b[0m\u001b[0;34m(\u001b[0m\u001b[0mself\u001b[0m\u001b[0;34m,\u001b[0m \u001b[0mx\u001b[0m\u001b[0;34m:\u001b[0m \u001b[0mTensor\u001b[0m\u001b[0;34m)\u001b[0m \u001b[0;34m->\u001b[0m \u001b[0mTensor\u001b[0m\u001b[0;34m:\u001b[0m\u001b[0;34m\u001b[0m\u001b[0;34m\u001b[0m\u001b[0m\n\u001b[0;32m--> 249\u001b[0;31m         \u001b[0;32mreturn\u001b[0m \u001b[0mself\u001b[0m\u001b[0;34m.\u001b[0m\u001b[0m_forward_impl\u001b[0m\u001b[0;34m(\u001b[0m\u001b[0mx\u001b[0m\u001b[0;34m)\u001b[0m\u001b[0;34m\u001b[0m\u001b[0;34m\u001b[0m\u001b[0m\n\u001b[0m\u001b[1;32m    250\u001b[0m \u001b[0;34m\u001b[0m\u001b[0m\n\u001b[1;32m    251\u001b[0m \u001b[0;34m\u001b[0m\u001b[0m\n",
      "\u001b[0;32m~/anaconda3/lib/python3.7/site-packages/torchvision/models/resnet.py\u001b[0m in \u001b[0;36m_forward_impl\u001b[0;34m(self, x)\u001b[0m\n\u001b[1;32m    238\u001b[0m         \u001b[0mx\u001b[0m \u001b[0;34m=\u001b[0m \u001b[0mself\u001b[0m\u001b[0;34m.\u001b[0m\u001b[0mlayer2\u001b[0m\u001b[0;34m(\u001b[0m\u001b[0mx\u001b[0m\u001b[0;34m)\u001b[0m\u001b[0;34m\u001b[0m\u001b[0;34m\u001b[0m\u001b[0m\n\u001b[1;32m    239\u001b[0m         \u001b[0mx\u001b[0m \u001b[0;34m=\u001b[0m \u001b[0mself\u001b[0m\u001b[0;34m.\u001b[0m\u001b[0mlayer3\u001b[0m\u001b[0;34m(\u001b[0m\u001b[0mx\u001b[0m\u001b[0;34m)\u001b[0m\u001b[0;34m\u001b[0m\u001b[0;34m\u001b[0m\u001b[0m\n\u001b[0;32m--> 240\u001b[0;31m         \u001b[0mx\u001b[0m \u001b[0;34m=\u001b[0m \u001b[0mself\u001b[0m\u001b[0;34m.\u001b[0m\u001b[0mlayer4\u001b[0m\u001b[0;34m(\u001b[0m\u001b[0mx\u001b[0m\u001b[0;34m)\u001b[0m\u001b[0;34m\u001b[0m\u001b[0;34m\u001b[0m\u001b[0m\n\u001b[0m\u001b[1;32m    241\u001b[0m \u001b[0;34m\u001b[0m\u001b[0m\n\u001b[1;32m    242\u001b[0m         \u001b[0mx\u001b[0m \u001b[0;34m=\u001b[0m \u001b[0mself\u001b[0m\u001b[0;34m.\u001b[0m\u001b[0mavgpool\u001b[0m\u001b[0;34m(\u001b[0m\u001b[0mx\u001b[0m\u001b[0;34m)\u001b[0m\u001b[0;34m\u001b[0m\u001b[0;34m\u001b[0m\u001b[0m\n",
      "\u001b[0;32m~/anaconda3/lib/python3.7/site-packages/torch/nn/modules/module.py\u001b[0m in \u001b[0;36m_call_impl\u001b[0;34m(self, *input, **kwargs)\u001b[0m\n\u001b[1;32m    887\u001b[0m             \u001b[0mresult\u001b[0m \u001b[0;34m=\u001b[0m \u001b[0mself\u001b[0m\u001b[0;34m.\u001b[0m\u001b[0m_slow_forward\u001b[0m\u001b[0;34m(\u001b[0m\u001b[0;34m*\u001b[0m\u001b[0minput\u001b[0m\u001b[0;34m,\u001b[0m \u001b[0;34m**\u001b[0m\u001b[0mkwargs\u001b[0m\u001b[0;34m)\u001b[0m\u001b[0;34m\u001b[0m\u001b[0;34m\u001b[0m\u001b[0m\n\u001b[1;32m    888\u001b[0m         \u001b[0;32melse\u001b[0m\u001b[0;34m:\u001b[0m\u001b[0;34m\u001b[0m\u001b[0;34m\u001b[0m\u001b[0m\n\u001b[0;32m--> 889\u001b[0;31m             \u001b[0mresult\u001b[0m \u001b[0;34m=\u001b[0m \u001b[0mself\u001b[0m\u001b[0;34m.\u001b[0m\u001b[0mforward\u001b[0m\u001b[0;34m(\u001b[0m\u001b[0;34m*\u001b[0m\u001b[0minput\u001b[0m\u001b[0;34m,\u001b[0m \u001b[0;34m**\u001b[0m\u001b[0mkwargs\u001b[0m\u001b[0;34m)\u001b[0m\u001b[0;34m\u001b[0m\u001b[0;34m\u001b[0m\u001b[0m\n\u001b[0m\u001b[1;32m    890\u001b[0m         for hook in itertools.chain(\n\u001b[1;32m    891\u001b[0m                 \u001b[0m_global_forward_hooks\u001b[0m\u001b[0;34m.\u001b[0m\u001b[0mvalues\u001b[0m\u001b[0;34m(\u001b[0m\u001b[0;34m)\u001b[0m\u001b[0;34m,\u001b[0m\u001b[0;34m\u001b[0m\u001b[0;34m\u001b[0m\u001b[0m\n",
      "\u001b[0;32m~/anaconda3/lib/python3.7/site-packages/torch/nn/modules/container.py\u001b[0m in \u001b[0;36mforward\u001b[0;34m(self, input)\u001b[0m\n\u001b[1;32m    117\u001b[0m     \u001b[0;32mdef\u001b[0m \u001b[0mforward\u001b[0m\u001b[0;34m(\u001b[0m\u001b[0mself\u001b[0m\u001b[0;34m,\u001b[0m \u001b[0minput\u001b[0m\u001b[0;34m)\u001b[0m\u001b[0;34m:\u001b[0m\u001b[0;34m\u001b[0m\u001b[0;34m\u001b[0m\u001b[0m\n\u001b[1;32m    118\u001b[0m         \u001b[0;32mfor\u001b[0m \u001b[0mmodule\u001b[0m \u001b[0;32min\u001b[0m \u001b[0mself\u001b[0m\u001b[0;34m:\u001b[0m\u001b[0;34m\u001b[0m\u001b[0;34m\u001b[0m\u001b[0m\n\u001b[0;32m--> 119\u001b[0;31m             \u001b[0minput\u001b[0m \u001b[0;34m=\u001b[0m \u001b[0mmodule\u001b[0m\u001b[0;34m(\u001b[0m\u001b[0minput\u001b[0m\u001b[0;34m)\u001b[0m\u001b[0;34m\u001b[0m\u001b[0;34m\u001b[0m\u001b[0m\n\u001b[0m\u001b[1;32m    120\u001b[0m         \u001b[0;32mreturn\u001b[0m \u001b[0minput\u001b[0m\u001b[0;34m\u001b[0m\u001b[0;34m\u001b[0m\u001b[0m\n\u001b[1;32m    121\u001b[0m \u001b[0;34m\u001b[0m\u001b[0m\n",
      "\u001b[0;32m~/anaconda3/lib/python3.7/site-packages/torch/nn/modules/module.py\u001b[0m in \u001b[0;36m_call_impl\u001b[0;34m(self, *input, **kwargs)\u001b[0m\n\u001b[1;32m    887\u001b[0m             \u001b[0mresult\u001b[0m \u001b[0;34m=\u001b[0m \u001b[0mself\u001b[0m\u001b[0;34m.\u001b[0m\u001b[0m_slow_forward\u001b[0m\u001b[0;34m(\u001b[0m\u001b[0;34m*\u001b[0m\u001b[0minput\u001b[0m\u001b[0;34m,\u001b[0m \u001b[0;34m**\u001b[0m\u001b[0mkwargs\u001b[0m\u001b[0;34m)\u001b[0m\u001b[0;34m\u001b[0m\u001b[0;34m\u001b[0m\u001b[0m\n\u001b[1;32m    888\u001b[0m         \u001b[0;32melse\u001b[0m\u001b[0;34m:\u001b[0m\u001b[0;34m\u001b[0m\u001b[0;34m\u001b[0m\u001b[0m\n\u001b[0;32m--> 889\u001b[0;31m             \u001b[0mresult\u001b[0m \u001b[0;34m=\u001b[0m \u001b[0mself\u001b[0m\u001b[0;34m.\u001b[0m\u001b[0mforward\u001b[0m\u001b[0;34m(\u001b[0m\u001b[0;34m*\u001b[0m\u001b[0minput\u001b[0m\u001b[0;34m,\u001b[0m \u001b[0;34m**\u001b[0m\u001b[0mkwargs\u001b[0m\u001b[0;34m)\u001b[0m\u001b[0;34m\u001b[0m\u001b[0;34m\u001b[0m\u001b[0m\n\u001b[0m\u001b[1;32m    890\u001b[0m         for hook in itertools.chain(\n\u001b[1;32m    891\u001b[0m                 \u001b[0m_global_forward_hooks\u001b[0m\u001b[0;34m.\u001b[0m\u001b[0mvalues\u001b[0m\u001b[0;34m(\u001b[0m\u001b[0;34m)\u001b[0m\u001b[0;34m,\u001b[0m\u001b[0;34m\u001b[0m\u001b[0;34m\u001b[0m\u001b[0m\n",
      "\u001b[0;32m~/anaconda3/lib/python3.7/site-packages/torchvision/models/resnet.py\u001b[0m in \u001b[0;36mforward\u001b[0;34m(self, x)\u001b[0m\n\u001b[1;32m     69\u001b[0m \u001b[0;34m\u001b[0m\u001b[0m\n\u001b[1;32m     70\u001b[0m         \u001b[0mout\u001b[0m \u001b[0;34m=\u001b[0m \u001b[0mself\u001b[0m\u001b[0;34m.\u001b[0m\u001b[0mconv1\u001b[0m\u001b[0;34m(\u001b[0m\u001b[0mx\u001b[0m\u001b[0;34m)\u001b[0m\u001b[0;34m\u001b[0m\u001b[0;34m\u001b[0m\u001b[0m\n\u001b[0;32m---> 71\u001b[0;31m         \u001b[0mout\u001b[0m \u001b[0;34m=\u001b[0m \u001b[0mself\u001b[0m\u001b[0;34m.\u001b[0m\u001b[0mbn1\u001b[0m\u001b[0;34m(\u001b[0m\u001b[0mout\u001b[0m\u001b[0;34m)\u001b[0m\u001b[0;34m\u001b[0m\u001b[0;34m\u001b[0m\u001b[0m\n\u001b[0m\u001b[1;32m     72\u001b[0m         \u001b[0mout\u001b[0m \u001b[0;34m=\u001b[0m \u001b[0mself\u001b[0m\u001b[0;34m.\u001b[0m\u001b[0mrelu\u001b[0m\u001b[0;34m(\u001b[0m\u001b[0mout\u001b[0m\u001b[0;34m)\u001b[0m\u001b[0;34m\u001b[0m\u001b[0;34m\u001b[0m\u001b[0m\n\u001b[1;32m     73\u001b[0m \u001b[0;34m\u001b[0m\u001b[0m\n",
      "\u001b[0;32m~/anaconda3/lib/python3.7/site-packages/torch/nn/modules/module.py\u001b[0m in \u001b[0;36m_call_impl\u001b[0;34m(self, *input, **kwargs)\u001b[0m\n\u001b[1;32m    884\u001b[0m             \u001b[0minput\u001b[0m \u001b[0;34m=\u001b[0m \u001b[0mbw_hook\u001b[0m\u001b[0;34m.\u001b[0m\u001b[0msetup_input_hook\u001b[0m\u001b[0;34m(\u001b[0m\u001b[0minput\u001b[0m\u001b[0;34m)\u001b[0m\u001b[0;34m\u001b[0m\u001b[0;34m\u001b[0m\u001b[0m\n\u001b[1;32m    885\u001b[0m \u001b[0;34m\u001b[0m\u001b[0m\n\u001b[0;32m--> 886\u001b[0;31m         \u001b[0;32mif\u001b[0m \u001b[0mtorch\u001b[0m\u001b[0;34m.\u001b[0m\u001b[0m_C\u001b[0m\u001b[0;34m.\u001b[0m\u001b[0m_get_tracing_state\u001b[0m\u001b[0;34m(\u001b[0m\u001b[0;34m)\u001b[0m\u001b[0;34m:\u001b[0m\u001b[0;34m\u001b[0m\u001b[0;34m\u001b[0m\u001b[0m\n\u001b[0m\u001b[1;32m    887\u001b[0m             \u001b[0mresult\u001b[0m \u001b[0;34m=\u001b[0m \u001b[0mself\u001b[0m\u001b[0;34m.\u001b[0m\u001b[0m_slow_forward\u001b[0m\u001b[0;34m(\u001b[0m\u001b[0;34m*\u001b[0m\u001b[0minput\u001b[0m\u001b[0;34m,\u001b[0m \u001b[0;34m**\u001b[0m\u001b[0mkwargs\u001b[0m\u001b[0;34m)\u001b[0m\u001b[0;34m\u001b[0m\u001b[0;34m\u001b[0m\u001b[0m\n\u001b[1;32m    888\u001b[0m         \u001b[0;32melse\u001b[0m\u001b[0;34m:\u001b[0m\u001b[0;34m\u001b[0m\u001b[0;34m\u001b[0m\u001b[0m\n",
      "\u001b[0;31mKeyboardInterrupt\u001b[0m: "
     ]
    }
   ],
   "source": [
    "# Return monotonicity scores in an one-liner - by calling the metric instance.\n",
    "quantus.MonotonicityNguyen(**{\n",
    "    \"n_samples\": 100,\n",
    "    \"perturb_baseline\": \"uniform\",\n",
    "    \"features_in_step\": 224,\n",
    "    \"perturb_func\": quantus.baseline_replacement_by_indices,\n",
    "    \"similarity_func\": quantus.correlation_spearman,\n",
    "})(model=model, \n",
    "   x_batch=x_batch,\n",
    "   y_batch=y_batch,\n",
    "   a_batch=a_batch,\n",
    "   **{\"device\": device})"
   ]
  },
  {
   "cell_type": "code",
   "execution_count": 14,
   "metadata": {
    "colab": {
     "base_uri": "https://localhost:8080/",
     "height": 388
    },
    "executionInfo": {
     "elapsed": 165042,
     "status": "ok",
     "timestamp": 1630665121495,
     "user": {
      "displayName": "Anna Hedström",
      "photoUrl": "https://lh3.googleusercontent.com/a-/AOh14GhbfsluHeZ1mzN6Bsf-1zU62lYHcz183jYjeS63=s64",
      "userId": "05540180366077551505"
     },
     "user_tz": -120
    },
    "id": "JuQAmE4br5FO",
    "outputId": "3f899e68-a806-498f-9a72-d6ea6e433931"
   },
   "outputs": [
    {
     "ename": "KeyboardInterrupt",
     "evalue": "",
     "output_type": "error",
     "traceback": [
      "\u001b[0;31m---------------------------------------------------------------------------\u001b[0m",
      "\u001b[0;31mKeyboardInterrupt\u001b[0m                         Traceback (most recent call last)",
      "\u001b[0;32m<ipython-input-14-ed3c333714a8>\u001b[0m in \u001b[0;36m<module>\u001b[0;34m\u001b[0m\n\u001b[1;32m      8\u001b[0m    \u001b[0my_batch\u001b[0m\u001b[0;34m=\u001b[0m\u001b[0my_batch\u001b[0m\u001b[0;34m,\u001b[0m\u001b[0;34m\u001b[0m\u001b[0;34m\u001b[0m\u001b[0m\n\u001b[1;32m      9\u001b[0m    \u001b[0ma_batch\u001b[0m\u001b[0;34m=\u001b[0m\u001b[0ma_batch\u001b[0m\u001b[0;34m,\u001b[0m\u001b[0;34m\u001b[0m\u001b[0;34m\u001b[0m\u001b[0m\n\u001b[0;32m---> 10\u001b[0;31m    **{\"device\": device})\n\u001b[0m\u001b[1;32m     11\u001b[0m \u001b[0;34m\u001b[0m\u001b[0m\n\u001b[1;32m     12\u001b[0m \u001b[0;31m# Plot example!\u001b[0m\u001b[0;34m\u001b[0m\u001b[0;34m\u001b[0m\u001b[0;34m\u001b[0m\u001b[0m\n",
      "\u001b[0;32m~/work/xai-quantification-toolbox/quantus/metrics/faithfulness_metrics.py\u001b[0m in \u001b[0;36m__call__\u001b[0;34m(self, model, x_batch, y_batch, a_batch, **kwargs)\u001b[0m\n\u001b[1;32m    855\u001b[0m                                     \u001b[0;36m1\u001b[0m\u001b[0;34m,\u001b[0m \u001b[0mself\u001b[0m\u001b[0;34m.\u001b[0m\u001b[0mnr_channels\u001b[0m\u001b[0;34m,\u001b[0m \u001b[0mself\u001b[0m\u001b[0;34m.\u001b[0m\u001b[0mimg_size\u001b[0m\u001b[0;34m,\u001b[0m \u001b[0mself\u001b[0m\u001b[0;34m.\u001b[0m\u001b[0mimg_size\u001b[0m\u001b[0;34m\u001b[0m\u001b[0;34m\u001b[0m\u001b[0m\n\u001b[1;32m    856\u001b[0m                                 )\n\u001b[0;32m--> 857\u001b[0;31m                                 \u001b[0;34m.\u001b[0m\u001b[0mto\u001b[0m\u001b[0;34m(\u001b[0m\u001b[0mself\u001b[0m\u001b[0;34m.\u001b[0m\u001b[0mkwargs\u001b[0m\u001b[0;34m.\u001b[0m\u001b[0mget\u001b[0m\u001b[0;34m(\u001b[0m\u001b[0;34m\"device\"\u001b[0m\u001b[0;34m,\u001b[0m \u001b[0;32mNone\u001b[0m\u001b[0;34m)\u001b[0m\u001b[0;34m)\u001b[0m\u001b[0;34m\u001b[0m\u001b[0;34m\u001b[0m\u001b[0m\n\u001b[0m\u001b[1;32m    858\u001b[0m                             )\n\u001b[1;32m    859\u001b[0m                         )[:, y]\n",
      "\u001b[0;32m~/anaconda3/lib/python3.7/site-packages/torch/nn/modules/module.py\u001b[0m in \u001b[0;36m_call_impl\u001b[0;34m(self, *input, **kwargs)\u001b[0m\n\u001b[1;32m    887\u001b[0m             \u001b[0mresult\u001b[0m \u001b[0;34m=\u001b[0m \u001b[0mself\u001b[0m\u001b[0;34m.\u001b[0m\u001b[0m_slow_forward\u001b[0m\u001b[0;34m(\u001b[0m\u001b[0;34m*\u001b[0m\u001b[0minput\u001b[0m\u001b[0;34m,\u001b[0m \u001b[0;34m**\u001b[0m\u001b[0mkwargs\u001b[0m\u001b[0;34m)\u001b[0m\u001b[0;34m\u001b[0m\u001b[0;34m\u001b[0m\u001b[0m\n\u001b[1;32m    888\u001b[0m         \u001b[0;32melse\u001b[0m\u001b[0;34m:\u001b[0m\u001b[0;34m\u001b[0m\u001b[0;34m\u001b[0m\u001b[0m\n\u001b[0;32m--> 889\u001b[0;31m             \u001b[0mresult\u001b[0m \u001b[0;34m=\u001b[0m \u001b[0mself\u001b[0m\u001b[0;34m.\u001b[0m\u001b[0mforward\u001b[0m\u001b[0;34m(\u001b[0m\u001b[0;34m*\u001b[0m\u001b[0minput\u001b[0m\u001b[0;34m,\u001b[0m \u001b[0;34m**\u001b[0m\u001b[0mkwargs\u001b[0m\u001b[0;34m)\u001b[0m\u001b[0;34m\u001b[0m\u001b[0;34m\u001b[0m\u001b[0m\n\u001b[0m\u001b[1;32m    890\u001b[0m         for hook in itertools.chain(\n\u001b[1;32m    891\u001b[0m                 \u001b[0m_global_forward_hooks\u001b[0m\u001b[0;34m.\u001b[0m\u001b[0mvalues\u001b[0m\u001b[0;34m(\u001b[0m\u001b[0;34m)\u001b[0m\u001b[0;34m,\u001b[0m\u001b[0;34m\u001b[0m\u001b[0;34m\u001b[0m\u001b[0m\n",
      "\u001b[0;32m~/anaconda3/lib/python3.7/site-packages/torchvision/models/resnet.py\u001b[0m in \u001b[0;36mforward\u001b[0;34m(self, x)\u001b[0m\n\u001b[1;32m    247\u001b[0m \u001b[0;34m\u001b[0m\u001b[0m\n\u001b[1;32m    248\u001b[0m     \u001b[0;32mdef\u001b[0m \u001b[0mforward\u001b[0m\u001b[0;34m(\u001b[0m\u001b[0mself\u001b[0m\u001b[0;34m,\u001b[0m \u001b[0mx\u001b[0m\u001b[0;34m:\u001b[0m \u001b[0mTensor\u001b[0m\u001b[0;34m)\u001b[0m \u001b[0;34m->\u001b[0m \u001b[0mTensor\u001b[0m\u001b[0;34m:\u001b[0m\u001b[0;34m\u001b[0m\u001b[0;34m\u001b[0m\u001b[0m\n\u001b[0;32m--> 249\u001b[0;31m         \u001b[0;32mreturn\u001b[0m \u001b[0mself\u001b[0m\u001b[0;34m.\u001b[0m\u001b[0m_forward_impl\u001b[0m\u001b[0;34m(\u001b[0m\u001b[0mx\u001b[0m\u001b[0;34m)\u001b[0m\u001b[0;34m\u001b[0m\u001b[0;34m\u001b[0m\u001b[0m\n\u001b[0m\u001b[1;32m    250\u001b[0m \u001b[0;34m\u001b[0m\u001b[0m\n\u001b[1;32m    251\u001b[0m \u001b[0;34m\u001b[0m\u001b[0m\n",
      "\u001b[0;32m~/anaconda3/lib/python3.7/site-packages/torchvision/models/resnet.py\u001b[0m in \u001b[0;36m_forward_impl\u001b[0;34m(self, x)\u001b[0m\n\u001b[1;32m    237\u001b[0m         \u001b[0mx\u001b[0m \u001b[0;34m=\u001b[0m \u001b[0mself\u001b[0m\u001b[0;34m.\u001b[0m\u001b[0mlayer1\u001b[0m\u001b[0;34m(\u001b[0m\u001b[0mx\u001b[0m\u001b[0;34m)\u001b[0m\u001b[0;34m\u001b[0m\u001b[0;34m\u001b[0m\u001b[0m\n\u001b[1;32m    238\u001b[0m         \u001b[0mx\u001b[0m \u001b[0;34m=\u001b[0m \u001b[0mself\u001b[0m\u001b[0;34m.\u001b[0m\u001b[0mlayer2\u001b[0m\u001b[0;34m(\u001b[0m\u001b[0mx\u001b[0m\u001b[0;34m)\u001b[0m\u001b[0;34m\u001b[0m\u001b[0;34m\u001b[0m\u001b[0m\n\u001b[0;32m--> 239\u001b[0;31m         \u001b[0mx\u001b[0m \u001b[0;34m=\u001b[0m \u001b[0mself\u001b[0m\u001b[0;34m.\u001b[0m\u001b[0mlayer3\u001b[0m\u001b[0;34m(\u001b[0m\u001b[0mx\u001b[0m\u001b[0;34m)\u001b[0m\u001b[0;34m\u001b[0m\u001b[0;34m\u001b[0m\u001b[0m\n\u001b[0m\u001b[1;32m    240\u001b[0m         \u001b[0mx\u001b[0m \u001b[0;34m=\u001b[0m \u001b[0mself\u001b[0m\u001b[0;34m.\u001b[0m\u001b[0mlayer4\u001b[0m\u001b[0;34m(\u001b[0m\u001b[0mx\u001b[0m\u001b[0;34m)\u001b[0m\u001b[0;34m\u001b[0m\u001b[0;34m\u001b[0m\u001b[0m\n\u001b[1;32m    241\u001b[0m \u001b[0;34m\u001b[0m\u001b[0m\n",
      "\u001b[0;32m~/anaconda3/lib/python3.7/site-packages/torch/nn/modules/module.py\u001b[0m in \u001b[0;36m_call_impl\u001b[0;34m(self, *input, **kwargs)\u001b[0m\n\u001b[1;32m    887\u001b[0m             \u001b[0mresult\u001b[0m \u001b[0;34m=\u001b[0m \u001b[0mself\u001b[0m\u001b[0;34m.\u001b[0m\u001b[0m_slow_forward\u001b[0m\u001b[0;34m(\u001b[0m\u001b[0;34m*\u001b[0m\u001b[0minput\u001b[0m\u001b[0;34m,\u001b[0m \u001b[0;34m**\u001b[0m\u001b[0mkwargs\u001b[0m\u001b[0;34m)\u001b[0m\u001b[0;34m\u001b[0m\u001b[0;34m\u001b[0m\u001b[0m\n\u001b[1;32m    888\u001b[0m         \u001b[0;32melse\u001b[0m\u001b[0;34m:\u001b[0m\u001b[0;34m\u001b[0m\u001b[0;34m\u001b[0m\u001b[0m\n\u001b[0;32m--> 889\u001b[0;31m             \u001b[0mresult\u001b[0m \u001b[0;34m=\u001b[0m \u001b[0mself\u001b[0m\u001b[0;34m.\u001b[0m\u001b[0mforward\u001b[0m\u001b[0;34m(\u001b[0m\u001b[0;34m*\u001b[0m\u001b[0minput\u001b[0m\u001b[0;34m,\u001b[0m \u001b[0;34m**\u001b[0m\u001b[0mkwargs\u001b[0m\u001b[0;34m)\u001b[0m\u001b[0;34m\u001b[0m\u001b[0;34m\u001b[0m\u001b[0m\n\u001b[0m\u001b[1;32m    890\u001b[0m         for hook in itertools.chain(\n\u001b[1;32m    891\u001b[0m                 \u001b[0m_global_forward_hooks\u001b[0m\u001b[0;34m.\u001b[0m\u001b[0mvalues\u001b[0m\u001b[0;34m(\u001b[0m\u001b[0;34m)\u001b[0m\u001b[0;34m,\u001b[0m\u001b[0;34m\u001b[0m\u001b[0;34m\u001b[0m\u001b[0m\n",
      "\u001b[0;32m~/anaconda3/lib/python3.7/site-packages/torch/nn/modules/container.py\u001b[0m in \u001b[0;36mforward\u001b[0;34m(self, input)\u001b[0m\n\u001b[1;32m    117\u001b[0m     \u001b[0;32mdef\u001b[0m \u001b[0mforward\u001b[0m\u001b[0;34m(\u001b[0m\u001b[0mself\u001b[0m\u001b[0;34m,\u001b[0m \u001b[0minput\u001b[0m\u001b[0;34m)\u001b[0m\u001b[0;34m:\u001b[0m\u001b[0;34m\u001b[0m\u001b[0;34m\u001b[0m\u001b[0m\n\u001b[1;32m    118\u001b[0m         \u001b[0;32mfor\u001b[0m \u001b[0mmodule\u001b[0m \u001b[0;32min\u001b[0m \u001b[0mself\u001b[0m\u001b[0;34m:\u001b[0m\u001b[0;34m\u001b[0m\u001b[0;34m\u001b[0m\u001b[0m\n\u001b[0;32m--> 119\u001b[0;31m             \u001b[0minput\u001b[0m \u001b[0;34m=\u001b[0m \u001b[0mmodule\u001b[0m\u001b[0;34m(\u001b[0m\u001b[0minput\u001b[0m\u001b[0;34m)\u001b[0m\u001b[0;34m\u001b[0m\u001b[0;34m\u001b[0m\u001b[0m\n\u001b[0m\u001b[1;32m    120\u001b[0m         \u001b[0;32mreturn\u001b[0m \u001b[0minput\u001b[0m\u001b[0;34m\u001b[0m\u001b[0;34m\u001b[0m\u001b[0m\n\u001b[1;32m    121\u001b[0m \u001b[0;34m\u001b[0m\u001b[0m\n",
      "\u001b[0;32m~/anaconda3/lib/python3.7/site-packages/torch/nn/modules/module.py\u001b[0m in \u001b[0;36m_call_impl\u001b[0;34m(self, *input, **kwargs)\u001b[0m\n\u001b[1;32m    887\u001b[0m             \u001b[0mresult\u001b[0m \u001b[0;34m=\u001b[0m \u001b[0mself\u001b[0m\u001b[0;34m.\u001b[0m\u001b[0m_slow_forward\u001b[0m\u001b[0;34m(\u001b[0m\u001b[0;34m*\u001b[0m\u001b[0minput\u001b[0m\u001b[0;34m,\u001b[0m \u001b[0;34m**\u001b[0m\u001b[0mkwargs\u001b[0m\u001b[0;34m)\u001b[0m\u001b[0;34m\u001b[0m\u001b[0;34m\u001b[0m\u001b[0m\n\u001b[1;32m    888\u001b[0m         \u001b[0;32melse\u001b[0m\u001b[0;34m:\u001b[0m\u001b[0;34m\u001b[0m\u001b[0;34m\u001b[0m\u001b[0m\n\u001b[0;32m--> 889\u001b[0;31m             \u001b[0mresult\u001b[0m \u001b[0;34m=\u001b[0m \u001b[0mself\u001b[0m\u001b[0;34m.\u001b[0m\u001b[0mforward\u001b[0m\u001b[0;34m(\u001b[0m\u001b[0;34m*\u001b[0m\u001b[0minput\u001b[0m\u001b[0;34m,\u001b[0m \u001b[0;34m**\u001b[0m\u001b[0mkwargs\u001b[0m\u001b[0;34m)\u001b[0m\u001b[0;34m\u001b[0m\u001b[0;34m\u001b[0m\u001b[0m\n\u001b[0m\u001b[1;32m    890\u001b[0m         for hook in itertools.chain(\n\u001b[1;32m    891\u001b[0m                 \u001b[0m_global_forward_hooks\u001b[0m\u001b[0;34m.\u001b[0m\u001b[0mvalues\u001b[0m\u001b[0;34m(\u001b[0m\u001b[0;34m)\u001b[0m\u001b[0;34m,\u001b[0m\u001b[0;34m\u001b[0m\u001b[0;34m\u001b[0m\u001b[0m\n",
      "\u001b[0;32m~/anaconda3/lib/python3.7/site-packages/torchvision/models/resnet.py\u001b[0m in \u001b[0;36mforward\u001b[0;34m(self, x)\u001b[0m\n\u001b[1;32m     72\u001b[0m         \u001b[0mout\u001b[0m \u001b[0;34m=\u001b[0m \u001b[0mself\u001b[0m\u001b[0;34m.\u001b[0m\u001b[0mrelu\u001b[0m\u001b[0;34m(\u001b[0m\u001b[0mout\u001b[0m\u001b[0;34m)\u001b[0m\u001b[0;34m\u001b[0m\u001b[0;34m\u001b[0m\u001b[0m\n\u001b[1;32m     73\u001b[0m \u001b[0;34m\u001b[0m\u001b[0m\n\u001b[0;32m---> 74\u001b[0;31m         \u001b[0mout\u001b[0m \u001b[0;34m=\u001b[0m \u001b[0mself\u001b[0m\u001b[0;34m.\u001b[0m\u001b[0mconv2\u001b[0m\u001b[0;34m(\u001b[0m\u001b[0mout\u001b[0m\u001b[0;34m)\u001b[0m\u001b[0;34m\u001b[0m\u001b[0;34m\u001b[0m\u001b[0m\n\u001b[0m\u001b[1;32m     75\u001b[0m         \u001b[0mout\u001b[0m \u001b[0;34m=\u001b[0m \u001b[0mself\u001b[0m\u001b[0;34m.\u001b[0m\u001b[0mbn2\u001b[0m\u001b[0;34m(\u001b[0m\u001b[0mout\u001b[0m\u001b[0;34m)\u001b[0m\u001b[0;34m\u001b[0m\u001b[0;34m\u001b[0m\u001b[0m\n\u001b[1;32m     76\u001b[0m \u001b[0;34m\u001b[0m\u001b[0m\n",
      "\u001b[0;32m~/anaconda3/lib/python3.7/site-packages/torch/nn/modules/module.py\u001b[0m in \u001b[0;36m_call_impl\u001b[0;34m(self, *input, **kwargs)\u001b[0m\n\u001b[1;32m    887\u001b[0m             \u001b[0mresult\u001b[0m \u001b[0;34m=\u001b[0m \u001b[0mself\u001b[0m\u001b[0;34m.\u001b[0m\u001b[0m_slow_forward\u001b[0m\u001b[0;34m(\u001b[0m\u001b[0;34m*\u001b[0m\u001b[0minput\u001b[0m\u001b[0;34m,\u001b[0m \u001b[0;34m**\u001b[0m\u001b[0mkwargs\u001b[0m\u001b[0;34m)\u001b[0m\u001b[0;34m\u001b[0m\u001b[0;34m\u001b[0m\u001b[0m\n\u001b[1;32m    888\u001b[0m         \u001b[0;32melse\u001b[0m\u001b[0;34m:\u001b[0m\u001b[0;34m\u001b[0m\u001b[0;34m\u001b[0m\u001b[0m\n\u001b[0;32m--> 889\u001b[0;31m             \u001b[0mresult\u001b[0m \u001b[0;34m=\u001b[0m \u001b[0mself\u001b[0m\u001b[0;34m.\u001b[0m\u001b[0mforward\u001b[0m\u001b[0;34m(\u001b[0m\u001b[0;34m*\u001b[0m\u001b[0minput\u001b[0m\u001b[0;34m,\u001b[0m \u001b[0;34m**\u001b[0m\u001b[0mkwargs\u001b[0m\u001b[0;34m)\u001b[0m\u001b[0;34m\u001b[0m\u001b[0;34m\u001b[0m\u001b[0m\n\u001b[0m\u001b[1;32m    890\u001b[0m         for hook in itertools.chain(\n\u001b[1;32m    891\u001b[0m                 \u001b[0m_global_forward_hooks\u001b[0m\u001b[0;34m.\u001b[0m\u001b[0mvalues\u001b[0m\u001b[0;34m(\u001b[0m\u001b[0;34m)\u001b[0m\u001b[0;34m,\u001b[0m\u001b[0;34m\u001b[0m\u001b[0;34m\u001b[0m\u001b[0m\n",
      "\u001b[0;32m~/anaconda3/lib/python3.7/site-packages/torch/nn/modules/conv.py\u001b[0m in \u001b[0;36mforward\u001b[0;34m(self, input)\u001b[0m\n\u001b[1;32m    397\u001b[0m \u001b[0;34m\u001b[0m\u001b[0m\n\u001b[1;32m    398\u001b[0m     \u001b[0;32mdef\u001b[0m \u001b[0mforward\u001b[0m\u001b[0;34m(\u001b[0m\u001b[0mself\u001b[0m\u001b[0;34m,\u001b[0m \u001b[0minput\u001b[0m\u001b[0;34m:\u001b[0m \u001b[0mTensor\u001b[0m\u001b[0;34m)\u001b[0m \u001b[0;34m->\u001b[0m \u001b[0mTensor\u001b[0m\u001b[0;34m:\u001b[0m\u001b[0;34m\u001b[0m\u001b[0;34m\u001b[0m\u001b[0m\n\u001b[0;32m--> 399\u001b[0;31m         \u001b[0;32mreturn\u001b[0m \u001b[0mself\u001b[0m\u001b[0;34m.\u001b[0m\u001b[0m_conv_forward\u001b[0m\u001b[0;34m(\u001b[0m\u001b[0minput\u001b[0m\u001b[0;34m,\u001b[0m \u001b[0mself\u001b[0m\u001b[0;34m.\u001b[0m\u001b[0mweight\u001b[0m\u001b[0;34m,\u001b[0m \u001b[0mself\u001b[0m\u001b[0;34m.\u001b[0m\u001b[0mbias\u001b[0m\u001b[0;34m)\u001b[0m\u001b[0;34m\u001b[0m\u001b[0;34m\u001b[0m\u001b[0m\n\u001b[0m\u001b[1;32m    400\u001b[0m \u001b[0;34m\u001b[0m\u001b[0m\n\u001b[1;32m    401\u001b[0m \u001b[0;32mclass\u001b[0m \u001b[0mConv3d\u001b[0m\u001b[0;34m(\u001b[0m\u001b[0m_ConvNd\u001b[0m\u001b[0;34m)\u001b[0m\u001b[0;34m:\u001b[0m\u001b[0;34m\u001b[0m\u001b[0;34m\u001b[0m\u001b[0m\n",
      "\u001b[0;32m~/anaconda3/lib/python3.7/site-packages/torch/nn/modules/conv.py\u001b[0m in \u001b[0;36m_conv_forward\u001b[0;34m(self, input, weight, bias)\u001b[0m\n\u001b[1;32m    394\u001b[0m                             _pair(0), self.dilation, self.groups)\n\u001b[1;32m    395\u001b[0m         return F.conv2d(input, weight, bias, self.stride,\n\u001b[0;32m--> 396\u001b[0;31m                         self.padding, self.dilation, self.groups)\n\u001b[0m\u001b[1;32m    397\u001b[0m \u001b[0;34m\u001b[0m\u001b[0m\n\u001b[1;32m    398\u001b[0m     \u001b[0;32mdef\u001b[0m \u001b[0mforward\u001b[0m\u001b[0;34m(\u001b[0m\u001b[0mself\u001b[0m\u001b[0;34m,\u001b[0m \u001b[0minput\u001b[0m\u001b[0;34m:\u001b[0m \u001b[0mTensor\u001b[0m\u001b[0;34m)\u001b[0m \u001b[0;34m->\u001b[0m \u001b[0mTensor\u001b[0m\u001b[0;34m:\u001b[0m\u001b[0;34m\u001b[0m\u001b[0;34m\u001b[0m\u001b[0m\n",
      "\u001b[0;31mKeyboardInterrupt\u001b[0m: "
     ]
    }
   ],
   "source": [
    "# Return pixel-flipping scores in an one-liner - by calling the metric instance.\n",
    "scores = quantus.PixelFlipping(**{\n",
    "    \"features_in_step\": 28,\n",
    "    \"perturb_baseline\": \"black\",\n",
    "    \"perturb_func\": quantus.baseline_replacement_by_indices,\n",
    "})(model=model,\n",
    "   x_batch=x_batch,\n",
    "   y_batch=y_batch,\n",
    "   a_batch=a_batch,\n",
    "   **{\"device\": device})\n",
    "\n",
    "# Plot example!\n",
    "quantus.plot_pixel_flipping_experiment(y_batch=y_batch, scores=scores)"
   ]
  },
  {
   "cell_type": "code",
   "execution_count": null,
   "metadata": {
    "colab": {
     "base_uri": "https://localhost:8080/",
     "height": 388
    },
    "executionInfo": {
     "elapsed": 13707,
     "status": "ok",
     "timestamp": 1630677440209,
     "user": {
      "displayName": "Anna Hedström",
      "photoUrl": "https://lh3.googleusercontent.com/a-/AOh14GhbfsluHeZ1mzN6Bsf-1zU62lYHcz183jYjeS63=s64",
      "userId": "05540180366077551505"
     },
     "user_tz": -120
    },
    "id": "NfxPtP2QKboF",
    "outputId": "d0190ce5-9ab2-44c5-9e8c-8766cb149390"
   },
   "outputs": [],
   "source": [
    "# Return region perturbation scores in an one-liner - by calling the metric instance.\n",
    "results = {method: quantus.RegionPerturbation(**{\n",
    "    \"patch_size\": 28,\n",
    "    \"regions_evaluation\": 100,\n",
    "    \"img_size\": 224,\n",
    "    \"random_order\": False,\n",
    "    \"perturb_func\": quantus.baseline_replacement_by_patch,\n",
    "    \"perturb_baseline\": \"uniform\",  \n",
    "})(model=model, \n",
    "   x_batch=x_batch,\n",
    "   y_batch=y_batch,\n",
    "   a_batch=None,\n",
    "   **{\"explain_func\": quantus.explain, \"method\": method, \"device\": device}) for method in [\"Saliency\", \"IntegratedGradients\"]}\n",
    "\n",
    "# Plot example!\n",
    "quantus.plot_region_perturbation_experiment(results=results)"
   ]
  },
  {
   "cell_type": "code",
   "execution_count": null,
   "metadata": {
    "colab": {
     "base_uri": "https://localhost:8080/",
     "height": 388
    },
    "executionInfo": {
     "elapsed": 51308,
     "status": "ok",
     "timestamp": 1630682878583,
     "user": {
      "displayName": "Anna Hedström",
      "photoUrl": "https://lh3.googleusercontent.com/a-/AOh14GhbfsluHeZ1mzN6Bsf-1zU62lYHcz183jYjeS63=s64",
      "userId": "05540180366077551505"
     },
     "user_tz": -120
    },
    "id": "8DfswMlbSVir",
    "outputId": "8fddfe22-83fc-4c9a-84e8-d8c85e2615d4"
   },
   "outputs": [],
   "source": [
    "# Return selectivity scores in an one-liner - by calling the metric instance.\n",
    "results = {method: quantus.Selectivity(**{\n",
    "    \"patch_size\": 14,\n",
    "    \"perturb_func\": quantus.baseline_replacement_by_patch,\n",
    "    \"perturb_baseline\": \"black\",  \n",
    "})(model=model, \n",
    "   x_batch=x_batch,\n",
    "   y_batch=y_batch,\n",
    "   a_batch=None,\n",
    "   **{\"explain_func\": quantus.explain, \"method\": method, \"device\": device}) for method in [\"Saliency\", \"IntegratedGradients\"]}\n",
    "\n",
    "# Plot example!\n",
    "quantus.plot_selectivity_experiment(results=results)"
   ]
  },
  {
   "cell_type": "code",
   "execution_count": null,
   "metadata": {
    "colab": {
     "base_uri": "https://localhost:8080/",
     "height": 405
    },
    "executionInfo": {
     "elapsed": 722,
     "status": "ok",
     "timestamp": 1630677938447,
     "user": {
      "displayName": "Anna Hedström",
      "photoUrl": "https://lh3.googleusercontent.com/a-/AOh14GhbfsluHeZ1mzN6Bsf-1zU62lYHcz183jYjeS63=s64",
      "userId": "05540180366077551505"
     },
     "user_tz": -120
    },
    "id": "yG3w5VXj1n4s",
    "outputId": "fa18257e-04b6-4313-9096-695751b0244f"
   },
   "outputs": [],
   "source": [
    "# Return sensitivity-n scores in an one-liner - by calling the metric instance.\n",
    "scores = quantus.SensitivityN(**{\n",
    "    \"features_in_step\": 28,\n",
    "    \"n_max_percentage\": 0.8,\n",
    "    \"img_size\": 224,\n",
    "    \"similarity_func\": quantus.correlation_pearson,\n",
    "    \"perturb_func\": quantus.baseline_replacement_by_indices,\n",
    "    \"perturb_baseline\": \"uniform\",  \n",
    "})(model=model, \n",
    "   x_batch=x_batch,\n",
    "   y_batch=y_batch,\n",
    "   a_batch=a_batch,\n",
    "   **{\"device\": device})\n",
    "\n",
    "# Plot example!\n",
    "quantus.plot_sensitivity_n_experiment(results=scores)\n",
    "\n",
    "# TODO. Validate the curves - are they looking as expected?"
   ]
  },
  {
   "cell_type": "code",
   "execution_count": null,
   "metadata": {
    "colab": {
     "base_uri": "https://localhost:8080/"
    },
    "executionInfo": {
     "elapsed": 40133,
     "status": "ok",
     "timestamp": 1630675870551,
     "user": {
      "displayName": "Anna Hedström",
      "photoUrl": "https://lh3.googleusercontent.com/a-/AOh14GhbfsluHeZ1mzN6Bsf-1zU62lYHcz183jYjeS63=s64",
      "userId": "05540180366077551505"
     },
     "user_tz": -120
    },
    "id": "6_nIBdxxH5BM",
    "outputId": "48f1ef4c-6dd1-4fa3-d386-1bff1e3b1cd5"
   },
   "outputs": [],
   "source": [
    "# Return IFOF scores in an one-liner - by calling the metric instance.\n",
    "results = {method: quantus.IROF(**{\n",
    "    \"segmentation_method\": \"slic\",\n",
    "    \"perturb_baseline\": \"mean\",\n",
    "    \"perturb_func\": quantus.baseline_replacement_by_indices,\n",
    "})(model=model,\n",
    "   x_batch=x_batch,\n",
    "   y_batch=y_batch,\n",
    "   a_batch=None,\n",
    "   **{\"explain_func\": quantus.explain, \"method\": method, \"device\": device}) for method in [\"Gradient\", \"Saliency\", \"IntegratedGradients\", \"GradientShap\"]}\n",
    "\n",
    "results"
   ]
  },
  {
   "cell_type": "code",
   "execution_count": null,
   "metadata": {
    "id": "X7F4gzqS7XWW"
   },
   "outputs": [],
   "source": [
    "# TODO. Bug fixes.\n",
    "'''\n",
    "# Return infidelity scores in an one-liner - by calling the metric instance.\n",
    "quantus.Infidelity(**{\n",
    "    \"loss_func\": quantus.mse,\n",
    "    \"img_size\": 224,\n",
    "    \"perturb_patch_sizes\": [8, 14, 28],\n",
    "    \"perturb_baseline\": \"black\",  \n",
    "    \"perturb_func\": quantus.baseline_replacement_ (_patch,\n",
    "})(model=model, \n",
    "   x_batch=x_batch, \n",
    "   y_batch=y_batch,\n",
    "   a_batch=a_batch,\n",
    "   **{\"device\": device})\n",
    "''';"
   ]
  },
  {
   "cell_type": "markdown",
   "metadata": {
    "id": "TP5M_pe7u-mV"
   },
   "source": [
    "#### Robustness metrics \n",
    "\n",
    "Score explanations using the following robustness metrics:\n",
    "\n",
    "* Local Lipschitz Estimate (Alvarez-Melis et al., 2018; 2019)\n",
    "* Max-Sensitivity (Yeh at el., 2019)\n",
    "* Avg-Sensitivity (Yeh at el., 2019)\n",
    "* Continuity (Montavan et al., 2017)\n",
    "* Input Independence Rate (Yang et al., 2019)"
   ]
  },
  {
   "cell_type": "code",
   "execution_count": null,
   "metadata": {
    "colab": {
     "base_uri": "https://localhost:8080/"
    },
    "executionInfo": {
     "elapsed": 5980,
     "status": "ok",
     "timestamp": 1630920809457,
     "user": {
      "displayName": "Anna Hedström",
      "photoUrl": "https://lh3.googleusercontent.com/a-/AOh14GhbfsluHeZ1mzN6Bsf-1zU62lYHcz183jYjeS63=s64",
      "userId": "05540180366077551505"
     },
     "user_tz": -120
    },
    "id": "bQR-fgSXb7hD",
    "outputId": "56f2cc62-92a0-4650-889d-53a27d41b98d"
   },
   "outputs": [],
   "source": [
    "# Return local lipschitzEstimate estimate scores in an one-liner - by calling the metric instance.\n",
    "quantus.LocalLipschitzEstimate(**{\n",
    "    \"nr_samples\": 10,\n",
    "    \"perturb_std\": 0.1,\n",
    "    \"norm_numerator\": quantus.distance_euclidean,\n",
    "    \"norm_denominator\": quantus.distance_euclidean,\n",
    "    \"explain_func\": quantus.explain,\n",
    "    \"perturb_func\": quantus.gaussian_noise,\n",
    "    \"similarity_func\": quantus.lipschitz_constant,\n",
    "})(model=model, \n",
    "   x_batch=x_batch,\n",
    "   y_batch=y_batch,\n",
    "   a_batch=None,\n",
    "   **{\"method\": \"Saliency\", \"device\": device})"
   ]
  },
  {
   "cell_type": "code",
   "execution_count": null,
   "metadata": {
    "colab": {
     "base_uri": "https://localhost:8080/"
    },
    "executionInfo": {
     "elapsed": 3258,
     "status": "ok",
     "timestamp": 1630684770323,
     "user": {
      "displayName": "Anna Hedström",
      "photoUrl": "https://lh3.googleusercontent.com/a-/AOh14GhbfsluHeZ1mzN6Bsf-1zU62lYHcz183jYjeS63=s64",
      "userId": "05540180366077551505"
     },
     "user_tz": -120
    },
    "id": "bwftK8AB7cQM",
    "outputId": "04a106eb-4d4d-4627-8bf7-0140ba2c2c04"
   },
   "outputs": [],
   "source": [
    "# Return max sensitivity scores in an one-liner - by calling the metric instance.\n",
    "quantus.MaxSensitivity(**{\n",
    "    \"nr_samples\": 10,\n",
    "    \"perturb_radius\": 0.2,\n",
    "    \"norm_numerator\": quantus.fro_norm,\n",
    "    \"norm_denominator\": quantus.fro_norm,\n",
    "    \"explain_func\": quantus.explain,\n",
    "    \"perturb_func\": quantus.uniform_sampling,\n",
    "    \"similarity_func\": quantus.difference,\n",
    "})(model=model, \n",
    "   x_batch=x_batch,\n",
    "   y_batch=y_batch,\n",
    "   a_batch=None,\n",
    "   **{\"method\": \"Saliency\", \"device\": device})"
   ]
  },
  {
   "cell_type": "code",
   "execution_count": null,
   "metadata": {
    "colab": {
     "base_uri": "https://localhost:8080/"
    },
    "executionInfo": {
     "elapsed": 3277,
     "status": "ok",
     "timestamp": 1630918262084,
     "user": {
      "displayName": "Anna Hedström",
      "photoUrl": "https://lh3.googleusercontent.com/a-/AOh14GhbfsluHeZ1mzN6Bsf-1zU62lYHcz183jYjeS63=s64",
      "userId": "05540180366077551505"
     },
     "user_tz": -120
    },
    "id": "EJ9wefWzYdc2",
    "outputId": "6c07e6be-70c4-4ca0-df8e-9521e15e55da"
   },
   "outputs": [],
   "source": [
    "# Return avg sensitivity scores in an one-liner - by calling the metric instance.\n",
    "quantus.AvgSensitivity(**{\n",
    "    \"nr_samples\": 10,\n",
    "    \"perturb_radius\": 0.2,\n",
    "    \"norm_numerator\": quantus.fro_norm,\n",
    "    \"norm_denominator\": quantus.fro_norm,\n",
    "    \"explain_func\": quantus.explain,\n",
    "    \"perturb_func\": quantus.uniform_sampling,\n",
    "    \"similarity_func\": quantus.difference,\n",
    "})(model=model, \n",
    "   x_batch=x_batch,\n",
    "   y_batch=y_batch,\n",
    "   a_batch=None,\n",
    "   **{\"method\": \"Saliency\", \"device\": device})"
   ]
  },
  {
   "cell_type": "code",
   "execution_count": null,
   "metadata": {
    "colab": {
     "base_uri": "https://localhost:8080/"
    },
    "executionInfo": {
     "elapsed": 17707,
     "status": "ok",
     "timestamp": 1630918282767,
     "user": {
      "displayName": "Anna Hedström",
      "photoUrl": "https://lh3.googleusercontent.com/a-/AOh14GhbfsluHeZ1mzN6Bsf-1zU62lYHcz183jYjeS63=s64",
      "userId": "05540180366077551505"
     },
     "user_tz": -120
    },
    "id": "yFsFfzrRJFph",
    "outputId": "daf5fed4-78c4-40fc-df2b-d8d75db888c1"
   },
   "outputs": [],
   "source": [
    "# Return continuity scores in an one-liner - by calling the metric instance.\n",
    "quantus.Continuity(**{\n",
    "    \"nr_patches\": 4,\n",
    "    \"nr_steps\": 10,\n",
    "    \"img_size\": 224,\n",
    "    \"perturb_baseline\": \"black\",\n",
    "    \"explain_func\": quantus.explain,\n",
    "    \"similarity_func\": quantus.correlation_spearman,\n",
    "    \"perturb_func\": quantus.translation_x_direction,\n",
    "})(model=model, \n",
    "   x_batch=x_batch,\n",
    "   y_batch=y_batch,\n",
    "   a_batch=None,\n",
    "   **{\"method\": \"IntegratedGradients\", \"device\": device})\n",
    "\n",
    "#print(f\"Continutity correlation score: {continuity_test.continutity_correlation_score:.4f}\")"
   ]
  },
  {
   "cell_type": "code",
   "execution_count": null,
   "metadata": {
    "id": "4e66Gj3TbSm9"
   },
   "outputs": [],
   "source": [
    "# TODO. Remove from library - iteration 1.\n",
    "'''\n",
    "# Return input independence rate scores in an one-liner - by calling the metric instance.\n",
    "quantus.InputIndependenceRate(**{\n",
    "    \"similarity_func\": abs_difference,\n",
    "    \"perturb_func\": optimization_scheme, # TODO.\n",
    "    \"perturb_std\": 0.01,\n",
    "    \"threshold\": 0.025, # 0.1\n",
    "})(model=model, \n",
    "   x_batch=x_batch,\n",
    "   y_batch=y_batch,\n",
    "   a_batch=a_batch,\n",
    "   **{\"explanation_func\": explain, \"method\": method, \"device\": device})\n",
    "''';"
   ]
  },
  {
   "cell_type": "markdown",
   "metadata": {
    "id": "lxs_aaUqZ448"
   },
   "source": [
    "### Randomization metrics"
   ]
  },
  {
   "cell_type": "code",
   "execution_count": 24,
   "metadata": {
    "colab": {
     "base_uri": "https://localhost:8080/"
    },
    "executionInfo": {
     "elapsed": 45160,
     "status": "ok",
     "timestamp": 1630923184154,
     "user": {
      "displayName": "Anna Hedström",
      "photoUrl": "https://lh3.googleusercontent.com/a-/AOh14GhbfsluHeZ1mzN6Bsf-1zU62lYHcz183jYjeS63=s64",
      "userId": "05540180366077551505"
     },
     "user_tz": -120
    },
    "id": "Fa6AajO1Z4c0",
    "outputId": "08fc81e5-c340-485c-d738-060871e856a1"
   },
   "outputs": [
    {
     "data": {
      "image/png": "[encoded data removed]",
      "text/plain": [
       "<Figure size 576x432 with 1 Axes>"
      ]
     },
     "metadata": {
      "needs_background": "light"
     },
     "output_type": "display_data"
    }
   ],
   "source": [
    "# Return model parameter randomization scores in an one-liner - by calling the metric instance.\n",
    "methods = [\"Saliency\", \"Gradient\"]\n",
    "\n",
    "results = {method: quantus.ModelParameterRandomization(**{\n",
    "    \"layer_order\": \"independent\",\n",
    "    \"similarity_func\": quantus.correlation_spearman,\n",
    "    \"explain_func\": quantus.explain, \n",
    "    \"normalize\": True,\n",
    "})(model=model, \n",
    "   x_batch=x_batch,\n",
    "   y_batch=y_batch,\n",
    "   a_batch=None,\n",
    "   **{\"method\": method, \"device\": device}) for method in methods}\n",
    "\n",
    "\n",
    "quantus.plot_model_parameter_randomization_experiment(results=results, methods=methods)"
   ]
  },
  {
   "cell_type": "code",
   "execution_count": 29,
   "metadata": {
    "id": "tqtzbod_bO6V"
   },
   "outputs": [
    {
     "name": "stdout",
     "output_type": "stream",
     "text": [
      "torch.Size([64, 3, 7, 7])\n"
     ]
    },
    {
     "data": {
      "text/plain": [
       "array([0.75890981, 0.79094196, 0.76224042, 0.7633094 , 0.78604279,\n",
       "       0.76436734, 0.76418971, 0.78765934, 0.77336132, 0.75951437,\n",
       "       0.79109952, 0.78600739, 0.79397298, 0.80506919, 0.77071526,\n",
       "       0.77258477, 0.76996429, 0.79115599, 0.76670788, 0.78373212,\n",
       "       0.79335446, 0.76389674, 0.75930943, 0.76438664])"
      ]
     },
     "execution_count": 29,
     "metadata": {},
     "output_type": "execute_result"
    }
   ],
   "source": [
    "# Return random logit scores in an one-liner - by calling the metric instance.\n",
    "quantus.RandomLogit(**{\n",
    "    \"num_classes\": 1000,\n",
    "    \"similarity_func\": quantus.ssim,\n",
    "    \"explain_func\": quantus.explain, \n",
    "})(model=model, \n",
    "   x_batch=x_batch,\n",
    "   y_batch=y_batch,\n",
    "   a_batch=None,\n",
    "   **{\"method\": \"Saliency\", \"device\": device})"
   ]
  },
  {
   "cell_type": "markdown",
   "metadata": {
    "id": "JEKC4Jp5ZvDs"
   },
   "source": [
    "### Complexity metrics\n",
    "\n",
    "Score explanations using the following complexity metrics:\n",
    "\n",
    "* Sparseness (Alvarez-Melis et al., 2018; 2019)\n",
    "* Complexity (Yeh at el., 2019)\n",
    "* Effective complexity (Yeh at el., 2019)"
   ]
  },
  {
   "cell_type": "code",
   "execution_count": null,
   "metadata": {
    "colab": {
     "base_uri": "https://localhost:8080/"
    },
    "executionInfo": {
     "elapsed": 1268,
     "status": "ok",
     "timestamp": 1630919878273,
     "user": {
      "displayName": "Anna Hedström",
      "photoUrl": "https://lh3.googleusercontent.com/a-/AOh14GhbfsluHeZ1mzN6Bsf-1zU62lYHcz183jYjeS63=s64",
      "userId": "05540180366077551505"
     },
     "user_tz": -120
    },
    "id": "kX8KfQBsbNxX",
    "outputId": "96990f82-afcb-4902-9e7a-851438b3bdcb"
   },
   "outputs": [],
   "source": [
    "# Return sparseness scores in an one-liner - by calling the metric instance.\n",
    "quantus.Sparseness(**{\n",
    "})(model=model, \n",
    "   x_batch=x_batch,\n",
    "   y_batch=y_batch,\n",
    "   a_batch=None,\n",
    "   **{\"explain_func\": quantus.explain, \"method\": \"IntegratedGradients\", \"device\": device})"
   ]
  },
  {
   "cell_type": "code",
   "execution_count": null,
   "metadata": {
    "colab": {
     "base_uri": "https://localhost:8080/"
    },
    "executionInfo": {
     "elapsed": 1576,
     "status": "ok",
     "timestamp": 1630919881540,
     "user": {
      "displayName": "Anna Hedström",
      "photoUrl": "https://lh3.googleusercontent.com/a-/AOh14GhbfsluHeZ1mzN6Bsf-1zU62lYHcz183jYjeS63=s64",
      "userId": "05540180366077551505"
     },
     "user_tz": -120
    },
    "id": "DJQ1odjiU7vQ",
    "outputId": "875e5902-f4cb-44e4-80a3-85faa8cce6fc"
   },
   "outputs": [],
   "source": [
    "# Return complexity scores in an one-liner - by calling the metric instance.\n",
    "quantus.Complexity(**{\n",
    "})(model=model, \n",
    "   x_batch=x_batch,\n",
    "   y_batch=y_batch,\n",
    "   a_batch=None,\n",
    "   **{\"explain_func\": quantus.explain, \"method\": \"IntegratedGradients\", \"device\": device})"
   ]
  },
  {
   "cell_type": "code",
   "execution_count": null,
   "metadata": {
    "id": "cgSG9akIbP_F"
   },
   "outputs": [],
   "source": [
    "# Return effective complexity scores in an one-liner - by calling the metric instance.\n",
    "quantus.EffectiveComplexity(**{\n",
    "    \"eps\": 1e-5,\n",
    "})(model=model, \n",
    "   x_batch=x_batch,\n",
    "   y_batch=y_batch,\n",
    "   a_batch=None,\n",
    "   **{\"explain_func\": quantus.explain, \"method\": \"IntegratedGradients\", \"device\": device})"
   ]
  },
  {
   "cell_type": "markdown",
   "metadata": {
    "id": "9ROnh6bCZq7c"
   },
   "source": [
    "### Axiomatic metrics\n",
    "\n",
    "Score explanations using the following axiomatic metrics:\n",
    "\n",
    "* Completeness (Montavon et al., 2018) - Additivity\n",
    "* Non-sensitivity (Nguyen at el., 2020) - Dummy\n",
    "* Symmetry\n",
    "* Input invaraince"
   ]
  },
  {
   "cell_type": "code",
   "execution_count": null,
   "metadata": {
    "colab": {
     "base_uri": "https://localhost:8080/"
    },
    "executionInfo": {
     "elapsed": 4088,
     "status": "ok",
     "timestamp": 1630919787823,
     "user": {
      "displayName": "Anna Hedström",
      "photoUrl": "https://lh3.googleusercontent.com/a-/AOh14GhbfsluHeZ1mzN6Bsf-1zU62lYHcz183jYjeS63=s64",
      "userId": "05540180366077551505"
     },
     "user_tz": -120
    },
    "id": "Kj_upy9sDutk",
    "outputId": "3db5977c-d664-4def-e77f-2a346a489bf8"
   },
   "outputs": [],
   "source": [
    "# Return completeness scores in an one-liner - by calling the metric instance.\n",
    "quantus.Completeness(**{\n",
    "    \"abs\": False,\n",
    "    #\"output_func\": torch.nn.Softmax(),\n",
    "})(model=model, \n",
    "   x_batch=x_batch,\n",
    "   y_batch=y_batch,\n",
    "   a_batch=None,\n",
    "   **{\"explain_func\": quantus.explain, \"method\": \"IntegratedGradients\", \"device\": device})"
   ]
  },
  {
   "cell_type": "code",
   "execution_count": null,
   "metadata": {
    "id": "vGWvMb-ns5xZ"
   },
   "outputs": [],
   "source": [
    "# Return non-sensitivity scores in an one-liner - by calling the metric instance.\n",
    "quantus.NonSensitivity(**{\n",
    "    \"abs\": True,\n",
    "    \"eps\": 1e-5,\n",
    "    \"perturb_baseline\": \"black\",\n",
    "    \"perturb_func\": quantus.baseline_replacement_by_indices,\n",
    "})(model=model, \n",
    "   x_batch=x_batch,\n",
    "   y_batch=y_batch,\n",
    "   a_batch=None,\n",
    "   **{\"explain_func\": quantus.explain, \"method\": \"IntegratedGradients\", \"device\": device})"
   ]
  },
  {
   "cell_type": "markdown",
   "metadata": {
    "id": "eBh5Z5teZoM-"
   },
   "source": [
    "### Localisation metrics\n",
    "\n",
    "* Pointing Game (Zhang et al., 2018)\n",
    "* Attribution Localization (Kohlbrenner et al., 2020)\n",
    "* TKI (Theiner et al., 2021)\n",
    "* Relevance Rank Accuracy (Arras et al., 2021)\n",
    "* Relevance Mass Accuracy (Arras et al., 2021)"
   ]
  },
  {
   "cell_type": "code",
   "execution_count": 3,
   "metadata": {
    "id": "1KCtjeS_kIn2",
    "scrolled": false
   },
   "outputs": [
    {
     "name": "stdout",
     "output_type": "stream",
     "text": [
      "torch.Size([24, 3, 224, 224])\n"
     ]
    }
   ],
   "source": [
    "# For the localisation metrics we need to load a dataset that has ground truth masks.\n",
    "import os\n",
    "import PIL\n",
    "from xml.etree import ElementTree\n",
    "import xmltodict\n",
    "import cv2\n",
    "import collections\n",
    "\n",
    "def load_sample(path):\n",
    "    \"\"\" Reads data as image and path. \"\"\"\n",
    "    return {\"data\": PIL.Image.open(path).convert(\"RGB\"), \"path\": path}\n",
    "\n",
    "def load_binary_mask(filename, datapath):\n",
    "    \"\"\" Loads the binary mask for the given filepath in the correct format. \"\"\"\n",
    "    binary_mask = {}\n",
    "    \n",
    "    filename = os.path.splitext(filename)[0]\n",
    "    \n",
    "    # get label and file name\n",
    "    label = filename.split(\"/\")[-2]\n",
    "    fname = filename.split(\"_\")[-1]\n",
    "\n",
    "    # parse annotations\n",
    "    tree = ElementTree.parse(os.path.join(datapath, \"Annotation/{}/{}_{}.xml\".format(label, label, fname)))\n",
    "    xml_data = tree.getroot()\n",
    "    xmlstr = ElementTree.tostring(xml_data, encoding=\"utf-8\", method=\"xml\")\n",
    "    annotation = dict(xmltodict.parse(xmlstr))['annotation']\n",
    "\n",
    "    width = int(annotation[\"size\"][\"width\"])\n",
    "    height = int(annotation[\"size\"][\"height\"])\n",
    "\n",
    "    # iterate objects\n",
    "    objects = annotation[\"object\"]\n",
    "\n",
    "    if type(objects) != list:\n",
    "        mask = np.zeros((height, width), dtype=int)\n",
    "\n",
    "        mask[int(objects['bndbox']['ymin']):int(objects['bndbox']['ymax']), int(objects['bndbox']['xmin']):int(objects['bndbox']['xmax'])] = 1\n",
    "\n",
    "        binary_mask[objects['name']] = mask\n",
    "\n",
    "    else:\n",
    "        for object in annotation['object']:\n",
    "            if type(object) == collections.OrderedDict:\n",
    "                if object['name'] in binary_mask.keys():\n",
    "                    mask = binary_mask[object['name']]\n",
    "                else:\n",
    "                    mask = np.zeros((height, width), dtype=np.uint8)\n",
    "\n",
    "                mask[int(object['bndbox']['ymin']):int(object['bndbox']['ymax']),\n",
    "                     int(object['bndbox']['xmin']):int(object['bndbox']['xmax'])] = 1\n",
    "\n",
    "                binary_mask[object['name']] = mask\n",
    "\n",
    "    # preprocess binary masks to fit shape of image data\n",
    "    for key in binary_mask.keys():\n",
    "        binary_mask[key] = cv2.resize(binary_mask[key],\n",
    "                                      (224, 224),\n",
    "                                      interpolation=cv2.INTER_NEAREST).astype(np.int)[:, :, np.newaxis]\n",
    "\n",
    "    return binary_mask\n",
    "\n",
    "\n",
    "class custom_transform(torch.nn.Module):\n",
    "    \"\"\" Custom transformation to handle image processing and binary mask processing simultaneously. \"\"\"\n",
    "    \n",
    "    image_transform = transforms.Compose([transforms.Resize((224, 224)),\n",
    "                                          transforms.ToTensor(),\n",
    "                                          transforms.Normalize(mean=[0.485, 0.456, 0.406], std=[0.229, 0.224, 0.225])])\n",
    "    \n",
    "    def __init__(self, datapath):\n",
    "        \n",
    "        super().__init__()\n",
    "        self.datapath = datapath\n",
    "        \n",
    "    def __call__(self, img):\n",
    "        return {\"data\": self.image_transform(img[\"data\"]), \"mask\": load_binary_mask(img[\"path\"], self.datapath)}\n",
    "    \n",
    "    \n",
    "def custom_collate(batch):\n",
    "    \"\"\" Collate function to pack the image, mask and label data accordingly. \"\"\"\n",
    "    x = []\n",
    "    y = []\n",
    "    mask = []\n",
    "    \n",
    "    for dp in batch:\n",
    "        x.append(dp[0][\"data\"])\n",
    "        mask.append(dp[0][\"mask\"])\n",
    "        y.append(dp[1])\n",
    "    \n",
    "    return (torch.stack(x, 0), mask), torch.tensor(y) \n",
    "\n",
    "datapath = \"../../data/imagenet/imagenet/\"\n",
    "\n",
    "mask_set = torchvision.datasets.DatasetFolder(os.path.join(datapath, \"bboxes_images/\"), \n",
    "                                   loader=load_sample, \n",
    "                                   extensions=(\".jpeg\", \"png\"),\n",
    "                                   transform=custom_transform(datapath))\n",
    "\n",
    "test_loader = torch.utils.data.DataLoader(mask_set, shuffle=True, batch_size=24, collate_fn=custom_collate)\n",
    "\n",
    "# Load a batch of inputs and outputs to use for evaluation.\n",
    "(x_batch, d_batch), y_batch = iter(test_loader).next()\n",
    "print(x_batch.shape)\n",
    "x_batch, y_batch = x_batch.to(device), y_batch.to(device)"
   ]
  },
  {
   "cell_type": "code",
   "execution_count": 4,
   "metadata": {},
   "outputs": [
    {
     "name": "stdout",
     "output_type": "stream",
     "text": [
      "(24, 3, 224, 224)\n"
     ]
    }
   ],
   "source": [
    "# Save x_batch and y_batch as numpy arrays that will be used to call metric instances.\n",
    "x_batch, y_batch = x_batch.cpu().numpy(), y_batch.cpu().numpy()\n",
    "print(x_batch.shape)"
   ]
  },
  {
   "cell_type": "code",
   "execution_count": 12,
   "metadata": {},
   "outputs": [
    {
     "name": "stdout",
     "output_type": "stream",
     "text": [
      "(24, 224, 224)\n"
     ]
    }
   ],
   "source": [
    "s_batch = []\n",
    "\n",
    "for mask_dict in d_batch:\n",
    "    s_batch.append(mask_dict[list(mask_dict.keys())[0]][:, :, 0])\n",
    "\n",
    "s_batch = np.array(s_batch)\n",
    "print(s_batch.shape)"
   ]
  },
  {
   "cell_type": "code",
   "execution_count": 13,
   "metadata": {
    "id": "F5GOtuP3n-f5"
   },
   "outputs": [
    {
     "data": {
      "text/plain": [
       "[1, 0, 0, 1, 1, 1, 0, 0, 1, 1, 0, 1, 1, 1, 0, 1, 0, 1, 0, 1, 1, 1, 1, 1]"
      ]
     },
     "execution_count": 13,
     "metadata": {},
     "output_type": "execute_result"
    }
   ],
   "source": [
    "# Return effective complexity scores in an one-liner - by calling the metric instance.\n",
    "quantus.PointingGame(**{\n",
    "})(model=model, \n",
    "   x_batch=x_batch,\n",
    "   y_batch=y_batch,\n",
    "   a_batch=None,\n",
    "   s_batch=s_batch,\n",
    "   **{\"explain_func\": quantus.explain, \"method\": \"Saliency\", \"device\": device})"
   ]
  },
  {
   "cell_type": "code",
   "execution_count": 14,
   "metadata": {
    "id": "B0IquZmioJlA"
   },
   "outputs": [
    {
     "data": {
      "text/plain": [
       "[0.40025213,\n",
       " 0.20398511,\n",
       " 0.17013627,\n",
       " 0.997503,\n",
       " 0.833114,\n",
       " 0.34701458,\n",
       " 0.140623,\n",
       " 0.32279322,\n",
       " 0.42278847,\n",
       " 0.28827336,\n",
       " 0.4164221,\n",
       " 0.93985087,\n",
       " 0.6603087,\n",
       " 0.7212441,\n",
       " 0.2014988,\n",
       " 0.5006696,\n",
       " 0.22828004,\n",
       " 0.97880894,\n",
       " 0.020070205,\n",
       " 0.80277777,\n",
       " 0.7964626,\n",
       " 0.39282787,\n",
       " 0.9424784,\n",
       " 0.40008068]"
      ]
     },
     "execution_count": 14,
     "metadata": {},
     "output_type": "execute_result"
    }
   ],
   "source": [
    "# Return attribution localization scores in an one-liner - by calling the metric instance.\n",
    "quantus.AttributionLocalization(**{\n",
    "})(model=model, \n",
    "   x_batch=x_batch,\n",
    "   y_batch=y_batch,\n",
    "   a_batch=None,\n",
    "   s_batch=s_batch,\n",
    "   **{\"explain_func\": quantus.explain, \"method\": \"Saliency\", \"device\": device})"
   ]
  },
  {
   "cell_type": "code",
   "execution_count": 15,
   "metadata": {
    "id": "jGYXsVeJoJ5N"
   },
   "outputs": [
    {
     "data": {
      "text/plain": [
       "[0.9530000000000001,\n",
       " 0.063,\n",
       " 0.07100000000000001,\n",
       " 0.999,\n",
       " 0.883,\n",
       " 0.385,\n",
       " 0.08,\n",
       " 0.322,\n",
       " 0.648,\n",
       " 0.764,\n",
       " 0.468,\n",
       " 1.0,\n",
       " 0.987,\n",
       " 0.997,\n",
       " 0.135,\n",
       " 0.9520000000000001,\n",
       " 0.10200000000000001,\n",
       " 0.98,\n",
       " 0.035,\n",
       " 0.9520000000000001,\n",
       " 0.974,\n",
       " 0.854,\n",
       " 0.998,\n",
       " 0.894]"
      ]
     },
     "execution_count": 15,
     "metadata": {},
     "output_type": "execute_result"
    }
   ],
   "source": [
    "# Return tki scores in an one-liner - by calling the metric instance.\n",
    "quantus.TopKIntersection(**{\n",
    "})(model=model, \n",
    "   x_batch=x_batch,\n",
    "   y_batch=y_batch,\n",
    "   a_batch=None,\n",
    "   s_batch=s_batch,\n",
    "   **{\"explain_func\": quantus.explain, \"method\": \"Saliency\", \"device\": device})"
   ]
  },
  {
   "cell_type": "code",
   "execution_count": 16,
   "metadata": {
    "id": "Aks45rDRoKjx"
   },
   "outputs": [
    {
     "data": {
      "text/plain": [
       "[0.5405813953488372,\n",
       " 0.19370182056749222,\n",
       " 0.1550314465408805,\n",
       " 0.9957359064702114,\n",
       " 0.8189867797947908,\n",
       " 0.36818181818181817,\n",
       " 0.12523744911804613,\n",
       " 0.3322395933860902,\n",
       " 0.45998082913970767,\n",
       " 0.5196112460951059,\n",
       " 0.4452092511013216,\n",
       " 0.9074933526710176,\n",
       " 0.6364992796871785,\n",
       " 0.7608746546799644,\n",
       " 0.1761954261954262,\n",
       " 0.5968265416516408,\n",
       " 0.2061711079943899,\n",
       " 0.9777804957599479,\n",
       " 0.03368421052631579,\n",
       " 0.770242711474939,\n",
       " 0.7538870873867133,\n",
       " 0.5091525423728813,\n",
       " 0.9091010235870048,\n",
       " 0.6342383107088989]"
      ]
     },
     "execution_count": 16,
     "metadata": {},
     "output_type": "execute_result"
    }
   ],
   "source": [
    "# Return relevane rank accuracy scores in an one-liner - by calling the metric instance.\n",
    "quantus.RelevanceRankAccuracy(**{\n",
    "})(model=model, \n",
    "   x_batch=x_batch,\n",
    "   y_batch=y_batch,\n",
    "   a_batch=None,\n",
    "   s_batch=s_batch,\n",
    "   **{\"explain_func\": quantus.explain, \"method\": \"Saliency\", \"device\": device})"
   ]
  },
  {
   "cell_type": "code",
   "execution_count": 199,
   "metadata": {
    "id": "Npd9c-43oV73"
   },
   "outputs": [
    {
     "ename": "AttributeError",
     "evalue": "module 'quantus' has no attribute 'RelevanceMassAccuracy'",
     "output_type": "error",
     "traceback": [
      "\u001b[0;31m---------------------------------------------------------------------------\u001b[0m",
      "\u001b[0;31mAttributeError\u001b[0m                            Traceback (most recent call last)",
      "\u001b[0;32m<ipython-input-199-eaa1f0023d46>\u001b[0m in \u001b[0;36m<module>\u001b[0;34m\u001b[0m\n\u001b[1;32m      1\u001b[0m \u001b[0;31m# Return relevane mass accuracy scores in an one-liner - by calling the metric instance.\u001b[0m\u001b[0;34m\u001b[0m\u001b[0;34m\u001b[0m\u001b[0;34m\u001b[0m\u001b[0m\n\u001b[0;32m----> 2\u001b[0;31m quantus.RelevanceMassAccuracy(**{\n\u001b[0m\u001b[1;32m      3\u001b[0m })(model=model, \n\u001b[1;32m      4\u001b[0m    \u001b[0mx_batch\u001b[0m\u001b[0;34m=\u001b[0m\u001b[0mx_batch\u001b[0m\u001b[0;34m,\u001b[0m\u001b[0;34m\u001b[0m\u001b[0;34m\u001b[0m\u001b[0m\n\u001b[1;32m      5\u001b[0m    \u001b[0my_batch\u001b[0m\u001b[0;34m=\u001b[0m\u001b[0my_batch\u001b[0m\u001b[0;34m,\u001b[0m\u001b[0;34m\u001b[0m\u001b[0;34m\u001b[0m\u001b[0m\n",
      "\u001b[0;31mAttributeError\u001b[0m: module 'quantus' has no attribute 'RelevanceMassAccuracy'"
     ]
    }
   ],
   "source": [
    "# Return relevane mass accuracy scores in an one-liner - by calling the metric instance.\n",
    "quantus.RelevanceMassAccuracy(**{\n",
    "})(model=model, \n",
    "   x_batch=x_batch,\n",
    "   y_batch=y_batch,\n",
    "   a_batch=None,\n",
    "   s_batch=s_batch,\n",
    "   **{\"explain_func\": quantus.explain, \"method\": \"Saliency\", \"device\": device})"
   ]
  }
 ],
 "metadata": {
  "accelerator": "GPU",
  "colab": {
   "collapsed_sections": [],
   "machine_shape": "hm",
   "name": "tutorial-all-metrics.ipynb",
   "provenance": [],
   "toc_visible": true
  },
  "kernelspec": {
   "display_name": "Python 3",
   "language": "python",
   "name": "python3"
  },
  "language_info": {
   "codemirror_mode": {
    "name": "ipython",
    "version": 3
   },
   "file_extension": ".py",
   "mimetype": "text/x-python",
   "name": "python",
   "nbconvert_exporter": "python",
   "pygments_lexer": "ipython3",
   "version": "3.7.6"
  }
 },
 "nbformat": 4,
 "nbformat_minor": 1
}
