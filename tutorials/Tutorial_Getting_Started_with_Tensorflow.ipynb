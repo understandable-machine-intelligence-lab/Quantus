{
 "cells": [
  {
   "cell_type": "markdown",
   "metadata": {
    "id": "bukochgPFg7s"
   },
   "source": [
    "# Getting Started with TensorFlow!\n",
    "\n",
    "This notebook shows how to get started with Quantus with `tensorflow`, using a very simple example. For this purpose, we use a LeNet model and MNIST dataset."
   ]
  },
  {
   "cell_type": "code",
   "execution_count": null,
   "metadata": {
    "id": "4Y7_mNf9Bic0"
   },
   "outputs": [],
   "source": [
    "from IPython.display import clear_output\n",
    "!pip install quantus tensorflow tf-explain\n",
    "!pip install matplotlib==3.1.3\n",
    "#!pip install tensorflow==2.6.2 quantus tf-explain\n",
    "clear_output()"
   ]
  },
  {
   "cell_type": "code",
   "execution_count": null,
   "metadata": {
    "id": "RV7X-Ss9-16F"
   },
   "outputs": [],
   "source": [
    "import pathlib\n",
    "import numpy as np\n",
    "import pandas as pd\n",
    "import tensorflow as tf\n",
    "import tensorflow_datasets as tfds\n",
    "from tensorflow.image import grayscale_to_rgb\n",
    "import tf_explain\n",
    "import matplotlib.pyplot as plt\n",
    "import seaborn as sns\n",
    "import quantus\n",
    "sns.set()\n",
    "clear_output()"
   ]
  },
  {
   "cell_type": "markdown",
   "metadata": {
    "id": "mGhP4bTuoWYF"
   },
   "source": [
    "## 1) Preliminaries"
   ]
  },
  {
   "cell_type": "markdown",
   "metadata": {
    "id": "XqKzag4VFjHT"
   },
   "source": [
    "### 1.1 Load datasets\n",
    "\n",
    "We will then load a batch of input, output pairs that we generate explanations for, then to evaluate."
   ]
  },
  {
   "cell_type": "code",
   "execution_count": null,
   "metadata": {
    "id": "TmsZxFhuc0mm"
   },
   "outputs": [],
   "source": [
    "# Load datasets\n",
    "(ds_train, ds_test), ds_info = tfds.load(\n",
    "    'mnist',\n",
    "    split=['train', 'test'],\n",
    "    shuffle_files=True,\n",
    "    as_supervised=True,\n",
    "    with_info=True,\n",
    ")"
   ]
  },
  {
   "cell_type": "code",
   "execution_count": null,
   "metadata": {
    "colab": {
     "base_uri": "https://localhost:8080/",
     "height": 191
    },
    "executionInfo": {
     "elapsed": 663,
     "status": "ok",
     "timestamp": 1665171510856,
     "user": {
      "displayName": "Anna Hedström",
      "userId": "05540180366077551505"
     },
     "user_tz": -120
    },
    "id": "aAR67-cnOS67",
    "outputId": "c2a52e60-7419-4bf9-d61c-63dbad6d4787"
   },
   "outputs": [
    {
     "data": {
      "image/png": "[encoded data removed]",
      "text/plain": [
       "<Figure size 1080x216 with 5 Axes>"
      ]
     },
     "metadata": {},
     "output_type": "display_data"
    }
   ],
   "source": [
    "# Plot some inputs!\n",
    "i = 0\n",
    "nr_images = 5\n",
    "fig, axes = plt.subplots(nrows=1, ncols=nr_images, figsize=(nr_images*3, int(nr_images*2/3)))\n",
    "for x_batch, y_batch in ds_train.take(nr_images):\n",
    "    axes[i].imshow((np.reshape(x_batch.numpy(), (28, 28)) * 255).astype(np.uint8), vmin=0.0, vmax=1.0, cmap=\"gray\")\n",
    "    axes[i].title.set_text(f\"MNIST class - {y_batch}\")\n",
    "    axes[i].axis(\"off\")\n",
    "    i += 1\n",
    "\n",
    "plt.show()"
   ]
  },
  {
   "cell_type": "markdown",
   "metadata": {
    "id": "vmccxpA0n6MY"
   },
   "source": [
    "### 1.2 Train a LeNet model"
   ]
  },
  {
   "cell_type": "code",
   "execution_count": null,
   "metadata": {
    "id": "ISayd6-Q9D4I"
   },
   "outputs": [],
   "source": [
    "def normalise_img(image, label) -> float:\n",
    "  \"\"\"Normalise images: `uint8` -> `float32`.\"\"\"\n",
    "  return tf.expand_dims(tf.cast(image, tf.float32), axis = 3) / 255., label\n",
    "\n",
    "def to_rgb(image, label):\n",
    "    return grayscale_to_rgb(image), label"
   ]
  },
  {
   "cell_type": "code",
   "execution_count": null,
   "metadata": {
    "id": "CUghaOhXddLU"
   },
   "outputs": [],
   "source": [
    "# Build a training pipeline.\n",
    "ds_train = ds_train.map(\n",
    "    normalise_img, num_parallel_calls=tf.data.AUTOTUNE)\n",
    "ds_train = ds_train.cache()\n",
    "ds_train = ds_train.shuffle(ds_info.splits['train'].num_examples)\n",
    "ds_train = ds_train.batch(128)\n",
    "ds_train = ds_train.prefetch(tf.data.AUTOTUNE)\n",
    "\n",
    "# Build an evaluation pipeline.\n",
    "ds_test = ds_test.map(\n",
    "    normalise_img, num_parallel_calls=tf.data.AUTOTUNE)\n",
    "ds_test = ds_test.batch(128)\n",
    "ds_test = ds_test.cache()\n",
    "ds_test = ds_test.prefetch(tf.data.AUTOTUNE)\n",
    "\n",
    "# Get the batches of data.\n",
    "x_batch, y_batch = next(iter(ds_test))\n",
    "x_batch = x_batch.numpy() [:,:,:,0]\n",
    "y_batch = y_batch.numpy() "
   ]
  },
  {
   "cell_type": "code",
   "execution_count": null,
   "metadata": {
    "colab": {
     "base_uri": "https://localhost:8080/"
    },
    "executionInfo": {
     "elapsed": 15042,
     "status": "ok",
     "timestamp": 1665171525893,
     "user": {
      "displayName": "Anna Hedström",
      "userId": "05540180366077551505"
     },
     "user_tz": -120
    },
    "id": "olAfyOHzevne",
    "outputId": "8de58166-8dfd-47c8-dd92-a5e2ab46a59f"
   },
   "outputs": [
    {
     "name": "stdout",
     "output_type": "stream",
     "text": [
      "Epoch 1/6\n",
      "469/469 [==============================] - 7s 5ms/step - loss: 0.3530 - sparse_categorical_accuracy: 0.9026 - val_loss: 0.1942 - val_sparse_categorical_accuracy: 0.9432\n",
      "Epoch 2/6\n",
      "469/469 [==============================] - 2s 3ms/step - loss: 0.1666 - sparse_categorical_accuracy: 0.9527 - val_loss: 0.1417 - val_sparse_categorical_accuracy: 0.9591\n",
      "Epoch 3/6\n",
      "469/469 [==============================] - 1s 3ms/step - loss: 0.1192 - sparse_categorical_accuracy: 0.9658 - val_loss: 0.1099 - val_sparse_categorical_accuracy: 0.9680\n",
      "Epoch 4/6\n",
      "469/469 [==============================] - 1s 3ms/step - loss: 0.0928 - sparse_categorical_accuracy: 0.9726 - val_loss: 0.0975 - val_sparse_categorical_accuracy: 0.9704\n",
      "Epoch 5/6\n",
      "469/469 [==============================] - 1s 3ms/step - loss: 0.0743 - sparse_categorical_accuracy: 0.9783 - val_loss: 0.0894 - val_sparse_categorical_accuracy: 0.9737\n",
      "Epoch 6/6\n",
      "469/469 [==============================] - 1s 3ms/step - loss: 0.0613 - sparse_categorical_accuracy: 0.9821 - val_loss: 0.0839 - val_sparse_categorical_accuracy: 0.9743\n",
      "Model: \"sequential_3\"\n",
      "_________________________________________________________________\n",
      " Layer (type)                Output Shape              Param #   \n",
      "=================================================================\n",
      " flatten_3 (Flatten)         (None, 784)               0         \n",
      "                                                                 \n",
      " dense_6 (Dense)             (None, 128)               100480    \n",
      "                                                                 \n",
      " dense_7 (Dense)             (None, 10)                1290      \n",
      "                                                                 \n",
      "=================================================================\n",
      "Total params: 101,770\n",
      "Trainable params: 101,770\n",
      "Non-trainable params: 0\n",
      "_________________________________________________________________\n",
      "\n",
      " Model architecture: None\n",
      "\n"
     ]
    }
   ],
   "source": [
    "# Specify the architecture.\n",
    "model = tf.keras.models.Sequential([\n",
    "  tf.keras.layers.Flatten(input_shape=(28, 28, 1)),\n",
    "  tf.keras.layers.Dense(128, activation='relu'),\n",
    "  tf.keras.layers.Dense(10)\n",
    "])\n",
    "\n",
    "# Compile the model.\n",
    "model.compile(\n",
    "    optimizer=tf.keras.optimizers.Adam(0.001),\n",
    "    loss=tf.keras.losses.SparseCategoricalCrossentropy(from_logits=True),\n",
    "    metrics=[tf.keras.metrics.SparseCategoricalAccuracy()],\n",
    ")\n",
    "\n",
    "# Train!\n",
    "model.fit(\n",
    "    ds_train,\n",
    "    epochs=6,\n",
    "    validation_data=ds_test,\n",
    ")\n",
    "\n",
    "print(f\"\\n Model architecture: {model.summary()}\\n\")"
   ]
  },
  {
   "cell_type": "markdown",
   "metadata": {
    "id": "4vY9mZQanaxr"
   },
   "source": [
    "### 1.3 Generate explanations\n",
    "\n",
    "There exist multiple ways to generate explanations for neural network models e.g., using `captum` or `innvestigate` libraries. In this example, we rely on the `tf-explain`."
   ]
  },
  {
   "cell_type": "code",
   "execution_count": null,
   "metadata": {
    "colab": {
     "base_uri": "https://localhost:8080/"
    },
    "executionInfo": {
     "elapsed": 6,
     "status": "ok",
     "timestamp": 1665171525894,
     "user": {
      "displayName": "Anna Hedström",
      "userId": "05540180366077551505"
     },
     "user_tz": -120
    },
    "id": "gNxAtc2Co1pL",
    "outputId": "c7828e9b-70e0-4072-c195-d4664d66275c"
   },
   "outputs": [
    {
     "name": "stderr",
     "output_type": "stream",
     "text": [
      "/usr/local/lib/python3.7/dist-packages/ipykernel_launcher.py:3: UserWarning: Unsupported model architecture for VanillaGradients. The last two layers of the model should be: a layer which computes class scores with no activation, followed by an activation layer.\n",
      "  This is separate from the ipykernel package so we can avoid doing imports until\n"
     ]
    }
   ],
   "source": [
    "# Generate Integrated Gradients attributions of the first batch of the test set. \n",
    "a_batch_intgrad = ( np.array( list( map( lambda x, y: tf_explain.core.integrated_gradients.IntegratedGradients().explain( ([x], None), model, y, n_steps=10 ), x_batch, y_batch, ) ), dtype=float, ) / 255 )\n",
    "a_batch_grad = ( np.array( list( map( lambda x, y: tf_explain.core.vanilla_gradients.VanillaGradients().explain( ([x], None), model, y), x_batch, y_batch, ) ), dtype=float, ) / 255 )"
   ]
  },
  {
   "cell_type": "markdown",
   "metadata": {
    "id": "iRDwzUUp8bR2"
   },
   "source": [
    "Visualise attributions given model and pairs of input-output."
   ]
  },
  {
   "cell_type": "code",
   "execution_count": null,
   "metadata": {
    "colab": {
     "base_uri": "https://localhost:8080/",
     "height": 653
    },
    "executionInfo": {
     "elapsed": 3019,
     "status": "ok",
     "timestamp": 1665171528910,
     "user": {
      "displayName": "Anna Hedström",
      "userId": "05540180366077551505"
     },
     "user_tz": -120
    },
    "id": "82WWNmyoilXo",
    "outputId": "fbceb5fc-2a30-4133-9b3a-8b05a234d75d"
   },
   "outputs": [
    {
     "data": {
      "image/png": "[encoded data removed]",
      "text/plain": [
       "<Figure size 540x648 with 6 Axes>"
      ]
     },
     "metadata": {},
     "output_type": "display_data"
    }
   ],
   "source": [
    "# Plot explanations!\n",
    "nr_images = 3\n",
    "fig, axes = plt.subplots(nrows=nr_images, ncols=2, figsize=(nr_images*2.5, int(nr_images*3)))\n",
    "for i in range(nr_images):\n",
    "    axes[i, 0].imshow((np.reshape(x_batch[i], (28, 28)) * 255).astype(np.uint8), vmin=0.0, vmax=1.0, cmap=\"gray\")\n",
    "    axes[i, 0].title.set_text(f\"MNIST digit {y_batch[i].item()}\")\n",
    "    axes[i, 0].axis(\"off\")\n",
    "    a = axes[i, 1].imshow(a_batch_intgrad[i].reshape(28, 28), cmap=\"seismic\")\n",
    "    axes[i, 1].title.set_text(f\"Integrated Gradients\")\n",
    "    axes[i, 1].axis(\"off\")\n",
    "plt.tight_layout()\n",
    "plt.show()"
   ]
  },
  {
   "cell_type": "markdown",
   "metadata": {
    "id": "tuBkEBv3mihR"
   },
   "source": [
    "## 2) Quantative evaluation using Quantus\n",
    "\n",
    "We can evaluate our explanations on a variety of quantuative criteria but as a motivating example we test the Max-Sensitivity (Yeh at el., 2019) of the explanations. This metric tests how the explanations maximally change while subject to slight perturbations."
   ]
  },
  {
   "cell_type": "code",
   "execution_count": null,
   "metadata": {
    "id": "aLjrKsT6mS9X"
   },
   "outputs": [],
   "source": [
    "# Define metric for evaluation.\n",
    "metric_init = quantus.MaxSensitivity(nr_samples=10,\n",
    "    lower_bound=0.1,\n",
    "    norm_numerator=quantus.norm_func.fro_norm,\n",
    "    norm_denominator=quantus.norm_func.fro_norm,\n",
    "    perturb_func=quantus.perturb_func.uniform_noise,\n",
    "    similarity_func=quantus.similarity_func.difference,\n",
    "    disable_warnings=True,\n",
    "    normalise=True,\n",
    "    abs=True,)"
   ]
  },
  {
   "cell_type": "code",
   "execution_count": null,
   "metadata": {
    "colab": {
     "base_uri": "https://localhost:8080/"
    },
    "executionInfo": {
     "elapsed": 1990,
     "status": "ok",
     "timestamp": 1665171530896,
     "user": {
      "displayName": "Anna Hedström",
      "userId": "05540180366077551505"
     },
     "user_tz": -120
    },
    "id": "NlV_43TAmJll",
    "outputId": "54c85fef-ed54-4117-e400-931591b19fa4"
   },
   "outputs": [
    {
     "name": "stderr",
     "output_type": "stream",
     "text": [
      "/usr/local/lib/python3.7/dist-packages/quantus/helpers/explanation_func.py:125: UserWarning: Unsupported model architecture for VanillaGradients. The last two layers of the model should be: a layer which computes class scores with no activation, followed by an activation layer.\n",
      "  lambda x, y: explainer.explain(([x], None), model, y),\n"
     ]
    }
   ],
   "source": [
    "# Return Max-Sensitivity scores for Gradient.\n",
    "scores_grad = metric_init(model=model, \n",
    "                            x_batch=x_batch,\n",
    "                            y_batch=y_batch,\n",
    "                            a_batch=None,\n",
    "                            explain_func=quantus.explain,\n",
    "                            explain_func_kwargs={\"method\": \"Gradient\"})"
   ]
  },
  {
   "cell_type": "code",
   "execution_count": null,
   "metadata": {
    "id": "iq7qqDfSmIdj"
   },
   "outputs": [],
   "source": [
    "# Return Max-Sensitivity scores for Integrated Gradients.\n",
    "scores_intgrad = metric_init(model=model, \n",
    "                            x_batch=x_batch,\n",
    "                            y_batch=y_batch,\n",
    "                            a_batch=None,\n",
    "                            explain_func=quantus.explain,\n",
    "                            explain_func_kwargs={\"method\": \"IntegratedGradients\"})"
   ]
  },
  {
   "cell_type": "code",
   "execution_count": null,
   "metadata": {
    "colab": {
     "base_uri": "https://localhost:8080/"
    },
    "executionInfo": {
     "elapsed": 4,
     "status": "ok",
     "timestamp": 1665171594087,
     "user": {
      "displayName": "Anna Hedström",
      "userId": "05540180366077551505"
     },
     "user_tz": -120
    },
    "id": "3kBrG51Lpuq9",
    "outputId": "5de8efa5-03ac-433d-ec7b-ead66740a545"
   },
   "outputs": [
    {
     "name": "stdout",
     "output_type": "stream",
     "text": [
      "max-Sensitivity scores by Yeh et al., 2019\n",
      "\n",
      " • Gradient = 1.25 (0.31).\n",
      " • Integrated Gradients = 1.15 (0.31).\n"
     ]
    }
   ],
   "source": [
    "print(f\"max-Sensitivity scores by Yeh et al., 2019\\n\" \\\n",
    "      f\"\\n • Gradient = {np.mean(scores_grad):.2f} ({np.std(scores_grad):.2f}).\" \\\n",
    "      f\"\\n • Integrated Gradients = {np.mean(scores_intgrad):.2f} ({np.std(scores_intgrad):.2f}).\"\n",
    "      )"
   ]
  },
  {
   "cell_type": "code",
   "execution_count": null,
   "metadata": {
    "id": "hAGhLJ5Q9NmQ"
   },
   "outputs": [],
   "source": []
  }
 ],
 "metadata": {
  "accelerator": "GPU",
  "colab": {
   "collapsed_sections": [],
   "machine_shape": "hm",
   "provenance": []
  },
  "gpuClass": "standard",
  "kernelspec": {
   "display_name": "Python 3 (ipykernel)",
   "language": "python",
   "name": "python3"
  },
  "language_info": {
   "codemirror_mode": {
    "name": "ipython",
    "version": 3
   },
   "file_extension": ".py",
   "mimetype": "text/x-python",
   "name": "python",
   "nbconvert_exporter": "python",
   "pygments_lexer": "ipython3",
   "version": "3.9.7"
  }
 },
 "nbformat": 4,
 "nbformat_minor": 1
}