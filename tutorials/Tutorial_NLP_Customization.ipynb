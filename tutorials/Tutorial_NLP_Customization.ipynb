{
 "cells": [
  {
   "cell_type": "markdown",
   "source": [
    "Quantus supports text-classification models out of the box.\n",
    "In this tutorial we show how you can use Quantus with your custom model."
   ],
   "metadata": {
    "collapsed": false
   }
  },
  {
   "cell_type": "code",
   "execution_count": 1,
   "outputs": [
    {
     "name": "stdout",
     "output_type": "stream",
     "text": [
      "Metal device set to: Apple M1 Pro\n"
     ]
    },
    {
     "data": {
      "text/plain": "[LogicalDevice(name='/device:CPU:0', device_type='CPU'),\n LogicalDevice(name='/device:GPU:0', device_type='GPU')]"
     },
     "execution_count": 1,
     "metadata": {},
     "output_type": "execute_result"
    }
   ],
   "source": [
    "from typing import NamedTuple, List, Generator, Any\n",
    "import logging\n",
    "\n",
    "import numpy as np\n",
    "import tensorflow as tf\n",
    "from tensorflow import keras\n",
    "\n",
    "from datasets import load_dataset\n",
    "from tokenizers import Tokenizer\n",
    "from tokenizers import normalizers\n",
    "from tokenizers.normalizers import NFD, Lowercase, StripAccents\n",
    "from tokenizers.models import WordPiece\n",
    "from tokenizers.pre_tokenizers import Whitespace\n",
    "from tokenizers.trainers import WordPieceTrainer\n",
    "from tokenizers.processors import TemplateProcessing\n",
    "from keras_nlp.layers import FNetEncoder, TokenAndPositionEmbedding\n",
    "from omnixai.explainers.nlp import NLPExplainer\n",
    "\n",
    "from quantus.helpers.model.text_classifier import Tokenizable, TextClassifier\n",
    "from quantus.helpers.tf_utils import (\n",
    "    is_xla_compatible_platform,\n",
    "    random_layer_generator,\n",
    "    list_parameterizable_layers,\n",
    ")\n",
    "from quantus.helpers.types import Explanation, LayerOrderT\n",
    "\n",
    "logging.getLogger().setLevel(logging.ERROR)\n",
    "tf.get_logger().setLevel(logging.ERROR)\n",
    "tf.config.list_logical_devices()"
   ],
   "metadata": {
    "collapsed": false,
    "ExecuteTime": {
     "start_time": "2023-04-12T16:17:29.991228Z",
     "end_time": "2023-04-12T16:17:43.980730Z"
    }
   }
  },
  {
   "cell_type": "markdown",
   "source": [
    "## 1) Preliminaries.\n",
    "### 1.1 Load SST2 dataset."
   ],
   "metadata": {
    "collapsed": false
   }
  },
  {
   "cell_type": "code",
   "execution_count": 2,
   "metadata": {
    "ExecuteTime": {
     "start_time": "2023-04-12T16:17:43.982472Z",
     "end_time": "2023-04-12T16:17:45.345038Z"
    },
    "collapsed": false
   },
   "outputs": [
    {
     "name": "stderr",
     "output_type": "stream",
     "text": [
      "Found cached dataset sst2 (/Users/artemsereda/.cache/huggingface/datasets/sst2/default/2.0.0/9896208a8d85db057ac50c72282bcb8fe755accc671a57dd8059d4e130961ed5)\n"
     ]
    },
    {
     "data": {
      "text/plain": "  0%|          | 0/3 [00:00<?, ?it/s]",
      "application/vnd.jupyter.widget-view+json": {
       "version_major": 2,
       "version_minor": 0,
       "model_id": "60b9db3656d1498dbd0e5c65448e9794"
      }
     },
     "metadata": {},
     "output_type": "display_data"
    }
   ],
   "source": [
    "dataset = load_dataset(\"sst2\")\n",
    "\n",
    "X_train = dataset[\"train\"][\"sentence\"]\n",
    "X_val = dataset[\"validation\"][\"sentence\"]\n",
    "\n",
    "Y_train = dataset[\"train\"][\"label\"]\n",
    "Y_val = dataset[\"validation\"][\"label\"]"
   ]
  },
  {
   "cell_type": "markdown",
   "source": [
    "### 1.2. Train Wordpiece tokenizer.\n",
    "More about wordpiece algorithm [here](https://huggingface.co/course/chapter6/6?fw=pt).\n",
    "More about tokenizers library [here](https://huggingface.co/docs/tokenizers/index)."
   ],
   "metadata": {
    "collapsed": false
   }
  },
  {
   "cell_type": "code",
   "execution_count": 3,
   "metadata": {
    "ExecuteTime": {
     "start_time": "2023-04-12T16:17:45.344902Z",
     "end_time": "2023-04-12T16:17:46.056066Z"
    },
    "collapsed": false
   },
   "outputs": [
    {
     "name": "stdout",
     "output_type": "stream",
     "text": [
      "\n",
      "\n",
      "\n"
     ]
    }
   ],
   "source": [
    "tokenizer = Tokenizer(WordPiece(unk_token=\"[UNK]\"))\n",
    "trainer = WordPieceTrainer(\n",
    "    special_tokens=[\"[UNK]\", \"[CLS]\", \"[SEP]\", \"[PAD]\", \"[MASK]\"], vocab_size=10_000\n",
    ")\n",
    "\n",
    "# Input pre-processing.\n",
    "tokenizer.pre_tokenizer = Whitespace()\n",
    "tokenizer.normalizer = normalizers.Sequence([NFD(), Lowercase(), StripAccents()])\n",
    "\n",
    "# Append classification tokens.\n",
    "tokenizer.post_processor = TemplateProcessing(\n",
    "    single=\"[CLS] $A [SEP]\",\n",
    "    pair=\"[CLS] $A [SEP] $B:1 [SEP]:1\",\n",
    "    special_tokens=[\n",
    "        (\"[CLS]\", 1),\n",
    "        (\"[SEP]\", 2),\n",
    "    ],\n",
    ")\n",
    "\n",
    "# Train on all data.\n",
    "tokenizer.train_from_iterator(X_train + X_val, trainer)"
   ]
  },
  {
   "cell_type": "markdown",
   "source": [
    "### 1.3 Encode text."
   ],
   "metadata": {
    "collapsed": false
   }
  },
  {
   "cell_type": "code",
   "execution_count": 4,
   "metadata": {
    "ExecuteTime": {
     "start_time": "2023-04-12T16:17:46.063116Z",
     "end_time": "2023-04-12T16:17:46.539102Z"
    },
    "collapsed": false
   },
   "outputs": [],
   "source": [
    "# Configure for usage.\n",
    "tokenizer.enable_padding()\n",
    "tokenizer.enable_truncation(max_length=30)\n",
    "# Encode inputs.\n",
    "X_train_encoded = [i.ids for i in tokenizer.encode_batch(X_train)]\n",
    "X_val_encoded = [i.ids for i in tokenizer.encode_batch(X_val)]"
   ]
  },
  {
   "cell_type": "markdown",
   "source": [
    "### 1.4. Convert to TF dataset."
   ],
   "metadata": {
    "collapsed": false
   }
  },
  {
   "cell_type": "code",
   "execution_count": 5,
   "metadata": {
    "ExecuteTime": {
     "start_time": "2023-04-12T16:17:46.581777Z",
     "end_time": "2023-04-12T16:17:48.300750Z"
    },
    "collapsed": false
   },
   "outputs": [],
   "source": [
    "train_ds = (\n",
    "    tf.data.Dataset.from_tensor_slices((X_train_encoded, Y_train))\n",
    "    .shuffle(100)\n",
    "    .batch(2048, drop_remainder=True)\n",
    "    .cache()\n",
    "    .prefetch(tf.data.AUTOTUNE)\n",
    ")\n",
    "val_ds = (\n",
    "    tf.data.Dataset.from_tensor_slices((X_val_encoded, Y_val))\n",
    "    .shuffle(100)\n",
    "    .batch(2048, drop_remainder=True)\n",
    "    .cache()\n",
    "    .prefetch(tf.data.AUTOTUNE)\n",
    ")"
   ]
  },
  {
   "cell_type": "markdown",
   "source": [
    "### 1.5. Define model\n",
    "We use simple and lightweight FNet architecture. More about it [here](https://arxiv.org/abs/2105.03824).\n",
    "The implementation is based on [keras_nlp](https://github.com/keras-team/keras-nlp/blob/master/keras_nlp/layers/f_net_encoder.py)."
   ],
   "metadata": {
    "collapsed": false
   }
  },
  {
   "cell_type": "code",
   "execution_count": 6,
   "metadata": {
    "ExecuteTime": {
     "start_time": "2023-04-12T16:17:48.310045Z",
     "end_time": "2023-04-12T16:17:48.732461Z"
    },
    "collapsed": false
   },
   "outputs": [],
   "source": [
    "class FNetConfig(NamedTuple):\n",
    "    embedding_dim = 128\n",
    "    intermediate_dim = 256\n",
    "    num_encoder_blocks = 3\n",
    "    max_sequence_length = 30\n",
    "    vocab_size = 10_000\n",
    "    num_labels = 20\n",
    "\n",
    "\n",
    "def fnet_classifier(config: FNetConfig):\n",
    "    input_ids = keras.Input(shape=(None,), dtype=tf.int64, name=\"input_ids\")\n",
    "    x = TokenAndPositionEmbedding(\n",
    "        vocabulary_size=config.vocab_size,\n",
    "        sequence_length=config.max_sequence_length,\n",
    "        embedding_dim=config.embedding_dim,\n",
    "    )(input_ids)\n",
    "\n",
    "    for _ in range(config.num_encoder_blocks):\n",
    "        x = FNetEncoder(intermediate_dim=config.intermediate_dim)(inputs=x)\n",
    "\n",
    "    x = keras.layers.GlobalAveragePooling1D()(x)\n",
    "    x = keras.layers.Dropout(0.1)(x)\n",
    "    outputs = keras.layers.Dense(config.num_labels, activation=\"softmax\")(x)\n",
    "    fnet_model = keras.Model(input_ids, outputs, name=\"fnet_classifier\")\n",
    "    return fnet_model\n",
    "\n",
    "\n",
    "model = fnet_classifier(FNetConfig())"
   ]
  },
  {
   "cell_type": "markdown",
   "source": [
    "### 1.6 Train model."
   ],
   "metadata": {
    "collapsed": false
   }
  },
  {
   "cell_type": "code",
   "execution_count": 7,
   "metadata": {
    "ExecuteTime": {
     "start_time": "2023-04-12T16:18:02.351865Z",
     "end_time": "2023-04-12T16:36:48.254062Z"
    },
    "collapsed": false
   },
   "outputs": [
    {
     "name": "stdout",
     "output_type": "stream",
     "text": [
      "Epoch 1/5\n"
     ]
    },
    {
     "name": "stderr",
     "output_type": "stream",
     "text": [
      "2023-04-12 16:18:03.018506: W tensorflow/tsl/platform/profile_utils/cpu_utils.cc:128] Failed to get CPU frequency: 0 Hz\n"
     ]
    },
    {
     "name": "stdout",
     "output_type": "stream",
     "text": [
      "32/32 [==============================] - 168s 5s/step - loss: 0.9356 - accuracy: 0.5178\n",
      "Epoch 2/5\n",
      "32/32 [==============================] - 231s 7s/step - loss: nan - accuracy: 0.4483\n",
      "Epoch 3/5\n",
      "32/32 [==============================] - 248s 8s/step - loss: nan - accuracy: 0.4423\n",
      "Epoch 4/5\n",
      "32/32 [==============================] - 240s 7s/step - loss: nan - accuracy: 0.4423\n",
      "Epoch 5/5\n",
      "32/32 [==============================] - 238s 7s/step - loss: nan - accuracy: 0.4423\n",
      "Model: \"fnet_classifier\"\n",
      "_________________________________________________________________\n",
      " Layer (type)                Output Shape              Param #   \n",
      "=================================================================\n",
      " input_ids (InputLayer)      [(None, None)]            0         \n",
      "                                                                 \n",
      " token_and_position_embeddin  (None, None, 128)        1283840   \n",
      " g (TokenAndPositionEmbeddin                                     \n",
      " g)                                                              \n",
      "                                                                 \n",
      " f_net_encoder (FNetEncoder)  (None, None, 128)        66432     \n",
      "                                                                 \n",
      " f_net_encoder_1 (FNetEncode  (None, None, 128)        66432     \n",
      " r)                                                              \n",
      "                                                                 \n",
      " f_net_encoder_2 (FNetEncode  (None, None, 128)        66432     \n",
      " r)                                                              \n",
      "                                                                 \n",
      " global_average_pooling1d (G  (None, 128)              0         \n",
      " lobalAveragePooling1D)                                          \n",
      "                                                                 \n",
      " dropout (Dropout)           (None, 128)               0         \n",
      "                                                                 \n",
      " dense (Dense)               (None, 20)                2580      \n",
      "                                                                 \n",
      "=================================================================\n",
      "Total params: 1,485,716\n",
      "Trainable params: 1,485,716\n",
      "Non-trainable params: 0\n",
      "_________________________________________________________________\n"
     ]
    }
   ],
   "source": [
    "use_xla = is_xla_compatible_platform()\n",
    "\n",
    "\n",
    "model.compile(\n",
    "    optimizer=tf.keras.optimizers.legacy.Adam(learning_rate=5e-4),\n",
    "    loss=\"sparse_categorical_crossentropy\",\n",
    "    metrics=[\"accuracy\"],\n",
    "    jit_compile=use_xla,\n",
    ")\n",
    "\n",
    "model.fit(\n",
    "    train_ds,\n",
    "    validation_data=val_ds,\n",
    "    epochs=5,\n",
    ")\n",
    "model.summary()"
   ]
  },
  {
   "cell_type": "markdown",
   "source": [
    "### 1.7 Create adapter for Quantus.\n",
    "\n",
    "If you want to use built-in gradient-based XAI methods, the model must conform to the following \"duck\" type:\n",
    "```python\n",
    "@runtime_checkable\n",
    "class EmbeddingCallable(Protocol):\n",
    "    def __call__(self, input_ids: None, inputs_embeds: tf.Tensor | torch.Tensor, **kwargs) -> tf.Tensor | torch.Tensor: ...\n",
    "```\n",
    "This would require access to models' internals.\n",
    "In this example, however, we will implement plain-text explanations."
   ],
   "metadata": {
    "collapsed": false
   }
  },
  {
   "cell_type": "code",
   "execution_count": null,
   "outputs": [],
   "source": [
    "class TokenizerAdapter(Tokenizable):\n",
    "    def __init__(self, tokenizer: Tokenizer):\n",
    "        self.tokenizer = tokenizer\n",
    "        self.tokenizer.enable_truncation(max_length=30)\n",
    "        self.tokenizer.enable_padding()\n",
    "\n",
    "    def batch_encode(self, text: List[str], **kwargs) -> R:\n",
    "        return {\n",
    "            \"input_ids\": np.asarray([i.id for i in self.tokenizer.encode_batch(text)])\n",
    "        }\n",
    "\n",
    "    def convert_ids_to_tokens(self, ids: np.ndarray) -> List[str]:\n",
    "        return [self.tokenizer.id_to_token(i) for i in ids]\n",
    "\n",
    "    def token_id(self, token: str) -> int:\n",
    "        return self.tokenizer.token_to_id(token)\n",
    "\n",
    "    def batch_decode(self, ids: np.ndarray, **kwargs) -> List[str]:\n",
    "        return self.batch_decode(ids)\n",
    "\n",
    "    def split_into_tokens(self, text: str) -> List[str]:\n",
    "        return self.tokenizer.tokenize(text)\n",
    "\n",
    "    def join_tokens(self, tokens: List[str]) -> str:\n",
    "        return self.tokenizer.convert_tokens_to_string(tokens)\n",
    "\n",
    "\n",
    "class FNetAdapter(TextClassifier):\n",
    "    def __init__(self, fnet: keras.Model, tokenizer: TokenizerAdapter):\n",
    "        self._tokenizer = tokenizer\n",
    "        self.model = fnet\n",
    "\n",
    "    def get_hidden_representations(self, x, *args, **kwargs) -> np.ndarray:\n",
    "        return super().get_hidden_representations(x, *args, **kwargs)\n",
    "\n",
    "    def get_random_layer_generator(\n",
    "        self, order: LayerOrderT = \"top_down\", seed: int = 42\n",
    "    ) -> Generator[Any, None, None]:\n",
    "        return random_layer_generator(self, order, seed, flatten_layers=True)\n",
    "\n",
    "    @property\n",
    "    def random_layer_generator_length(self) -> int:\n",
    "        return len(list_parameterizable_layers(self.get_model(), flatten_layers=True))\n",
    "\n",
    "    def get_model(self):\n",
    "        return self.model\n",
    "\n",
    "    def state_dict(self):\n",
    "        return self.model.get_weights()\n",
    "\n",
    "    def load_state_dict(self, original_parameters):\n",
    "        return self.model.set_weights(original_parameters)\n",
    "\n",
    "    def predict(self, text: List[str], **kwargs) -> np.ndarray:\n",
    "        ids, _ = self.tokenizer.get_input_ids(text)\n",
    "        return self.model.predict(ids)\n",
    "\n",
    "    def embedding_lookup(self, input_ids):\n",
    "        return self.model.get_layer(name=\"token_embedding_0\").token_embedding(input_ids)\n",
    "\n",
    "    @property\n",
    "    def tokenizer(self) -> Tokenizable:\n",
    "        return self._tokenizer"
   ],
   "metadata": {
    "collapsed": false
   }
  },
  {
   "cell_type": "markdown",
   "source": [
    "### 1.8 Define custom explanation function.\n",
    "A basic signature looks follow way:\n",
    "\n",
    "```python\n",
    "\n",
    "from typing import List\n",
    "from numpy.typing import ArrayLike\n",
    "from quantus.helpers.model.text_classifier import TextClassifier\n",
    "\n",
    "\n",
    "def explain(\n",
    "    model: TextClassifier,\n",
    "    x_batch: List[str],\n",
    "    y_batch: ArrayLike,\n",
    "    **kwargs\n",
    ") -> List[Tuple[List[str], ArrayLike]]: ...\n",
    "```\n",
    "\n",
    "We will implement counterfactual explanations, using ...."
   ],
   "metadata": {
    "collapsed": false
   }
  },
  {
   "cell_type": "code",
   "execution_count": null,
   "outputs": [],
   "source": [
    "def explain_counterfactual(\n",
    "    fnet_model: FNetAdapter, x_batch: List[str], y_batch: np.ndarray\n",
    ") -> List[Explanation]:\n",
    "    pass"
   ],
   "metadata": {
    "collapsed": false
   }
  },
  {
   "cell_type": "markdown",
   "source": [
    "## 4) Quantitative evaluation with Quantus."
   ],
   "metadata": {
    "collapsed": false
   }
  },
  {
   "cell_type": "code",
   "execution_count": null,
   "outputs": [],
   "source": [
    "# TODO"
   ],
   "metadata": {
    "collapsed": false
   }
  },
  {
   "cell_type": "markdown",
   "source": [
    "## 5) Results visualization."
   ],
   "metadata": {
    "collapsed": false
   }
  },
  {
   "cell_type": "code",
   "execution_count": null,
   "outputs": [],
   "source": [],
   "metadata": {
    "collapsed": false
   }
  }
 ],
 "metadata": {
  "kernelspec": {
   "display_name": "quantus",
   "language": "python",
   "name": "python3"
  },
  "language_info": {
   "codemirror_mode": {
    "name": "ipython",
    "version": 3
   },
   "file_extension": ".py",
   "mimetype": "text/x-python",
   "name": "python",
   "nbconvert_exporter": "python",
   "pygments_lexer": "ipython3",
   "version": "3.9.16"
  },
  "vscode": {
   "interpreter": {
    "hash": "3e1faee55f3ced5625a3cb76335de31f85cad4aa5905c1a154bea41f61f60e02"
   }
  }
 },
 "nbformat": 4,
 "nbformat_minor": 0
}
