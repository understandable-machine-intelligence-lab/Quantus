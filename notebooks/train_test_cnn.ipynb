{
 "cells": [
  {
   "cell_type": "markdown",
   "source": [
    "### In this notebook we train a simple 2D CNN on MNISt and Cifar10 datasets. <br> We will use these models for testing Quantus with TensorFlow"
   ],
   "metadata": {
    "collapsed": false
   }
  },
  {
   "cell_type": "code",
   "execution_count": 1,
   "outputs": [
    {
     "data": {
      "text/plain": "[PhysicalDevice(name='/physical_device:CPU:0', device_type='CPU'),\n PhysicalDevice(name='/physical_device:GPU:0', device_type='GPU')]"
     },
     "execution_count": 1,
     "metadata": {},
     "output_type": "execute_result"
    }
   ],
   "source": [
    "import tensorflow as tf\n",
    "import tensorflow_datasets as tfds\n",
    "import quantus\n",
    "import tensorflow_addons as tfa\n",
    "\n",
    "BATCH_SIZE = 1024\n",
    "\n",
    "tf.config.list_physical_devices()"
   ],
   "metadata": {
    "collapsed": false
   }
  },
  {
   "cell_type": "markdown",
   "source": [
    "#### Load MNIST dataset"
   ],
   "metadata": {
    "collapsed": false
   }
  },
  {
   "cell_type": "code",
   "execution_count": 2,
   "outputs": [
    {
     "name": "stdout",
     "output_type": "stream",
     "text": [
      "Metal device set to: AMD Radeon Pro 560\n"
     ]
    },
    {
     "data": {
      "text/plain": "<PrefetchDataset element_spec=(TensorSpec(shape=(None, 28, 28, 1), dtype=tf.float32, name=None), TensorSpec(shape=(None,), dtype=tf.int64, name=None))>"
     },
     "execution_count": 2,
     "metadata": {},
     "output_type": "execute_result"
    }
   ],
   "source": [
    "train_ds, val_ds = tfds.load(\n",
    "    \"mnist\",\n",
    "    try_gcs=True,\n",
    "    as_supervised=True,\n",
    "    split=[\"train\", \"test\"],\n",
    "    shuffle_files=True,\n",
    "    batch_size=BATCH_SIZE\n",
    ")\n",
    "\n",
    "def configure_ds(ds: tf.data.Dataset) -> tf.data.Dataset:\n",
    "    return (\n",
    "        ds\n",
    "        .map(lambda x, y: (tf.image.resize(x, (28, 28)),y))\n",
    "        .cache()\n",
    "        .prefetch(tf.data.experimental.AUTOTUNE)\n",
    "    )\n",
    "\n",
    "\n",
    "train_ds = configure_ds(train_ds)\n",
    "val_ds = configure_ds(val_ds)\n",
    "\n",
    "train_ds"
   ],
   "metadata": {
    "collapsed": false
   }
  },
  {
   "cell_type": "markdown",
   "source": [
    "#### Create 2D CNN model"
   ],
   "metadata": {
    "collapsed": false
   }
  },
  {
   "cell_type": "code",
   "execution_count": 3,
   "outputs": [
    {
     "name": "stdout",
     "output_type": "stream",
     "text": [
      "Model: \"CNN_2D_TF\"\n",
      "_________________________________________________________________\n",
      " Layer (type)                Output Shape              Param #   \n",
      "=================================================================\n",
      " conv2d (Conv2D)             (None, 28, 28, 16)        160       \n",
      "                                                                 \n",
      " max_pooling2d (MaxPooling2D  (None, 14, 14, 16)       0         \n",
      " )                                                               \n",
      "                                                                 \n",
      " conv2d_1 (Conv2D)           (None, 14, 14, 32)        4640      \n",
      "                                                                 \n",
      " max_pooling2d_1 (MaxPooling  (None, 7, 7, 32)         0         \n",
      " 2D)                                                             \n",
      "                                                                 \n",
      " test_conv (Conv2D)          (None, 7, 7, 64)          18496     \n",
      "                                                                 \n",
      " max_pooling2d_2 (MaxPooling  (None, 3, 3, 64)         0         \n",
      " 2D)                                                             \n",
      "                                                                 \n",
      " flatten (Flatten)           (None, 576)               0         \n",
      "                                                                 \n",
      " dense (Dense)               (None, 128)               73856     \n",
      "                                                                 \n",
      " dense_1 (Dense)             (None, 10)                1290      \n",
      "                                                                 \n",
      "=================================================================\n",
      "Total params: 98,442\n",
      "Trainable params: 98,442\n",
      "Non-trainable params: 0\n",
      "_________________________________________________________________\n"
     ]
    }
   ],
   "source": [
    "model = quantus.CNN_2D_TF(28, 28, 10, num_channels=1)\n",
    "model.compile(\n",
    "    optimizer=tfa.optimizers.AdamW(weight_decay=0.004),\n",
    "    loss=tf.keras.losses.SparseCategoricalCrossentropy(from_logits=True),\n",
    "    metrics = ['accuracy']\n",
    ")\n",
    "model.summary()"
   ],
   "metadata": {
    "collapsed": false
   }
  },
  {
   "cell_type": "markdown",
   "source": [
    "#### Train the model"
   ],
   "metadata": {
    "collapsed": false
   }
  },
  {
   "cell_type": "code",
   "execution_count": 4,
   "outputs": [
    {
     "name": "stdout",
     "output_type": "stream",
     "text": [
      "Epoch 1/5\n",
      "59/59 [==============================] - 11s 143ms/step - loss: 3.3322 - accuracy: 0.5845 - val_loss: 0.4533 - val_accuracy: 0.8860\n",
      "Epoch 2/5\n",
      "59/59 [==============================] - 7s 123ms/step - loss: 0.3016 - accuracy: 0.9227 - val_loss: 0.1875 - val_accuracy: 0.9541\n",
      "Epoch 3/5\n",
      "59/59 [==============================] - 10s 168ms/step - loss: 0.1664 - accuracy: 0.9581 - val_loss: 0.1195 - val_accuracy: 0.9676\n",
      "Epoch 4/5\n",
      "59/59 [==============================] - 10s 176ms/step - loss: 0.1171 - accuracy: 0.9698 - val_loss: 0.0889 - val_accuracy: 0.9744\n",
      "Epoch 5/5\n",
      "59/59 [==============================] - 11s 187ms/step - loss: 0.0986 - accuracy: 0.9733 - val_loss: 0.0828 - val_accuracy: 0.9758\n"
     ]
    },
    {
     "data": {
      "text/plain": "<keras.callbacks.History at 0x7fceb0c91d90>"
     },
     "execution_count": 4,
     "metadata": {},
     "output_type": "execute_result"
    }
   ],
   "source": [
    "model.fit(train_ds, validation_data=val_ds, epochs=5)"
   ],
   "metadata": {
    "collapsed": false
   }
  },
  {
   "cell_type": "markdown",
   "source": [
    "#### Save the weights"
   ],
   "metadata": {
    "collapsed": false
   }
  },
  {
   "cell_type": "code",
   "execution_count": 6,
   "outputs": [],
   "source": [
    "model.save_weights('assets/cnn_2d_mnist_weights.keras')"
   ],
   "metadata": {
    "collapsed": false
   }
  },
  {
   "cell_type": "markdown",
   "source": [
    "#### Load Cifar10 dataset"
   ],
   "metadata": {
    "collapsed": false
   }
  },
  {
   "cell_type": "code",
   "execution_count": 7,
   "outputs": [
    {
     "data": {
      "text/plain": "<PrefetchDataset element_spec=(TensorSpec(shape=(None, 32, 32, 3), dtype=tf.float32, name=None), TensorSpec(shape=(None,), dtype=tf.int64, name=None))>"
     },
     "execution_count": 7,
     "metadata": {},
     "output_type": "execute_result"
    }
   ],
   "source": [
    "train_ds, val_ds = tfds.load(\n",
    "    \"cifar10\",\n",
    "    try_gcs=True,\n",
    "    as_supervised=True,\n",
    "    split=[\"train\", \"test\"],\n",
    "    shuffle_files=True,\n",
    "    batch_size=BATCH_SIZE\n",
    ")\n",
    "\n",
    "def configure_ds(ds: tf.data.Dataset) -> tf.data.Dataset:\n",
    "    return (\n",
    "        ds\n",
    "        .map(lambda x, y: (tf.image.resize(x, (32, 32)),y))\n",
    "        .cache()\n",
    "        .prefetch(tf.data.experimental.AUTOTUNE)\n",
    "    )\n",
    "\n",
    "train_ds = configure_ds(train_ds)\n",
    "val_ds = configure_ds(val_ds)\n",
    "train_ds"
   ],
   "metadata": {
    "collapsed": false
   }
  },
  {
   "cell_type": "markdown",
   "source": [
    "#### Create 2D CNN model"
   ],
   "metadata": {
    "collapsed": false
   }
  },
  {
   "cell_type": "code",
   "execution_count": 8,
   "outputs": [
    {
     "name": "stdout",
     "output_type": "stream",
     "text": [
      "Model: \"CNN_2D_TF\"\n",
      "_________________________________________________________________\n",
      " Layer (type)                Output Shape              Param #   \n",
      "=================================================================\n",
      " conv2d_2 (Conv2D)           (None, 32, 32, 16)        448       \n",
      "                                                                 \n",
      " max_pooling2d_3 (MaxPooling  (None, 16, 16, 16)       0         \n",
      " 2D)                                                             \n",
      "                                                                 \n",
      " conv2d_3 (Conv2D)           (None, 16, 16, 32)        4640      \n",
      "                                                                 \n",
      " max_pooling2d_4 (MaxPooling  (None, 8, 8, 32)         0         \n",
      " 2D)                                                             \n",
      "                                                                 \n",
      " test_conv (Conv2D)          (None, 8, 8, 64)          18496     \n",
      "                                                                 \n",
      " max_pooling2d_5 (MaxPooling  (None, 4, 4, 64)         0         \n",
      " 2D)                                                             \n",
      "                                                                 \n",
      " flatten_1 (Flatten)         (None, 1024)              0         \n",
      "                                                                 \n",
      " dense_2 (Dense)             (None, 128)               131200    \n",
      "                                                                 \n",
      " dense_3 (Dense)             (None, 10)                1290      \n",
      "                                                                 \n",
      "=================================================================\n",
      "Total params: 156,074\n",
      "Trainable params: 156,074\n",
      "Non-trainable params: 0\n",
      "_________________________________________________________________\n"
     ]
    }
   ],
   "source": [
    "model = quantus.CNN_2D_TF(32, 32, 10, num_channels=3)\n",
    "model.compile(\n",
    "    optimizer=tfa.optimizers.AdamW(weight_decay=0.004),\n",
    "    loss=tf.keras.losses.SparseCategoricalCrossentropy(from_logits=True),\n",
    "    metrics = ['accuracy']\n",
    ")\n",
    "model.summary()"
   ],
   "metadata": {
    "collapsed": false
   }
  },
  {
   "cell_type": "markdown",
   "source": [
    "#### Train the model"
   ],
   "metadata": {
    "collapsed": false
   }
  },
  {
   "cell_type": "code",
   "execution_count": 9,
   "outputs": [
    {
     "name": "stdout",
     "output_type": "stream",
     "text": [
      "Epoch 1/10\n",
      "49/49 [==============================] - 14s 264ms/step - loss: 7.7008 - accuracy: 0.1673 - val_loss: 2.0049 - val_accuracy: 0.2839\n",
      "Epoch 2/10\n",
      "49/49 [==============================] - 11s 220ms/step - loss: 1.7794 - accuracy: 0.3649 - val_loss: 1.6296 - val_accuracy: 0.4122\n",
      "Epoch 3/10\n",
      "49/49 [==============================] - 9s 179ms/step - loss: 1.5621 - accuracy: 0.4417 - val_loss: 1.5063 - val_accuracy: 0.4638\n",
      "Epoch 4/10\n",
      "49/49 [==============================] - 7s 149ms/step - loss: 1.4745 - accuracy: 0.4753 - val_loss: 1.4425 - val_accuracy: 0.4986\n",
      "Epoch 5/10\n",
      "49/49 [==============================] - 9s 175ms/step - loss: 1.4194 - accuracy: 0.5006 - val_loss: 1.3949 - val_accuracy: 0.5126\n",
      "Epoch 6/10\n",
      "49/49 [==============================] - 8s 168ms/step - loss: 1.3852 - accuracy: 0.5114 - val_loss: 1.3543 - val_accuracy: 0.5322\n",
      "Epoch 7/10\n",
      "49/49 [==============================] - 9s 193ms/step - loss: 1.3799 - accuracy: 0.5153 - val_loss: 1.3629 - val_accuracy: 0.5218\n",
      "Epoch 8/10\n",
      "49/49 [==============================] - 8s 153ms/step - loss: 1.3621 - accuracy: 0.5186 - val_loss: 1.3278 - val_accuracy: 0.5381\n",
      "Epoch 9/10\n",
      "49/49 [==============================] - 7s 142ms/step - loss: 1.3566 - accuracy: 0.5222 - val_loss: 1.3232 - val_accuracy: 0.5379\n",
      "Epoch 10/10\n",
      "49/49 [==============================] - 7s 142ms/step - loss: 1.3461 - accuracy: 0.5256 - val_loss: 1.3141 - val_accuracy: 0.5409\n"
     ]
    },
    {
     "data": {
      "text/plain": "<keras.callbacks.History at 0x7fceb06e6d00>"
     },
     "execution_count": 9,
     "metadata": {},
     "output_type": "execute_result"
    }
   ],
   "source": [
    "model.fit(train_ds, validation_data=val_ds, epochs=10)"
   ],
   "metadata": {
    "collapsed": false
   }
  },
  {
   "cell_type": "markdown",
   "source": [
    "### Save the weights"
   ],
   "metadata": {
    "collapsed": false
   },
   "outputs": [
    {
     "name": "stdout",
     "output_type": "stream",
     "text": [
      " 484/1563 [========>.....................] - ETA: 33s - loss: 2.4691 - accuracy: 0.3367"
     ]
    }
   ]
  },
  {
   "cell_type": "code",
   "execution_count": 11,
   "outputs": [],
   "source": [
    "model.save_weights('assets/cnn_2d_cifar_weights.keras')"
   ],
   "metadata": {
    "collapsed": false
   }
  }
 ],
 "metadata": {
  "kernelspec": {
   "display_name": "Python 3",
   "language": "python",
   "name": "python3"
  },
  "language_info": {
   "codemirror_mode": {
    "name": "ipython",
    "version": 2
   },
   "file_extension": ".py",
   "mimetype": "text/x-python",
   "name": "python",
   "nbconvert_exporter": "python",
   "pygments_lexer": "ipython2",
   "version": "2.7.6"
  }
 },
 "nbformat": 4,
 "nbformat_minor": 0
}
