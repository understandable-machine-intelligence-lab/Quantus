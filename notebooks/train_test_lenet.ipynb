{
 "cells": [
  {
   "cell_type": "markdown",
   "source": [
    "#### In this notebook we train a LeNet5 model on MNIST dataset. <br> We will use it for testing Quantus"
   ],
   "metadata": {
    "collapsed": false
   }
  },
  {
   "cell_type": "code",
   "execution_count": 1,
   "outputs": [
    {
     "data": {
      "text/plain": "[PhysicalDevice(name='/physical_device:CPU:0', device_type='CPU'),\n PhysicalDevice(name='/physical_device:GPU:0', device_type='GPU')]"
     },
     "execution_count": 1,
     "metadata": {},
     "output_type": "execute_result"
    }
   ],
   "source": [
    "import tensorflow as tf\n",
    "import tensorflow_datasets as tfds\n",
    "import quantus\n",
    "import tensorflow_addons as tfa\n",
    "\n",
    "BATCH_SIZE = 1024\n",
    "\n",
    "tf.config.list_physical_devices()"
   ],
   "metadata": {
    "collapsed": false
   }
  },
  {
   "cell_type": "markdown",
   "source": [
    "#### Load MNIST dataset"
   ],
   "metadata": {
    "collapsed": false
   }
  },
  {
   "cell_type": "code",
   "execution_count": 2,
   "outputs": [
    {
     "name": "stdout",
     "output_type": "stream",
     "text": [
      "Metal device set to: AMD Radeon Pro 560\n"
     ]
    },
    {
     "data": {
      "text/plain": "<PrefetchDataset element_spec=(TensorSpec(shape=(None, 28, 28, 1), dtype=tf.float32, name=None), TensorSpec(shape=(None,), dtype=tf.int64, name=None))>"
     },
     "execution_count": 2,
     "metadata": {},
     "output_type": "execute_result"
    }
   ],
   "source": [
    "train_ds, val_ds = tfds.load(\n",
    "    \"mnist\",\n",
    "    try_gcs=True,\n",
    "    as_supervised=True,\n",
    "    split=[\"train\", \"test\"],\n",
    "    shuffle_files=True,\n",
    "    batch_size=BATCH_SIZE\n",
    ")\n",
    "\n",
    "def configure_ds(ds: tf.data.Dataset) -> tf.data.Dataset:\n",
    "    return (\n",
    "        ds\n",
    "        .map(lambda x, y: (tf.image.resize(x, (28, 28)),y))\n",
    "        .cache()\n",
    "        .prefetch(tf.data.experimental.AUTOTUNE)\n",
    "    )\n",
    "\n",
    "\n",
    "train_ds = configure_ds(train_ds)\n",
    "val_ds = configure_ds(val_ds)\n",
    "\n",
    "train_ds"
   ],
   "metadata": {
    "collapsed": false
   }
  },
  {
   "cell_type": "markdown",
   "source": [
    "#### Create LeNet model"
   ],
   "metadata": {
    "collapsed": false
   }
  },
  {
   "cell_type": "code",
   "execution_count": 4,
   "outputs": [
    {
     "name": "stdout",
     "output_type": "stream",
     "text": [
      "Model: \"LeNetTF\"\n",
      "_________________________________________________________________\n",
      " Layer (type)                Output Shape              Param #   \n",
      "=================================================================\n",
      " conv2d_2 (Conv2D)           (None, 26, 26, 6)         60        \n",
      "                                                                 \n",
      " average_pooling2d_2 (Averag  (None, 13, 13, 6)        0         \n",
      " ePooling2D)                                                     \n",
      "                                                                 \n",
      " conv2d_3 (Conv2D)           (None, 11, 11, 16)        880       \n",
      "                                                                 \n",
      " average_pooling2d_3 (Averag  (None, 5, 5, 16)         0         \n",
      " ePooling2D)                                                     \n",
      "                                                                 \n",
      " flatten_1 (Flatten)         (None, 400)               0         \n",
      "                                                                 \n",
      " dense_3 (Dense)             (None, 120)               48120     \n",
      "                                                                 \n",
      " dense_4 (Dense)             (None, 84)                10164     \n",
      "                                                                 \n",
      " dense_5 (Dense)             (None, 10)                850       \n",
      "                                                                 \n",
      "=================================================================\n",
      "Total params: 60,074\n",
      "Trainable params: 60,074\n",
      "Non-trainable params: 0\n",
      "_________________________________________________________________\n"
     ]
    }
   ],
   "source": [
    "model = quantus.LeNetTF()\n",
    "model.compile(\n",
    "    optimizer=tfa.optimizers.AdamW(weight_decay=0.004),\n",
    "    loss=tf.keras.losses.SparseCategoricalCrossentropy(from_logits=True),\n",
    "    metrics = ['accuracy']\n",
    ")\n",
    "model.summary()"
   ],
   "metadata": {
    "collapsed": false
   }
  },
  {
   "cell_type": "markdown",
   "source": [
    "#### Train the model"
   ],
   "metadata": {
    "collapsed": false
   }
  },
  {
   "cell_type": "code",
   "execution_count": 5,
   "outputs": [
    {
     "name": "stdout",
     "output_type": "stream",
     "text": [
      "Epoch 1/5\n",
      "59/59 [==============================] - 9s 89ms/step - loss: 3.6468 - accuracy: 0.6794 - val_loss: 0.3855 - val_accuracy: 0.9020\n",
      "Epoch 2/5\n",
      "59/59 [==============================] - 3s 59ms/step - loss: 0.3289 - accuracy: 0.9190 - val_loss: 0.2379 - val_accuracy: 0.9444\n",
      "Epoch 3/5\n",
      "59/59 [==============================] - 3s 59ms/step - loss: 0.2156 - accuracy: 0.9471 - val_loss: 0.1533 - val_accuracy: 0.9605\n",
      "Epoch 4/5\n",
      "59/59 [==============================] - 3s 58ms/step - loss: 0.1593 - accuracy: 0.9585 - val_loss: 0.1384 - val_accuracy: 0.9647\n",
      "Epoch 5/5\n",
      "59/59 [==============================] - 3s 58ms/step - loss: 0.1465 - accuracy: 0.9618 - val_loss: 0.1282 - val_accuracy: 0.9665\n"
     ]
    },
    {
     "data": {
      "text/plain": "<keras.callbacks.History at 0x7f86fc00ba00>"
     },
     "execution_count": 5,
     "metadata": {},
     "output_type": "execute_result"
    }
   ],
   "source": [
    "model.fit(train_ds, validation_data=val_ds, epochs=5)"
   ],
   "metadata": {
    "collapsed": false
   }
  },
  {
   "cell_type": "markdown",
   "source": [
    "#### Save the weights"
   ],
   "metadata": {
    "collapsed": false
   }
  },
  {
   "cell_type": "code",
   "execution_count": 6,
   "outputs": [],
   "source": [
    "model.save_weights('assets/lenet_mnist_weights.keras')"
   ],
   "metadata": {
    "collapsed": false
   }
  },
  {
   "cell_type": "code",
   "execution_count": null,
   "outputs": [],
   "source": [],
   "metadata": {
    "collapsed": false
   }
  }
 ],
 "metadata": {
  "kernelspec": {
   "display_name": "Python 3",
   "language": "python",
   "name": "python3"
  },
  "language_info": {
   "codemirror_mode": {
    "name": "ipython",
    "version": 2
   },
   "file_extension": ".py",
   "mimetype": "text/x-python",
   "name": "python",
   "nbconvert_exporter": "python",
   "pygments_lexer": "ipython2",
   "version": "2.7.6"
  }
 },
 "nbformat": 4,
 "nbformat_minor": 0
}
